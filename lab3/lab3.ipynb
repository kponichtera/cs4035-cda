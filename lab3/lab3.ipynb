{
 "cells": [
  {
   "cell_type": "markdown",
   "metadata": {},
   "source": [
    "# CS4035 - Cyber Data Analytics\n",
    "## Lab 3 "
   ]
  },
  {
   "cell_type": "markdown",
   "metadata": {},
   "source": [
    "## Group Number: 69"
   ]
  },
  {
   "cell_type": "markdown",
   "metadata": {},
   "source": [
    "## Student 1 \n",
    "### Name : Konrad Ponichtera\n",
    "### ID : 5580749"
   ]
  },
  {
   "cell_type": "markdown",
   "metadata": {},
   "source": [
    "## Student 2\n",
    "### Name : Ion Babalau\n",
    "### ID : 5626110"
   ]
  },
  {
   "cell_type": "code",
   "execution_count": 1,
   "metadata": {},
   "outputs": [],
   "source": [
    "import numpy as np\n",
    "import pandas as pd\n",
    "import seaborn as sns\n",
    "import matplotlib.pyplot as plt\n",
    "import nbformat\n",
    "\n",
    "from sklearn.preprocessing import StandardScaler, MinMaxScaler, KBinsDiscretizer\n"
   ]
  },
  {
   "cell_type": "code",
   "execution_count": 2,
   "metadata": {
    "tags": []
   },
   "outputs": [
    {
     "name": "stdout",
     "output_type": "stream",
     "text": [
      "Word count: 234\n"
     ]
    }
   ],
   "source": [
    "nb = nbformat.read(\"Lab3.ipynb\", nbformat.NO_CONVERT)\n",
    "word_count = 0\n",
    "for cell in nb.cells:\n",
    "    if cell.cell_type == \"markdown\":\n",
    "        word_count += len(cell['source'].replace('#', '').lstrip().split(' '))\n",
    "\n",
    "print(\"Word count:\", word_count)"
   ]
  },
  {
   "cell_type": "markdown",
   "metadata": {},
   "source": [
    "## README"
   ]
  },
  {
   "cell_type": "markdown",
   "metadata": {},
   "source": [
    "Expected location of dataset: _data_ directory, in same directory as notebook. \n",
    "All the necessary packages are specifeid in _requirements.txt_, and can be installed with the command: `pip install -r requirements.txt`"
   ]
  },
  {
   "cell_type": "markdown",
   "metadata": {},
   "source": [
    "## 1. Familiarization and discretization task – 1 A4 (5 Points)"
   ]
  },
  {
   "cell_type": "markdown",
   "metadata": {},
   "source": [
    "### 1a. Plot visualizations - Select and visualize two features for modeling the behavior of the infected host."
   ]
  },
  {
   "cell_type": "code",
   "execution_count": 3,
   "id": "91827442-5458-437a-b309-2debd775e102",
   "metadata": {},
   "outputs": [
    {
     "name": "stdout",
     "output_type": "stream",
     "text": [
      "Dataset size: 1309791\n"
     ]
    },
    {
     "data": {
      "text/html": [
       "<div>\n",
       "<style scoped>\n",
       "    .dataframe tbody tr th:only-of-type {\n",
       "        vertical-align: middle;\n",
       "    }\n",
       "\n",
       "    .dataframe tbody tr th {\n",
       "        vertical-align: top;\n",
       "    }\n",
       "\n",
       "    .dataframe thead th {\n",
       "        text-align: right;\n",
       "    }\n",
       "</style>\n",
       "<table border=\"1\" class=\"dataframe\">\n",
       "  <thead>\n",
       "    <tr style=\"text-align: right;\">\n",
       "      <th></th>\n",
       "      <th>StartTime</th>\n",
       "      <th>Dur</th>\n",
       "      <th>Proto</th>\n",
       "      <th>SrcAddr</th>\n",
       "      <th>Sport</th>\n",
       "      <th>Dir</th>\n",
       "      <th>DstAddr</th>\n",
       "      <th>Dport</th>\n",
       "      <th>State</th>\n",
       "      <th>sTos</th>\n",
       "      <th>dTos</th>\n",
       "      <th>TotPkts</th>\n",
       "      <th>TotBytes</th>\n",
       "      <th>SrcBytes</th>\n",
       "      <th>Label</th>\n",
       "    </tr>\n",
       "  </thead>\n",
       "  <tbody>\n",
       "    <tr>\n",
       "      <th>0</th>\n",
       "      <td>2011/08/18 10:21:46.633335</td>\n",
       "      <td>1.060248</td>\n",
       "      <td>tcp</td>\n",
       "      <td>93.45.239.29</td>\n",
       "      <td>1611</td>\n",
       "      <td>-&gt;</td>\n",
       "      <td>147.32.84.118</td>\n",
       "      <td>6881</td>\n",
       "      <td>S_RA</td>\n",
       "      <td>0.0</td>\n",
       "      <td>0.0</td>\n",
       "      <td>4</td>\n",
       "      <td>252</td>\n",
       "      <td>132</td>\n",
       "      <td>flow=Background-TCP-Attempt</td>\n",
       "    </tr>\n",
       "    <tr>\n",
       "      <th>1</th>\n",
       "      <td>2011/08/18 10:19:49.027650</td>\n",
       "      <td>279.349152</td>\n",
       "      <td>tcp</td>\n",
       "      <td>62.240.166.118</td>\n",
       "      <td>1031</td>\n",
       "      <td>&lt;?&gt;</td>\n",
       "      <td>147.32.84.229</td>\n",
       "      <td>13363</td>\n",
       "      <td>SRPA_PA</td>\n",
       "      <td>0.0</td>\n",
       "      <td>0.0</td>\n",
       "      <td>15</td>\n",
       "      <td>1318</td>\n",
       "      <td>955</td>\n",
       "      <td>flow=Background-TCP-Attempt</td>\n",
       "    </tr>\n",
       "    <tr>\n",
       "      <th>2</th>\n",
       "      <td>2011/08/18 10:22:07.160628</td>\n",
       "      <td>166.390015</td>\n",
       "      <td>tcp</td>\n",
       "      <td>147.32.86.148</td>\n",
       "      <td>58067</td>\n",
       "      <td>-&gt;</td>\n",
       "      <td>66.235.132.232</td>\n",
       "      <td>80</td>\n",
       "      <td>SR_SA</td>\n",
       "      <td>0.0</td>\n",
       "      <td>0.0</td>\n",
       "      <td>3</td>\n",
       "      <td>212</td>\n",
       "      <td>134</td>\n",
       "      <td>flow=Background-TCP-Established</td>\n",
       "    </tr>\n",
       "    <tr>\n",
       "      <th>3</th>\n",
       "      <td>2011/08/18 10:26:02.052163</td>\n",
       "      <td>1.187083</td>\n",
       "      <td>tcp</td>\n",
       "      <td>147.32.3.51</td>\n",
       "      <td>3130</td>\n",
       "      <td>-&gt;</td>\n",
       "      <td>147.32.84.46</td>\n",
       "      <td>10010</td>\n",
       "      <td>S_RA</td>\n",
       "      <td>0.0</td>\n",
       "      <td>0.0</td>\n",
       "      <td>4</td>\n",
       "      <td>244</td>\n",
       "      <td>124</td>\n",
       "      <td>flow=Background-TCP-Attempt</td>\n",
       "    </tr>\n",
       "    <tr>\n",
       "      <th>4</th>\n",
       "      <td>2011/08/18 10:26:52.226748</td>\n",
       "      <td>0.980571</td>\n",
       "      <td>tcp</td>\n",
       "      <td>88.212.37.169</td>\n",
       "      <td>3134</td>\n",
       "      <td>-&gt;</td>\n",
       "      <td>147.32.84.118</td>\n",
       "      <td>6881</td>\n",
       "      <td>S_RA</td>\n",
       "      <td>0.0</td>\n",
       "      <td>0.0</td>\n",
       "      <td>4</td>\n",
       "      <td>244</td>\n",
       "      <td>124</td>\n",
       "      <td>flow=Background-TCP-Attempt</td>\n",
       "    </tr>\n",
       "  </tbody>\n",
       "</table>\n",
       "</div>"
      ],
      "text/plain": [
       "                    StartTime         Dur Proto         SrcAddr  Sport    Dir  \\\n",
       "0  2011/08/18 10:21:46.633335    1.060248   tcp    93.45.239.29   1611     ->   \n",
       "1  2011/08/18 10:19:49.027650  279.349152   tcp  62.240.166.118   1031    <?>   \n",
       "2  2011/08/18 10:22:07.160628  166.390015   tcp   147.32.86.148  58067     ->   \n",
       "3  2011/08/18 10:26:02.052163    1.187083   tcp     147.32.3.51   3130     ->   \n",
       "4  2011/08/18 10:26:52.226748    0.980571   tcp   88.212.37.169   3134     ->   \n",
       "\n",
       "          DstAddr  Dport    State  sTos  dTos  TotPkts  TotBytes  SrcBytes  \\\n",
       "0   147.32.84.118   6881     S_RA   0.0   0.0        4       252       132   \n",
       "1   147.32.84.229  13363  SRPA_PA   0.0   0.0       15      1318       955   \n",
       "2  66.235.132.232     80    SR_SA   0.0   0.0        3       212       134   \n",
       "3    147.32.84.46  10010     S_RA   0.0   0.0        4       244       124   \n",
       "4   147.32.84.118   6881     S_RA   0.0   0.0        4       244       124   \n",
       "\n",
       "                             Label  \n",
       "0      flow=Background-TCP-Attempt  \n",
       "1      flow=Background-TCP-Attempt  \n",
       "2  flow=Background-TCP-Established  \n",
       "3      flow=Background-TCP-Attempt  \n",
       "4      flow=Background-TCP-Attempt  "
      ]
     },
     "execution_count": 3,
     "metadata": {},
     "output_type": "execute_result"
    }
   ],
   "source": [
    "df = pd.read_csv(\"data/dataset_10/capture20110818.binetflow\")\n",
    "\n",
    "infected_hosts = [\n",
    "'147.32.84.165',\n",
    "'147.32.84.191',\n",
    "'147.32.84.192',\n",
    "'147.32.84.193',\n",
    "'147.32.84.204',\n",
    "'147.32.84.205',\n",
    "'147.32.84.206',\n",
    "'147.32.84.207',\n",
    "'147.32.84.208',\n",
    "'147.32.84.209'\n",
    "]\n",
    "\n",
    "print('Dataset size:', len(df))\n",
    "\n",
    "df.head()"
   ]
  },
  {
   "cell_type": "markdown",
   "id": "539df031-eb75-40d1-9203-661519ad0e7d",
   "metadata": {},
   "source": [
    "### Analyzing labels"
   ]
  },
  {
   "cell_type": "code",
   "execution_count": 4,
   "id": "d48d2e63-0b00-49cc-944c-f5fdef074103",
   "metadata": {},
   "outputs": [],
   "source": [
    "def filter_benign(df):\n",
    "    return df[~df['SrcAddr'].isin(infected_hosts)]\n",
    "\n",
    "def filter_infected(df):\n",
    "    return df[df['SrcAddr'].isin(infected_hosts)]"
   ]
  },
  {
   "cell_type": "code",
   "execution_count": 5,
   "metadata": {},
   "outputs": [
    {
     "name": "stdout",
     "output_type": "stream",
     "text": [
      "Data entries count: 1309791\n",
      "Data entries count from benign hosts: 1203426\n",
      "Data entries count from infected hosts: 106365\n"
     ]
    }
   ],
   "source": [
    "df_benign = filter_benign(df)\n",
    "df_infected = filter_infected(df)\n",
    "\n",
    "print('Data entries count:', len(df))\n",
    "print('Data entries count from benign hosts:', len(df_benign))\n",
    "print('Data entries count from infected hosts:', len(df_infected))"
   ]
  },
  {
   "cell_type": "code",
   "execution_count": 6,
   "metadata": {},
   "outputs": [
    {
     "data": {
      "text/html": [
       "<div>\n",
       "<style scoped>\n",
       "    .dataframe tbody tr th:only-of-type {\n",
       "        vertical-align: middle;\n",
       "    }\n",
       "\n",
       "    .dataframe tbody tr th {\n",
       "        vertical-align: top;\n",
       "    }\n",
       "\n",
       "    .dataframe thead th {\n",
       "        text-align: right;\n",
       "    }\n",
       "</style>\n",
       "<table border=\"1\" class=\"dataframe\">\n",
       "  <thead>\n",
       "    <tr style=\"text-align: right;\">\n",
       "      <th></th>\n",
       "      <th>StartTime</th>\n",
       "      <th>Dur</th>\n",
       "      <th>Proto</th>\n",
       "      <th>SrcAddr</th>\n",
       "      <th>Sport</th>\n",
       "      <th>Dir</th>\n",
       "      <th>DstAddr</th>\n",
       "      <th>Dport</th>\n",
       "      <th>State</th>\n",
       "      <th>sTos</th>\n",
       "      <th>dTos</th>\n",
       "      <th>TotPkts</th>\n",
       "      <th>TotBytes</th>\n",
       "      <th>SrcBytes</th>\n",
       "      <th>Label</th>\n",
       "    </tr>\n",
       "  </thead>\n",
       "  <tbody>\n",
       "    <tr>\n",
       "      <th>0</th>\n",
       "      <td>2011/08/18 10:21:46.633335</td>\n",
       "      <td>1.060248</td>\n",
       "      <td>tcp</td>\n",
       "      <td>93.45.239.29</td>\n",
       "      <td>1611</td>\n",
       "      <td>-&gt;</td>\n",
       "      <td>147.32.84.118</td>\n",
       "      <td>6881</td>\n",
       "      <td>S_RA</td>\n",
       "      <td>0.0</td>\n",
       "      <td>0.0</td>\n",
       "      <td>4</td>\n",
       "      <td>252</td>\n",
       "      <td>132</td>\n",
       "      <td>flow=Background-TCP-Attempt</td>\n",
       "    </tr>\n",
       "    <tr>\n",
       "      <th>1</th>\n",
       "      <td>2011/08/18 10:19:49.027650</td>\n",
       "      <td>279.349152</td>\n",
       "      <td>tcp</td>\n",
       "      <td>62.240.166.118</td>\n",
       "      <td>1031</td>\n",
       "      <td>&lt;?&gt;</td>\n",
       "      <td>147.32.84.229</td>\n",
       "      <td>13363</td>\n",
       "      <td>SRPA_PA</td>\n",
       "      <td>0.0</td>\n",
       "      <td>0.0</td>\n",
       "      <td>15</td>\n",
       "      <td>1318</td>\n",
       "      <td>955</td>\n",
       "      <td>flow=Background-TCP-Attempt</td>\n",
       "    </tr>\n",
       "    <tr>\n",
       "      <th>2</th>\n",
       "      <td>2011/08/18 10:22:07.160628</td>\n",
       "      <td>166.390015</td>\n",
       "      <td>tcp</td>\n",
       "      <td>147.32.86.148</td>\n",
       "      <td>58067</td>\n",
       "      <td>-&gt;</td>\n",
       "      <td>66.235.132.232</td>\n",
       "      <td>80</td>\n",
       "      <td>SR_SA</td>\n",
       "      <td>0.0</td>\n",
       "      <td>0.0</td>\n",
       "      <td>3</td>\n",
       "      <td>212</td>\n",
       "      <td>134</td>\n",
       "      <td>flow=Background-TCP-Established</td>\n",
       "    </tr>\n",
       "    <tr>\n",
       "      <th>3</th>\n",
       "      <td>2011/08/18 10:26:02.052163</td>\n",
       "      <td>1.187083</td>\n",
       "      <td>tcp</td>\n",
       "      <td>147.32.3.51</td>\n",
       "      <td>3130</td>\n",
       "      <td>-&gt;</td>\n",
       "      <td>147.32.84.46</td>\n",
       "      <td>10010</td>\n",
       "      <td>S_RA</td>\n",
       "      <td>0.0</td>\n",
       "      <td>0.0</td>\n",
       "      <td>4</td>\n",
       "      <td>244</td>\n",
       "      <td>124</td>\n",
       "      <td>flow=Background-TCP-Attempt</td>\n",
       "    </tr>\n",
       "    <tr>\n",
       "      <th>4</th>\n",
       "      <td>2011/08/18 10:26:52.226748</td>\n",
       "      <td>0.980571</td>\n",
       "      <td>tcp</td>\n",
       "      <td>88.212.37.169</td>\n",
       "      <td>3134</td>\n",
       "      <td>-&gt;</td>\n",
       "      <td>147.32.84.118</td>\n",
       "      <td>6881</td>\n",
       "      <td>S_RA</td>\n",
       "      <td>0.0</td>\n",
       "      <td>0.0</td>\n",
       "      <td>4</td>\n",
       "      <td>244</td>\n",
       "      <td>124</td>\n",
       "      <td>flow=Background-TCP-Attempt</td>\n",
       "    </tr>\n",
       "  </tbody>\n",
       "</table>\n",
       "</div>"
      ],
      "text/plain": [
       "                    StartTime         Dur Proto         SrcAddr  Sport    Dir  \\\n",
       "0  2011/08/18 10:21:46.633335    1.060248   tcp    93.45.239.29   1611     ->   \n",
       "1  2011/08/18 10:19:49.027650  279.349152   tcp  62.240.166.118   1031    <?>   \n",
       "2  2011/08/18 10:22:07.160628  166.390015   tcp   147.32.86.148  58067     ->   \n",
       "3  2011/08/18 10:26:02.052163    1.187083   tcp     147.32.3.51   3130     ->   \n",
       "4  2011/08/18 10:26:52.226748    0.980571   tcp   88.212.37.169   3134     ->   \n",
       "\n",
       "          DstAddr  Dport    State  sTos  dTos  TotPkts  TotBytes  SrcBytes  \\\n",
       "0   147.32.84.118   6881     S_RA   0.0   0.0        4       252       132   \n",
       "1   147.32.84.229  13363  SRPA_PA   0.0   0.0       15      1318       955   \n",
       "2  66.235.132.232     80    SR_SA   0.0   0.0        3       212       134   \n",
       "3    147.32.84.46  10010     S_RA   0.0   0.0        4       244       124   \n",
       "4   147.32.84.118   6881     S_RA   0.0   0.0        4       244       124   \n",
       "\n",
       "                             Label  \n",
       "0      flow=Background-TCP-Attempt  \n",
       "1      flow=Background-TCP-Attempt  \n",
       "2  flow=Background-TCP-Established  \n",
       "3      flow=Background-TCP-Attempt  \n",
       "4      flow=Background-TCP-Attempt  "
      ]
     },
     "execution_count": 6,
     "metadata": {},
     "output_type": "execute_result"
    }
   ],
   "source": [
    "df_benign.head()"
   ]
  },
  {
   "cell_type": "code",
   "execution_count": 7,
   "id": "57c8141a-ecc7-4330-baeb-021c9443668a",
   "metadata": {},
   "outputs": [
    {
     "data": {
      "text/html": [
       "<div>\n",
       "<style scoped>\n",
       "    .dataframe tbody tr th:only-of-type {\n",
       "        vertical-align: middle;\n",
       "    }\n",
       "\n",
       "    .dataframe tbody tr th {\n",
       "        vertical-align: top;\n",
       "    }\n",
       "\n",
       "    .dataframe thead th {\n",
       "        text-align: right;\n",
       "    }\n",
       "</style>\n",
       "<table border=\"1\" class=\"dataframe\">\n",
       "  <thead>\n",
       "    <tr style=\"text-align: right;\">\n",
       "      <th></th>\n",
       "      <th>StartTime</th>\n",
       "      <th>Dur</th>\n",
       "      <th>Proto</th>\n",
       "      <th>SrcAddr</th>\n",
       "      <th>Sport</th>\n",
       "      <th>Dir</th>\n",
       "      <th>DstAddr</th>\n",
       "      <th>Dport</th>\n",
       "      <th>State</th>\n",
       "      <th>sTos</th>\n",
       "      <th>dTos</th>\n",
       "      <th>TotPkts</th>\n",
       "      <th>TotBytes</th>\n",
       "      <th>SrcBytes</th>\n",
       "      <th>Label</th>\n",
       "    </tr>\n",
       "  </thead>\n",
       "  <tbody>\n",
       "    <tr>\n",
       "      <th>90622</th>\n",
       "      <td>2011/08/18 10:37:58.448307</td>\n",
       "      <td>0.000342</td>\n",
       "      <td>udp</td>\n",
       "      <td>147.32.84.165</td>\n",
       "      <td>1025</td>\n",
       "      <td>&lt;-&gt;</td>\n",
       "      <td>147.32.80.9</td>\n",
       "      <td>53</td>\n",
       "      <td>CON</td>\n",
       "      <td>0.0</td>\n",
       "      <td>0.0</td>\n",
       "      <td>2</td>\n",
       "      <td>203</td>\n",
       "      <td>64</td>\n",
       "      <td>flow=From-Botnet-V51-1-UDP-DNS</td>\n",
       "    </tr>\n",
       "    <tr>\n",
       "      <th>90808</th>\n",
       "      <td>2011/08/18 10:38:00.695278</td>\n",
       "      <td>0.010278</td>\n",
       "      <td>udp</td>\n",
       "      <td>147.32.84.165</td>\n",
       "      <td>1025</td>\n",
       "      <td>&lt;-&gt;</td>\n",
       "      <td>147.32.80.9</td>\n",
       "      <td>53</td>\n",
       "      <td>CON</td>\n",
       "      <td>0.0</td>\n",
       "      <td>0.0</td>\n",
       "      <td>2</td>\n",
       "      <td>590</td>\n",
       "      <td>87</td>\n",
       "      <td>flow=From-Botnet-V51-1-UDP-DNS</td>\n",
       "    </tr>\n",
       "    <tr>\n",
       "      <th>90809</th>\n",
       "      <td>2011/08/18 10:38:00.706560</td>\n",
       "      <td>0.043726</td>\n",
       "      <td>tcp</td>\n",
       "      <td>147.32.84.165</td>\n",
       "      <td>1027</td>\n",
       "      <td>-&gt;</td>\n",
       "      <td>74.125.232.206</td>\n",
       "      <td>80</td>\n",
       "      <td>SRPA_SPA</td>\n",
       "      <td>0.0</td>\n",
       "      <td>0.0</td>\n",
       "      <td>7</td>\n",
       "      <td>882</td>\n",
       "      <td>629</td>\n",
       "      <td>flow=From-Botnet-V51-1-TCP-HTTP-Google-Net-Est...</td>\n",
       "    </tr>\n",
       "    <tr>\n",
       "      <th>90965</th>\n",
       "      <td>2011/08/18 10:38:03.255934</td>\n",
       "      <td>0.010256</td>\n",
       "      <td>udp</td>\n",
       "      <td>147.32.84.165</td>\n",
       "      <td>1025</td>\n",
       "      <td>&lt;-&gt;</td>\n",
       "      <td>147.32.80.9</td>\n",
       "      <td>53</td>\n",
       "      <td>CON</td>\n",
       "      <td>0.0</td>\n",
       "      <td>0.0</td>\n",
       "      <td>2</td>\n",
       "      <td>479</td>\n",
       "      <td>76</td>\n",
       "      <td>flow=From-Botnet-V51-1-UDP-DNS</td>\n",
       "    </tr>\n",
       "    <tr>\n",
       "      <th>90968</th>\n",
       "      <td>2011/08/18 10:38:03.267222</td>\n",
       "      <td>581.516663</td>\n",
       "      <td>udp</td>\n",
       "      <td>147.32.84.165</td>\n",
       "      <td>123</td>\n",
       "      <td>-&gt;</td>\n",
       "      <td>65.55.56.40</td>\n",
       "      <td>123</td>\n",
       "      <td>INT</td>\n",
       "      <td>0.0</td>\n",
       "      <td>NaN</td>\n",
       "      <td>4</td>\n",
       "      <td>360</td>\n",
       "      <td>360</td>\n",
       "      <td>flow=From-Botnet-V51-1-UDP-Attempt</td>\n",
       "    </tr>\n",
       "  </tbody>\n",
       "</table>\n",
       "</div>"
      ],
      "text/plain": [
       "                        StartTime         Dur Proto        SrcAddr Sport  \\\n",
       "90622  2011/08/18 10:37:58.448307    0.000342   udp  147.32.84.165  1025   \n",
       "90808  2011/08/18 10:38:00.695278    0.010278   udp  147.32.84.165  1025   \n",
       "90809  2011/08/18 10:38:00.706560    0.043726   tcp  147.32.84.165  1027   \n",
       "90965  2011/08/18 10:38:03.255934    0.010256   udp  147.32.84.165  1025   \n",
       "90968  2011/08/18 10:38:03.267222  581.516663   udp  147.32.84.165   123   \n",
       "\n",
       "         Dir         DstAddr Dport     State  sTos  dTos  TotPkts  TotBytes  \\\n",
       "90622    <->     147.32.80.9    53       CON   0.0   0.0        2       203   \n",
       "90808    <->     147.32.80.9    53       CON   0.0   0.0        2       590   \n",
       "90809     ->  74.125.232.206    80  SRPA_SPA   0.0   0.0        7       882   \n",
       "90965    <->     147.32.80.9    53       CON   0.0   0.0        2       479   \n",
       "90968     ->     65.55.56.40   123       INT   0.0   NaN        4       360   \n",
       "\n",
       "       SrcBytes                                              Label  \n",
       "90622        64                     flow=From-Botnet-V51-1-UDP-DNS  \n",
       "90808        87                     flow=From-Botnet-V51-1-UDP-DNS  \n",
       "90809       629  flow=From-Botnet-V51-1-TCP-HTTP-Google-Net-Est...  \n",
       "90965        76                     flow=From-Botnet-V51-1-UDP-DNS  \n",
       "90968       360                 flow=From-Botnet-V51-1-UDP-Attempt  "
      ]
     },
     "execution_count": 7,
     "metadata": {},
     "output_type": "execute_result"
    }
   ],
   "source": [
    "df_infected.head()\n",
    "#df_infected.Label.unique()"
   ]
  },
  {
   "cell_type": "markdown",
   "id": "6fb26e10-fabf-450b-8f50-5a5da928bcb0",
   "metadata": {
    "tags": []
   },
   "source": [
    "### Visualizing features"
   ]
  },
  {
   "cell_type": "code",
   "execution_count": 8,
   "id": "fe506fd6-5b14-4ebe-9446-31b74c503b69",
   "metadata": {},
   "outputs": [
    {
     "data": {
      "image/png": "[encoded data removed]",
      "text/plain": [
       "<Figure size 1800x720 with 4 Axes>"
      ]
     },
     "metadata": {
      "needs_background": "light"
     },
     "output_type": "display_data"
    }
   ],
   "source": [
    "_, (ax1, ax2) = plt.subplots(1, 2, figsize=(25, 10))\n",
    "\n",
    "ax1.set_title('Correlation of features for benign hosts')\n",
    "sns.heatmap(df_benign.corr(), ax=ax1)\n",
    "\n",
    "ax2.set_title('Correlation of features for infected hosts')\n",
    "sns.heatmap(df_infected.corr(), ax=ax2)\n",
    "\n",
    "plt.show()"
   ]
  },
  {
   "cell_type": "code",
   "execution_count": 9,
   "id": "7051e228-d650-49fd-9e34-08c3c2d644c7",
   "metadata": {},
   "outputs": [
    {
     "data": {
      "image/png": "[encoded data removed]",
      "text/plain": [
       "<Figure size 1800x360 with 1 Axes>"
      ]
     },
     "metadata": {
      "needs_background": "light"
     },
     "output_type": "display_data"
    },
    {
     "data": {
      "image/png": "[encoded data removed]",
      "text/plain": [
       "<Figure size 1800x360 with 1 Axes>"
      ]
     },
     "metadata": {
      "needs_background": "light"
     },
     "output_type": "display_data"
    }
   ],
   "source": [
    "features = ['TotPkts', 'Dur']\n",
    "\n",
    "df_fragment = df[400000:600000]\n",
    "\n",
    "df_fragment_infected = filter_infected(df_fragment)\n",
    "df_fragment_benign = filter_benign(df_fragment)\n",
    "\n",
    "_, ax = plt.subplots(1, 1, figsize=(25, 5))\n",
    "ax.plot(df_fragment_benign[features[0]])\n",
    "ax.plot(df_fragment_infected[features[0]])\n",
    "ax.set_title(features[0] + ' for infected vs benign hosts')\n",
    "ax.legend(labels=['Benign', 'Infected'])\n",
    "plt.show()\n",
    "\n",
    "_, ax = plt.subplots(1, 1, figsize=(25, 5))\n",
    "ax.plot(df_fragment_benign[features[1]])\n",
    "ax.plot(df_fragment_infected[features[1]])\n",
    "ax.set_title(features[1] + ' for infected vs benign hosts')\n",
    "ax.legend(labels=['Benign', 'Infected'])\n",
    "plt.show()\n"
   ]
  },
  {
   "cell_type": "markdown",
   "metadata": {},
   "source": [
    "### 1b. Discretize selected features"
   ]
  },
  {
   "cell_type": "code",
   "execution_count": 10,
   "id": "cc39aef2-d839-47a2-96f5-fb64e6d1dd4d",
   "metadata": {},
   "outputs": [],
   "source": [
    "def discretize(discretizer, feature_array):\n",
    "    \"\"\"\n",
    "    Discretizes the passed data.\n",
    "\n",
    "    Arguments:\n",
    "        discretizer: Discretizer, fitted with the learning data\n",
    "        feature_array: Numpy array with data to discretize, using the passed discretizer\n",
    "    Returns:\n",
    "        Discretized data, passed as feature_array argument\n",
    "    \"\"\"\n",
    "    bins = discretizer.transform(feature_array)[:, 0]\n",
    "    vectorizer = np.vectorize(lambda x: int(discretizer.bin_edges_[0][int(x)]))\n",
    "\n",
    "    return vectorizer(bins)"
   ]
  },
  {
   "cell_type": "code",
   "execution_count": 11,
   "metadata": {},
   "outputs": [
    {
     "data": {
      "image/png": "[encoded data removed]",
      "text/plain": [
       "<Figure size 1800x360 with 1 Axes>"
      ]
     },
     "metadata": {
      "needs_background": "light"
     },
     "output_type": "display_data"
    },
    {
     "data": {
      "image/png": "[encoded data removed]",
      "text/plain": [
       "<Figure size 1800x360 with 1 Axes>"
      ]
     },
     "metadata": {
      "needs_background": "light"
     },
     "output_type": "display_data"
    },
    {
     "data": {
      "image/png": "[encoded data removed]",
      "text/plain": [
       "<Figure size 1800x360 with 1 Axes>"
      ]
     },
     "metadata": {
      "needs_background": "light"
     },
     "output_type": "display_data"
    }
   ],
   "source": [
    "# Ignoring the FutureWarning which is internally thrown by NearestNeighbors\n",
    "#warnings.simplefilter(action='ignore', category=UserWarning)\n",
    "# choose a host\n",
    "from sklearn.decomposition import PCA\n",
    "host = '147.32.84.165'\n",
    "df_host = df[df['SrcAddr'] == host]\n",
    "\n",
    "for i in range(len(features)):\n",
    "    _, ax = plt.subplots(1, 1, figsize=(25, 5))\n",
    "    ax.plot(df_host[features[i]])\n",
    "    ax.legend(labels=[f'{features[i]} before discretzation'], loc='upper right')\n",
    "    ax.set_title(f'{features[i]} before discretization for infected host 147.32.84.165') \n",
    "    plt.show()\n",
    "\n",
    "features_combined = df_host[features].copy()\n",
    "pca = PCA(n_components=1, random_state=0)\n",
    "features_reduced = pca.fit_transform(features_combined)\n",
    "discretizer = KBinsDiscretizer(n_bins=30, strategy='uniform', encode='ordinal')\n",
    "discretizer.fit(features_reduced)\n",
    "feature_discretized = discretize(discretizer, features_reduced)\n",
    "\n",
    "_, ax = plt.subplots(1, 1, figsize=(25, 5))\n",
    "#ax.set_ylim([None, 20])\n",
    "ax.plot(feature_discretized)\n",
    "ax.set_title(f'Combined features after after discretization for infected host 147.32.84.165') \n",
    "plt.show()"
   ]
  },
  {
   "cell_type": "code",
   "execution_count": 34,
   "metadata": {},
   "outputs": [
    {
     "data": {
      "image/png": "[encoded data removed]",
      "text/plain": [
       "<Figure size 1800x360 with 1 Axes>"
      ]
     },
     "metadata": {
      "needs_background": "light"
     },
     "output_type": "display_data"
    },
    {
     "data": {
      "image/png": "[encoded data removed]",
      "text/plain": [
       "<Figure size 1800x360 with 1 Axes>"
      ]
     },
     "metadata": {
      "needs_background": "light"
     },
     "output_type": "display_data"
    },
    {
     "data": {
      "image/png": "[encoded data removed]",
      "text/plain": [
       "<Figure size 1800x360 with 1 Axes>"
      ]
     },
     "metadata": {
      "needs_background": "light"
     },
     "output_type": "display_data"
    },
    {
     "data": {
      "text/html": [
       "<div>\n",
       "<style scoped>\n",
       "    .dataframe tbody tr th:only-of-type {\n",
       "        vertical-align: middle;\n",
       "    }\n",
       "\n",
       "    .dataframe tbody tr th {\n",
       "        vertical-align: top;\n",
       "    }\n",
       "\n",
       "    .dataframe thead th {\n",
       "        text-align: right;\n",
       "    }\n",
       "</style>\n",
       "<table border=\"1\" class=\"dataframe\">\n",
       "  <thead>\n",
       "    <tr style=\"text-align: right;\">\n",
       "      <th></th>\n",
       "      <th>StartTime</th>\n",
       "      <th>Dur</th>\n",
       "      <th>Proto</th>\n",
       "      <th>SrcAddr</th>\n",
       "      <th>Sport</th>\n",
       "      <th>Dir</th>\n",
       "      <th>DstAddr</th>\n",
       "      <th>Dport</th>\n",
       "      <th>State</th>\n",
       "      <th>sTos</th>\n",
       "      <th>dTos</th>\n",
       "      <th>TotPkts</th>\n",
       "      <th>TotBytes</th>\n",
       "      <th>SrcBytes</th>\n",
       "      <th>Label</th>\n",
       "      <th>TotPkts_Dur</th>\n",
       "    </tr>\n",
       "  </thead>\n",
       "  <tbody>\n",
       "    <tr>\n",
       "      <th>0</th>\n",
       "      <td>2011/08/18 10:21:46.633335</td>\n",
       "      <td>1.060248</td>\n",
       "      <td>tcp</td>\n",
       "      <td>93.45.239.29</td>\n",
       "      <td>1611</td>\n",
       "      <td>-&gt;</td>\n",
       "      <td>147.32.84.118</td>\n",
       "      <td>6881</td>\n",
       "      <td>S_RA</td>\n",
       "      <td>0.0</td>\n",
       "      <td>0.0</td>\n",
       "      <td>4</td>\n",
       "      <td>252</td>\n",
       "      <td>132</td>\n",
       "      <td>flow=Background-TCP-Attempt</td>\n",
       "      <td>-48</td>\n",
       "    </tr>\n",
       "    <tr>\n",
       "      <th>1</th>\n",
       "      <td>2011/08/18 10:19:49.027650</td>\n",
       "      <td>279.349152</td>\n",
       "      <td>tcp</td>\n",
       "      <td>62.240.166.118</td>\n",
       "      <td>1031</td>\n",
       "      <td>&lt;?&gt;</td>\n",
       "      <td>147.32.84.229</td>\n",
       "      <td>13363</td>\n",
       "      <td>SRPA_PA</td>\n",
       "      <td>0.0</td>\n",
       "      <td>0.0</td>\n",
       "      <td>15</td>\n",
       "      <td>1318</td>\n",
       "      <td>955</td>\n",
       "      <td>flow=Background-TCP-Attempt</td>\n",
       "      <td>-48</td>\n",
       "    </tr>\n",
       "    <tr>\n",
       "      <th>2</th>\n",
       "      <td>2011/08/18 10:22:07.160628</td>\n",
       "      <td>166.390015</td>\n",
       "      <td>tcp</td>\n",
       "      <td>147.32.86.148</td>\n",
       "      <td>58067</td>\n",
       "      <td>-&gt;</td>\n",
       "      <td>66.235.132.232</td>\n",
       "      <td>80</td>\n",
       "      <td>SR_SA</td>\n",
       "      <td>0.0</td>\n",
       "      <td>0.0</td>\n",
       "      <td>3</td>\n",
       "      <td>212</td>\n",
       "      <td>134</td>\n",
       "      <td>flow=Background-TCP-Established</td>\n",
       "      <td>-48</td>\n",
       "    </tr>\n",
       "    <tr>\n",
       "      <th>3</th>\n",
       "      <td>2011/08/18 10:26:02.052163</td>\n",
       "      <td>1.187083</td>\n",
       "      <td>tcp</td>\n",
       "      <td>147.32.3.51</td>\n",
       "      <td>3130</td>\n",
       "      <td>-&gt;</td>\n",
       "      <td>147.32.84.46</td>\n",
       "      <td>10010</td>\n",
       "      <td>S_RA</td>\n",
       "      <td>0.0</td>\n",
       "      <td>0.0</td>\n",
       "      <td>4</td>\n",
       "      <td>244</td>\n",
       "      <td>124</td>\n",
       "      <td>flow=Background-TCP-Attempt</td>\n",
       "      <td>-48</td>\n",
       "    </tr>\n",
       "    <tr>\n",
       "      <th>4</th>\n",
       "      <td>2011/08/18 10:26:52.226748</td>\n",
       "      <td>0.980571</td>\n",
       "      <td>tcp</td>\n",
       "      <td>88.212.37.169</td>\n",
       "      <td>3134</td>\n",
       "      <td>-&gt;</td>\n",
       "      <td>147.32.84.118</td>\n",
       "      <td>6881</td>\n",
       "      <td>S_RA</td>\n",
       "      <td>0.0</td>\n",
       "      <td>0.0</td>\n",
       "      <td>4</td>\n",
       "      <td>244</td>\n",
       "      <td>124</td>\n",
       "      <td>flow=Background-TCP-Attempt</td>\n",
       "      <td>-48</td>\n",
       "    </tr>\n",
       "  </tbody>\n",
       "</table>\n",
       "</div>"
      ],
      "text/plain": [
       "                    StartTime         Dur Proto         SrcAddr  Sport    Dir  \\\n",
       "0  2011/08/18 10:21:46.633335    1.060248   tcp    93.45.239.29   1611     ->   \n",
       "1  2011/08/18 10:19:49.027650  279.349152   tcp  62.240.166.118   1031    <?>   \n",
       "2  2011/08/18 10:22:07.160628  166.390015   tcp   147.32.86.148  58067     ->   \n",
       "3  2011/08/18 10:26:02.052163    1.187083   tcp     147.32.3.51   3130     ->   \n",
       "4  2011/08/18 10:26:52.226748    0.980571   tcp   88.212.37.169   3134     ->   \n",
       "\n",
       "          DstAddr  Dport    State  sTos  dTos  TotPkts  TotBytes  SrcBytes  \\\n",
       "0   147.32.84.118   6881     S_RA   0.0   0.0        4       252       132   \n",
       "1   147.32.84.229  13363  SRPA_PA   0.0   0.0       15      1318       955   \n",
       "2  66.235.132.232     80    SR_SA   0.0   0.0        3       212       134   \n",
       "3    147.32.84.46  10010     S_RA   0.0   0.0        4       244       124   \n",
       "4   147.32.84.118   6881     S_RA   0.0   0.0        4       244       124   \n",
       "\n",
       "                             Label  TotPkts_Dur  \n",
       "0      flow=Background-TCP-Attempt          -48  \n",
       "1      flow=Background-TCP-Attempt          -48  \n",
       "2  flow=Background-TCP-Established          -48  \n",
       "3      flow=Background-TCP-Attempt          -48  \n",
       "4      flow=Background-TCP-Attempt          -48  "
      ]
     },
     "execution_count": 34,
     "metadata": {},
     "output_type": "execute_result"
    }
   ],
   "source": [
    "# applying to all hosts\n",
    "for i in range(len(features)):\n",
    "    _, ax = plt.subplots(1, 1, figsize=(25, 5))\n",
    "    ax.plot(df[features[i]])\n",
    "    ax.legend(labels=[f'{features[i]} before discretzation'], loc='upper right')\n",
    "    ax.set_title(f'{features[i]} before discretization for all hosts') \n",
    "    plt.show()\n",
    "\n",
    "\n",
    "features_combined = df[features].copy()\n",
    "pca = PCA(n_components=1, random_state=0)\n",
    "features_reduced = pca.fit_transform(features_combined)\n",
    "discretizer = KBinsDiscretizer(n_bins=30, strategy='uniform', encode='ordinal')\n",
    "discretizer.fit(features_reduced)\n",
    "feature_discretized = discretize(discretizer, features_reduced)\n",
    "\n",
    "comb_col_name = features[0] + '_' + features[1]\n",
    "df[comb_col_name] = feature_discretized\n",
    "_, ax = plt.subplots(1, 1, figsize=(25, 5))\n",
    "ax.plot(feature_discretized)\n",
    "ax.set_title(f'Combined features after after discretization for all hosts') \n",
    "plt.show()\n",
    "df.head()"
   ]
  },
  {
   "cell_type": "markdown",
   "metadata": {},
   "source": [
    "### 1c. Answers and explanation"
   ]
  },
  {
   "cell_type": "markdown",
   "metadata": {},
   "source": [
    "Firstly, when analyzing the correlation plots for benign and infected traffic, we notice that for the infected hosts, the correlation between the number of packets and the number of bytes sent is higher. This might mean that each packet sent by an infected host had a similar size, so sending more packets also resulted in more bytes.\n"
   ]
  },
  {
   "cell_type": "markdown",
   "metadata": {},
   "source": [
    "## 2. Sketching task – 1/2 A4 (Individual, 10 Points)"
   ]
  },
  {
   "cell_type": "markdown",
   "metadata": {},
   "source": [
    "### 2a. COUNT-MIN sketch\n"
   ]
  },
  {
   "cell_type": "code",
   "execution_count": null,
   "metadata": {},
   "outputs": [],
   "source": []
  },
  {
   "cell_type": "markdown",
   "metadata": {},
   "source": [
    "### 2b. Analysis and answers to the questions"
   ]
  },
  {
   "cell_type": "code",
   "execution_count": null,
   "metadata": {},
   "outputs": [],
   "source": []
  },
  {
   "cell_type": "markdown",
   "metadata": {},
   "source": [
    "## 3. Min-wise locality sensitive hashing task – 1/2 A4 (Individual, 10 Points)"
   ]
  },
  {
   "cell_type": "markdown",
   "metadata": {},
   "source": [
    "### 3a. Implementation"
   ]
  },
  {
   "cell_type": "code",
   "execution_count": 35,
   "metadata": {},
   "outputs": [
    {
     "name": "stdout",
     "output_type": "stream",
     "text": [
      "44851\n",
      "75\n"
     ]
    },
    {
     "data": {
      "text/html": [
       "<div>\n",
       "<style scoped>\n",
       "    .dataframe tbody tr th:only-of-type {\n",
       "        vertical-align: middle;\n",
       "    }\n",
       "\n",
       "    .dataframe tbody tr th {\n",
       "        vertical-align: top;\n",
       "    }\n",
       "\n",
       "    .dataframe thead th {\n",
       "        text-align: right;\n",
       "    }\n",
       "</style>\n",
       "<table border=\"1\" class=\"dataframe\">\n",
       "  <thead>\n",
       "    <tr style=\"text-align: right;\">\n",
       "      <th></th>\n",
       "      <th>StartTime</th>\n",
       "      <th>Dur</th>\n",
       "      <th>Proto</th>\n",
       "      <th>SrcAddr</th>\n",
       "      <th>Sport</th>\n",
       "      <th>Dir</th>\n",
       "      <th>DstAddr</th>\n",
       "      <th>Dport</th>\n",
       "      <th>State</th>\n",
       "      <th>sTos</th>\n",
       "      <th>dTos</th>\n",
       "      <th>TotPkts</th>\n",
       "      <th>TotBytes</th>\n",
       "      <th>SrcBytes</th>\n",
       "      <th>Label</th>\n",
       "      <th>TotPkts_Dur</th>\n",
       "      <th>SrcDstAddr</th>\n",
       "    </tr>\n",
       "  </thead>\n",
       "  <tbody>\n",
       "    <tr>\n",
       "      <th>0</th>\n",
       "      <td>2011/08/18 10:21:46.633335</td>\n",
       "      <td>1.060248</td>\n",
       "      <td>tcp</td>\n",
       "      <td>93.45.239.29</td>\n",
       "      <td>1611</td>\n",
       "      <td>-&gt;</td>\n",
       "      <td>147.32.84.118</td>\n",
       "      <td>6881</td>\n",
       "      <td>S_RA</td>\n",
       "      <td>0.0</td>\n",
       "      <td>0.0</td>\n",
       "      <td>4</td>\n",
       "      <td>252</td>\n",
       "      <td>132</td>\n",
       "      <td>flow=Background-TCP-Attempt</td>\n",
       "      <td>-48</td>\n",
       "      <td>(93.45.239.29, 147.32.84.118)</td>\n",
       "    </tr>\n",
       "    <tr>\n",
       "      <th>1</th>\n",
       "      <td>2011/08/18 10:19:49.027650</td>\n",
       "      <td>279.349152</td>\n",
       "      <td>tcp</td>\n",
       "      <td>62.240.166.118</td>\n",
       "      <td>1031</td>\n",
       "      <td>&lt;?&gt;</td>\n",
       "      <td>147.32.84.229</td>\n",
       "      <td>13363</td>\n",
       "      <td>SRPA_PA</td>\n",
       "      <td>0.0</td>\n",
       "      <td>0.0</td>\n",
       "      <td>15</td>\n",
       "      <td>1318</td>\n",
       "      <td>955</td>\n",
       "      <td>flow=Background-TCP-Attempt</td>\n",
       "      <td>-48</td>\n",
       "      <td>(62.240.166.118, 147.32.84.229)</td>\n",
       "    </tr>\n",
       "    <tr>\n",
       "      <th>2</th>\n",
       "      <td>2011/08/18 10:22:07.160628</td>\n",
       "      <td>166.390015</td>\n",
       "      <td>tcp</td>\n",
       "      <td>147.32.86.148</td>\n",
       "      <td>58067</td>\n",
       "      <td>-&gt;</td>\n",
       "      <td>66.235.132.232</td>\n",
       "      <td>80</td>\n",
       "      <td>SR_SA</td>\n",
       "      <td>0.0</td>\n",
       "      <td>0.0</td>\n",
       "      <td>3</td>\n",
       "      <td>212</td>\n",
       "      <td>134</td>\n",
       "      <td>flow=Background-TCP-Established</td>\n",
       "      <td>-48</td>\n",
       "      <td>(147.32.86.148, 66.235.132.232)</td>\n",
       "    </tr>\n",
       "    <tr>\n",
       "      <th>3</th>\n",
       "      <td>2011/08/18 10:26:02.052163</td>\n",
       "      <td>1.187083</td>\n",
       "      <td>tcp</td>\n",
       "      <td>147.32.3.51</td>\n",
       "      <td>3130</td>\n",
       "      <td>-&gt;</td>\n",
       "      <td>147.32.84.46</td>\n",
       "      <td>10010</td>\n",
       "      <td>S_RA</td>\n",
       "      <td>0.0</td>\n",
       "      <td>0.0</td>\n",
       "      <td>4</td>\n",
       "      <td>244</td>\n",
       "      <td>124</td>\n",
       "      <td>flow=Background-TCP-Attempt</td>\n",
       "      <td>-48</td>\n",
       "      <td>(147.32.3.51, 147.32.84.46)</td>\n",
       "    </tr>\n",
       "    <tr>\n",
       "      <th>4</th>\n",
       "      <td>2011/08/18 10:26:52.226748</td>\n",
       "      <td>0.980571</td>\n",
       "      <td>tcp</td>\n",
       "      <td>88.212.37.169</td>\n",
       "      <td>3134</td>\n",
       "      <td>-&gt;</td>\n",
       "      <td>147.32.84.118</td>\n",
       "      <td>6881</td>\n",
       "      <td>S_RA</td>\n",
       "      <td>0.0</td>\n",
       "      <td>0.0</td>\n",
       "      <td>4</td>\n",
       "      <td>244</td>\n",
       "      <td>124</td>\n",
       "      <td>flow=Background-TCP-Attempt</td>\n",
       "      <td>-48</td>\n",
       "      <td>(88.212.37.169, 147.32.84.118)</td>\n",
       "    </tr>\n",
       "  </tbody>\n",
       "</table>\n",
       "</div>"
      ],
      "text/plain": [
       "                    StartTime         Dur Proto         SrcAddr  Sport    Dir  \\\n",
       "0  2011/08/18 10:21:46.633335    1.060248   tcp    93.45.239.29   1611     ->   \n",
       "1  2011/08/18 10:19:49.027650  279.349152   tcp  62.240.166.118   1031    <?>   \n",
       "2  2011/08/18 10:22:07.160628  166.390015   tcp   147.32.86.148  58067     ->   \n",
       "3  2011/08/18 10:26:02.052163    1.187083   tcp     147.32.3.51   3130     ->   \n",
       "4  2011/08/18 10:26:52.226748    0.980571   tcp   88.212.37.169   3134     ->   \n",
       "\n",
       "          DstAddr  Dport    State  sTos  dTos  TotPkts  TotBytes  SrcBytes  \\\n",
       "0   147.32.84.118   6881     S_RA   0.0   0.0        4       252       132   \n",
       "1   147.32.84.229  13363  SRPA_PA   0.0   0.0       15      1318       955   \n",
       "2  66.235.132.232     80    SR_SA   0.0   0.0        3       212       134   \n",
       "3    147.32.84.46  10010     S_RA   0.0   0.0        4       244       124   \n",
       "4   147.32.84.118   6881     S_RA   0.0   0.0        4       244       124   \n",
       "\n",
       "                             Label  TotPkts_Dur  \\\n",
       "0      flow=Background-TCP-Attempt          -48   \n",
       "1      flow=Background-TCP-Attempt          -48   \n",
       "2  flow=Background-TCP-Established          -48   \n",
       "3      flow=Background-TCP-Attempt          -48   \n",
       "4      flow=Background-TCP-Attempt          -48   \n",
       "\n",
       "                        SrcDstAddr  \n",
       "0    (93.45.239.29, 147.32.84.118)  \n",
       "1  (62.240.166.118, 147.32.84.229)  \n",
       "2  (147.32.86.148, 66.235.132.232)  \n",
       "3      (147.32.3.51, 147.32.84.46)  \n",
       "4   (88.212.37.169, 147.32.84.118)  "
      ]
     },
     "execution_count": 35,
     "metadata": {},
     "output_type": "execute_result"
    }
   ],
   "source": [
    "df_minlsh = df.copy()\n",
    "counts = df_minlsh.groupby(['SrcAddr', 'DstAddr']).count()\n",
    "# create a set of ip pairs which appear more than 3 times\n",
    "ip_prof_set = set()\n",
    "for row in counts.iterrows():\n",
    "    if row[1][0] >= 3:\n",
    "        ip_prof_set.add(row[0])\n",
    "print(len(ip_prof_set))\n",
    "\n",
    "# create a set of all possible 3grams\n",
    "gram_set = set()\n",
    "sorted_stuff = df_minlsh.sort_values(['SrcAddr', 'DstAddr']).reset_index()[comb_col_name]\n",
    "for i in range(len(sorted_stuff) - 2):\n",
    "    gram_set.add((sorted_stuff[i], sorted_stuff[i + 1], sorted_stuff[i + 2]))\n",
    "print(len(gram_set))\n",
    "\n",
    "# create new field for ip pairs\n",
    "temp = []\n",
    "df_minlsh.apply(lambda x: temp.append((x['SrcAddr'], x['DstAddr'])), axis=1)\n",
    "df_minlsh['SrcDstAddr'] = temp\n",
    "df_minlsh.head()"
   ]
  },
  {
   "cell_type": "code",
   "execution_count": 36,
   "metadata": {},
   "outputs": [
    {
     "data": {
      "text/html": [
       "<div>\n",
       "<style scoped>\n",
       "    .dataframe tbody tr th:only-of-type {\n",
       "        vertical-align: middle;\n",
       "    }\n",
       "\n",
       "    .dataframe tbody tr th {\n",
       "        vertical-align: top;\n",
       "    }\n",
       "\n",
       "    .dataframe thead th {\n",
       "        text-align: right;\n",
       "    }\n",
       "</style>\n",
       "<table border=\"1\" class=\"dataframe\">\n",
       "  <thead>\n",
       "    <tr style=\"text-align: right;\">\n",
       "      <th></th>\n",
       "      <th>index</th>\n",
       "      <th>StartTime</th>\n",
       "      <th>Dur</th>\n",
       "      <th>Proto</th>\n",
       "      <th>SrcAddr</th>\n",
       "      <th>Sport</th>\n",
       "      <th>Dir</th>\n",
       "      <th>DstAddr</th>\n",
       "      <th>Dport</th>\n",
       "      <th>State</th>\n",
       "      <th>sTos</th>\n",
       "      <th>dTos</th>\n",
       "      <th>TotPkts</th>\n",
       "      <th>TotBytes</th>\n",
       "      <th>SrcBytes</th>\n",
       "      <th>Label</th>\n",
       "      <th>TotPkts_Dur</th>\n",
       "      <th>SrcDstAddr</th>\n",
       "    </tr>\n",
       "  </thead>\n",
       "  <tbody>\n",
       "    <tr>\n",
       "      <th>0</th>\n",
       "      <td>2805</td>\n",
       "      <td>2011/08/18 10:19:37.939580</td>\n",
       "      <td>3599.097168</td>\n",
       "      <td>udp</td>\n",
       "      <td>0.0.0.0</td>\n",
       "      <td>68</td>\n",
       "      <td>-&gt;</td>\n",
       "      <td>255.255.255.255</td>\n",
       "      <td>67</td>\n",
       "      <td>INT</td>\n",
       "      <td>0.0</td>\n",
       "      <td>NaN</td>\n",
       "      <td>377</td>\n",
       "      <td>125194</td>\n",
       "      <td>125194</td>\n",
       "      <td>flow=Background-UDP-Attempt</td>\n",
       "      <td>-48</td>\n",
       "      <td>(0.0.0.0, 255.255.255.255)</td>\n",
       "    </tr>\n",
       "    <tr>\n",
       "      <th>1</th>\n",
       "      <td>258516</td>\n",
       "      <td>2011/08/18 11:19:41.526759</td>\n",
       "      <td>3535.465088</td>\n",
       "      <td>udp</td>\n",
       "      <td>0.0.0.0</td>\n",
       "      <td>68</td>\n",
       "      <td>-&gt;</td>\n",
       "      <td>255.255.255.255</td>\n",
       "      <td>67</td>\n",
       "      <td>REQ</td>\n",
       "      <td>0.0</td>\n",
       "      <td>NaN</td>\n",
       "      <td>366</td>\n",
       "      <td>121542</td>\n",
       "      <td>121542</td>\n",
       "      <td>flow=Background-UDP-Attempt</td>\n",
       "      <td>-48</td>\n",
       "      <td>(0.0.0.0, 255.255.255.255)</td>\n",
       "    </tr>\n",
       "    <tr>\n",
       "      <th>2</th>\n",
       "      <td>548560</td>\n",
       "      <td>2011/08/18 12:19:42.992686</td>\n",
       "      <td>3599.996094</td>\n",
       "      <td>udp</td>\n",
       "      <td>0.0.0.0</td>\n",
       "      <td>68</td>\n",
       "      <td>-&gt;</td>\n",
       "      <td>255.255.255.255</td>\n",
       "      <td>67</td>\n",
       "      <td>REQ</td>\n",
       "      <td>0.0</td>\n",
       "      <td>NaN</td>\n",
       "      <td>301</td>\n",
       "      <td>99950</td>\n",
       "      <td>99950</td>\n",
       "      <td>flow=Background-UDP-Attempt</td>\n",
       "      <td>-48</td>\n",
       "      <td>(0.0.0.0, 255.255.255.255)</td>\n",
       "    </tr>\n",
       "    <tr>\n",
       "      <th>3</th>\n",
       "      <td>788105</td>\n",
       "      <td>2011/08/18 13:19:55.987624</td>\n",
       "      <td>3590.950684</td>\n",
       "      <td>udp</td>\n",
       "      <td>0.0.0.0</td>\n",
       "      <td>68</td>\n",
       "      <td>-&gt;</td>\n",
       "      <td>255.255.255.255</td>\n",
       "      <td>67</td>\n",
       "      <td>REQ</td>\n",
       "      <td>0.0</td>\n",
       "      <td>NaN</td>\n",
       "      <td>363</td>\n",
       "      <td>120428</td>\n",
       "      <td>120428</td>\n",
       "      <td>flow=Background-UDP-Attempt</td>\n",
       "      <td>-48</td>\n",
       "      <td>(0.0.0.0, 255.255.255.255)</td>\n",
       "    </tr>\n",
       "    <tr>\n",
       "      <th>4</th>\n",
       "      <td>1075801</td>\n",
       "      <td>2011/08/18 14:19:57.990221</td>\n",
       "      <td>2698.995850</td>\n",
       "      <td>udp</td>\n",
       "      <td>0.0.0.0</td>\n",
       "      <td>68</td>\n",
       "      <td>-&gt;</td>\n",
       "      <td>255.255.255.255</td>\n",
       "      <td>67</td>\n",
       "      <td>REQ</td>\n",
       "      <td>0.0</td>\n",
       "      <td>NaN</td>\n",
       "      <td>232</td>\n",
       "      <td>76880</td>\n",
       "      <td>76880</td>\n",
       "      <td>flow=Background-UDP-Attempt</td>\n",
       "      <td>-48</td>\n",
       "      <td>(0.0.0.0, 255.255.255.255)</td>\n",
       "    </tr>\n",
       "  </tbody>\n",
       "</table>\n",
       "</div>"
      ],
      "text/plain": [
       "     index                   StartTime          Dur Proto  SrcAddr Sport  \\\n",
       "0     2805  2011/08/18 10:19:37.939580  3599.097168   udp  0.0.0.0    68   \n",
       "1   258516  2011/08/18 11:19:41.526759  3535.465088   udp  0.0.0.0    68   \n",
       "2   548560  2011/08/18 12:19:42.992686  3599.996094   udp  0.0.0.0    68   \n",
       "3   788105  2011/08/18 13:19:55.987624  3590.950684   udp  0.0.0.0    68   \n",
       "4  1075801  2011/08/18 14:19:57.990221  2698.995850   udp  0.0.0.0    68   \n",
       "\n",
       "     Dir          DstAddr Dport State  sTos  dTos  TotPkts  TotBytes  \\\n",
       "0     ->  255.255.255.255    67   INT   0.0   NaN      377    125194   \n",
       "1     ->  255.255.255.255    67   REQ   0.0   NaN      366    121542   \n",
       "2     ->  255.255.255.255    67   REQ   0.0   NaN      301     99950   \n",
       "3     ->  255.255.255.255    67   REQ   0.0   NaN      363    120428   \n",
       "4     ->  255.255.255.255    67   REQ   0.0   NaN      232     76880   \n",
       "\n",
       "   SrcBytes                        Label  TotPkts_Dur  \\\n",
       "0    125194  flow=Background-UDP-Attempt          -48   \n",
       "1    121542  flow=Background-UDP-Attempt          -48   \n",
       "2     99950  flow=Background-UDP-Attempt          -48   \n",
       "3    120428  flow=Background-UDP-Attempt          -48   \n",
       "4     76880  flow=Background-UDP-Attempt          -48   \n",
       "\n",
       "                   SrcDstAddr  \n",
       "0  (0.0.0.0, 255.255.255.255)  \n",
       "1  (0.0.0.0, 255.255.255.255)  \n",
       "2  (0.0.0.0, 255.255.255.255)  \n",
       "3  (0.0.0.0, 255.255.255.255)  \n",
       "4  (0.0.0.0, 255.255.255.255)  "
      ]
     },
     "execution_count": 36,
     "metadata": {},
     "output_type": "execute_result"
    }
   ],
   "source": [
    "df_minlsh = df_minlsh.sort_values(['SrcAddr', 'DstAddr'])\n",
    "df_minlsh = df_minlsh.reset_index()\n",
    "src_dst_ip = df_minlsh['SrcDstAddr']\n",
    "combined_feature = df_minlsh[comb_col_name]\n",
    "\n",
    "ip_profiles_3grams = dict()\n",
    "ip_prof_list = list(ip_prof_set)\n",
    "gram_list = list(gram_set)\n",
    "# intialize dict\n",
    "for i in range(len(ip_prof_list)):\n",
    "    ip_profiles_3grams[ip_prof_list[i]] = np.zeros(len(gram_list))\n",
    "\n",
    "# create 3grams for each ip pair\n",
    "for i in range(len(src_dst_ip) - 2):\n",
    "    if src_dst_ip[i] == src_dst_ip[i + 1] == src_dst_ip[i + 2]:\n",
    "        ngram = (combined_feature[i], combined_feature[i + 1], combined_feature[i + 2])\n",
    "        gram_index = gram_list.index(ngram)\n",
    "        ip_profiles_3grams[src_dst_ip[i]][gram_index] = 1\n",
    "df_minlsh.head()"
   ]
  },
  {
   "cell_type": "code",
   "execution_count": 82,
   "metadata": {},
   "outputs": [
    {
     "name": "stdout",
     "output_type": "stream",
     "text": [
      "dict_keys([3, 4, 1, 0, 2])\n"
     ]
    }
   ],
   "source": [
    "import math\n",
    "\n",
    "def min_hash(ip_profiles_3grams, bin_size):\n",
    "    hash_func = lambda x: (np.sum(x) * (np.sum(x) + 3)) % bin_size\n",
    "    sim_score = dict()\n",
    "    sim_list = []\n",
    "    for index, bin_vector in enumerate(ip_profiles_3grams.values()):\n",
    "        h = hash(tuple(bin_vector)) % bin_size\n",
    "        if h in sim_score:\n",
    "            sim_score[h].append(index)\n",
    "        else:\n",
    "            sim_score[h] = [index]\n",
    "        sim_list.append(h)\n",
    "    return sim_score, sim_list\n",
    "\n",
    "sim_array, sim_list = min_hash(ip_profiles_3grams, 5) #len(ip_profiles_3grams.keys()))\n",
    "print(sim_array.keys())"
   ]
  },
  {
   "cell_type": "code",
   "execution_count": 83,
   "metadata": {},
   "outputs": [
    {
     "name": "stdout",
     "output_type": "stream",
     "text": [
      "[[0]\n",
      " [0]\n",
      " [0]\n",
      " ...\n",
      " [0]\n",
      " [0]\n",
      " [0]]\n",
      "[[0]\n",
      " [0]\n",
      " [0]\n",
      " ...\n",
      " [0]\n",
      " [0]\n",
      " [0]]\n"
     ]
    }
   ],
   "source": [
    "from sklearn.neighbors import NearestNeighbors\n",
    "X = np.array(list(ip_profiles_3grams.values()))\n",
    "nbrs = NearestNeighbors(n_neighbors=1, algorithm='ball_tree').fit(X)\n",
    "distances, indices = nbrs.kneighbors(X)\n",
    "print(indices)\n",
    "\n",
    "X = np.array(sim_list).reshape(-1, 1)\n",
    "nbrs = NearestNeighbors(n_neighbors=1, algorithm='ball_tree').fit(X)\n",
    "_, indices_lsh = nbrs.kneighbors(X)\n",
    "print(indices_lsh)\n"
   ]
  },
  {
   "cell_type": "code",
   "execution_count": 88,
   "metadata": {},
   "outputs": [
    {
     "name": "stdout",
     "output_type": "stream",
     "text": [
      "0.9987054727278736\n"
     ]
    }
   ],
   "source": [
    "test_dict = dict()\n",
    "for index, val in enumerate(indices):\n",
    "    val = val[0]\n",
    "    if val in test_dict:\n",
    "        test_dict[val].append(index)\n",
    "    else:\n",
    "        test_dict[val] = [index]\n",
    "\n",
    "def sim_error(y_true, y_pred):\n",
    "    sum = 0\n",
    "    for ind in y_pred:\n",
    "        if ind in y_true:\n",
    "            sum += 1\n",
    "    sum /= len(y_pred)\n",
    "    return sum\n",
    "\n",
    "from sklearn.metrics import mean_squared_error, accuracy_score, jaccard_score\n",
    "\n",
    "y_true = list(map(lambda x: x[0], indices))\n",
    "y_pred = list(map(lambda x: x[0], indices_lsh))\n",
    "\n",
    "print(jaccard_score(y_true, y_pred, average='weighted'))"
   ]
  },
  {
   "cell_type": "code",
   "execution_count": 85,
   "metadata": {},
   "outputs": [
    {
     "name": "stdout",
     "output_type": "stream",
     "text": [
      "[    0   284  2376  3023  3894  3955  4176  5409  6085  6254  9400 10963\n",
      " 12567 12822 16014 18513 18717 19288 19808 20599 21382 22319 22536 23199\n",
      " 23826 24837 25178 27700 28707 30613 36908 37966 40017 40865 44844]\n",
      "[    0  3955  4176 10963 22536]\n"
     ]
    }
   ],
   "source": [
    "print(np.unique(y_true))\n",
    "print(np.unique(y_pred))\n"
   ]
  },
  {
   "cell_type": "markdown",
   "metadata": {},
   "source": [
    "### 3b. Analysis and answers to the questions"
   ]
  },
  {
   "cell_type": "code",
   "execution_count": null,
   "metadata": {},
   "outputs": [],
   "source": []
  },
  {
   "cell_type": "markdown",
   "metadata": {},
   "source": [
    "## 4.Botnet profiling and fingerprinting task – 1 A4 (5 Points)"
   ]
  },
  {
   "cell_type": "markdown",
   "metadata": {},
   "source": [
    "### 4a. Learn a sequential model, profiling and fingerprinting"
   ]
  },
  {
   "cell_type": "code",
   "execution_count": null,
   "metadata": {},
   "outputs": [],
   "source": [
    "flex_train = training_data.copy()\n",
    "flex_train = encode_data(flex_train, label_only=True) # Converts labels to 0 for normal and 1 for botnet; background removed\n",
    "\n",
    "flex_train = flex_train[['combined_discretized', 'Label']] # combined_discretized is the column computed in task 1 using 2 features\n",
    "flex_train.reset_index(drop=True, inplace=True)\n",
    "\n",
    "flex_train = flex_train.rename(columns={\"combined_discretized\": \"symb\", \"Label\":\"type\"})\n",
    "\n",
    "flexfringe = FlexFringe(\n",
    "    flexfringe_path=\"binaries/flexfringe-x64-windows\",\n",
    "    heuristic_name=\"alergia\",\n",
    "    data_name=\"alergia_data\",\n",
    "    slidingwindow=10,\n",
    "    swsize=1,\n",
    ")\n",
    "\n",
    "# Learn a state machine\n",
    "flexfringe.fit(flex_train,\n",
    "               sinkson=1,\n",
    "               sinkcount=100)\n",
    "\n",
    "# Use state machine to predict likelihoods\n",
    "df = flexfringe.predict(flex_train)\n",
    "\n",
    "print(df.head())"
   ]
  },
  {
   "cell_type": "markdown",
   "metadata": {},
   "source": [
    "### 4b. Analysis and answers to the questions."
   ]
  },
  {
   "cell_type": "code",
   "execution_count": null,
   "metadata": {},
   "outputs": [],
   "source": []
  },
  {
   "cell_type": "markdown",
   "metadata": {},
   "source": [
    "## 5. Bonus Task 1/2 A4 (5 Points)"
   ]
  },
  {
   "cell_type": "markdown",
   "metadata": {},
   "source": [
    "### 5a. Provide implementation and analysis."
   ]
  },
  {
   "cell_type": "code",
   "execution_count": null,
   "metadata": {},
   "outputs": [],
   "source": []
  }
 ],
 "metadata": {
  "interpreter": {
   "hash": "6a5895bacfe334863320d48ced275334a5125d581f1ee66f94e7790425c0700d"
  },
  "kernelspec": {
   "display_name": "Python 3.10.4 ('.venv': venv)",
   "language": "python",
   "name": "python3"
  },
  "language_info": {
   "codemirror_mode": {
    "name": "ipython",
    "version": 3
   },
   "file_extension": ".py",
   "mimetype": "text/x-python",
   "name": "python",
   "nbconvert_exporter": "python",
   "pygments_lexer": "ipython3",
   "version": "3.10.4"
  }
 },
 "nbformat": 4,
 "nbformat_minor": 2
}
