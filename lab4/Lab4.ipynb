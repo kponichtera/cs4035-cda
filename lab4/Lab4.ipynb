{
 "cells": [
  {
   "cell_type": "markdown",
   "metadata": {},
   "source": [
    "# CS4035 - Cyber Data Analytics\n",
    "## Lab 4"
   ]
  },
  {
   "cell_type": "markdown",
   "metadata": {},
   "source": [
    "## Group Number : 69"
   ]
  },
  {
   "cell_type": "markdown",
   "metadata": {},
   "source": [
    "## Student 1 \n",
    "### Name : Konrad Ponichtera\n",
    "### ID : 5580749"
   ]
  },
  {
   "cell_type": "markdown",
   "metadata": {},
   "source": [
    "## Student 2\n",
    "### Name : Ion Babalau\n",
    "### ID : 5626110"
   ]
  },
  {
   "cell_type": "code",
   "execution_count": 24,
   "metadata": {},
   "outputs": [],
   "source": [
    "import time\n",
    "\n",
    "import numpy as np\n",
    "import pandas as pd\n",
    "import seaborn as sns\n",
    "import matplotlib.pyplot as plt\n",
    "import nbformat\n",
    "\n",
    "from sklearn.metrics import accuracy_score, classification_report, ConfusionMatrixDisplay\n",
    "from sklearn.model_selection import train_test_split, KFold\n",
    "from sklearn.linear_model import SGDClassifier"
   ]
  },
  {
   "cell_type": "code",
   "execution_count": 34,
   "metadata": {
    "tags": []
   },
   "outputs": [
    {
     "name": "stdout",
     "output_type": "stream",
     "text": [
      "Word count: 586\n"
     ]
    }
   ],
   "source": [
    "nb = nbformat.read(\"Lab4.ipynb\", nbformat.NO_CONVERT)\n",
    "word_count = 0\n",
    "for cell in nb.cells:\n",
    "    if cell.cell_type == \"markdown\":\n",
    "        word_count += len(cell['source'].replace('#', '').lstrip().split(' '))\n",
    "\n",
    "print(\"Word count:\", word_count)"
   ]
  },
  {
   "cell_type": "markdown",
   "metadata": {},
   "source": [
    "## README\n",
    "\n",
    "Expected location of dataset: _data_ directory, in same directory as notebook. \n",
    "\n",
    "All the necessary packages are specifeid in _requirements.txt_, and can be installed with the command: `pip install -r requirements.txt`."
   ]
  },
  {
   "cell_type": "markdown",
   "metadata": {},
   "source": [
    "## 1. Preparation (0 points)"
   ]
  },
  {
   "cell_type": "markdown",
   "metadata": {},
   "source": [
    "### 1a. Load the dataset and split it into a train and test set"
   ]
  },
  {
   "cell_type": "code",
   "execution_count": 3,
   "metadata": {},
   "outputs": [],
   "source": [
    "X = np.load('data/X.npy')\n",
    "y = np.load('data/y.npy')"
   ]
  },
  {
   "cell_type": "code",
   "execution_count": 4,
   "metadata": {},
   "outputs": [
    {
     "data": {
      "text/html": [
       "<div>\n",
       "<style scoped>\n",
       "    .dataframe tbody tr th:only-of-type {\n",
       "        vertical-align: middle;\n",
       "    }\n",
       "\n",
       "    .dataframe tbody tr th {\n",
       "        vertical-align: top;\n",
       "    }\n",
       "\n",
       "    .dataframe thead th {\n",
       "        text-align: right;\n",
       "    }\n",
       "</style>\n",
       "<table border=\"1\" class=\"dataframe\">\n",
       "  <thead>\n",
       "    <tr style=\"text-align: right;\">\n",
       "      <th></th>\n",
       "      <th>0</th>\n",
       "      <th>1</th>\n",
       "      <th>2</th>\n",
       "      <th>3</th>\n",
       "      <th>4</th>\n",
       "      <th>5</th>\n",
       "      <th>6</th>\n",
       "      <th>7</th>\n",
       "      <th>8</th>\n",
       "      <th>9</th>\n",
       "      <th>...</th>\n",
       "      <th>22751</th>\n",
       "      <th>22752</th>\n",
       "      <th>22753</th>\n",
       "      <th>22754</th>\n",
       "      <th>22755</th>\n",
       "      <th>22756</th>\n",
       "      <th>22757</th>\n",
       "      <th>22758</th>\n",
       "      <th>22759</th>\n",
       "      <th>22760</th>\n",
       "    </tr>\n",
       "  </thead>\n",
       "  <tbody>\n",
       "    <tr>\n",
       "      <th>0</th>\n",
       "      <td>1</td>\n",
       "      <td>0</td>\n",
       "      <td>0</td>\n",
       "      <td>0</td>\n",
       "      <td>0</td>\n",
       "      <td>0</td>\n",
       "      <td>0</td>\n",
       "      <td>0</td>\n",
       "      <td>1</td>\n",
       "      <td>0</td>\n",
       "      <td>...</td>\n",
       "      <td>0</td>\n",
       "      <td>0</td>\n",
       "      <td>0</td>\n",
       "      <td>0</td>\n",
       "      <td>0</td>\n",
       "      <td>0</td>\n",
       "      <td>0</td>\n",
       "      <td>0</td>\n",
       "      <td>0</td>\n",
       "      <td>0</td>\n",
       "    </tr>\n",
       "    <tr>\n",
       "      <th>1</th>\n",
       "      <td>0</td>\n",
       "      <td>0</td>\n",
       "      <td>0</td>\n",
       "      <td>0</td>\n",
       "      <td>0</td>\n",
       "      <td>0</td>\n",
       "      <td>0</td>\n",
       "      <td>0</td>\n",
       "      <td>1</td>\n",
       "      <td>0</td>\n",
       "      <td>...</td>\n",
       "      <td>0</td>\n",
       "      <td>0</td>\n",
       "      <td>0</td>\n",
       "      <td>0</td>\n",
       "      <td>0</td>\n",
       "      <td>0</td>\n",
       "      <td>0</td>\n",
       "      <td>0</td>\n",
       "      <td>0</td>\n",
       "      <td>0</td>\n",
       "    </tr>\n",
       "    <tr>\n",
       "      <th>2</th>\n",
       "      <td>0</td>\n",
       "      <td>0</td>\n",
       "      <td>0</td>\n",
       "      <td>0</td>\n",
       "      <td>0</td>\n",
       "      <td>0</td>\n",
       "      <td>0</td>\n",
       "      <td>0</td>\n",
       "      <td>0</td>\n",
       "      <td>0</td>\n",
       "      <td>...</td>\n",
       "      <td>0</td>\n",
       "      <td>0</td>\n",
       "      <td>0</td>\n",
       "      <td>0</td>\n",
       "      <td>0</td>\n",
       "      <td>0</td>\n",
       "      <td>0</td>\n",
       "      <td>0</td>\n",
       "      <td>0</td>\n",
       "      <td>0</td>\n",
       "    </tr>\n",
       "    <tr>\n",
       "      <th>3</th>\n",
       "      <td>0</td>\n",
       "      <td>0</td>\n",
       "      <td>0</td>\n",
       "      <td>0</td>\n",
       "      <td>0</td>\n",
       "      <td>0</td>\n",
       "      <td>0</td>\n",
       "      <td>0</td>\n",
       "      <td>1</td>\n",
       "      <td>0</td>\n",
       "      <td>...</td>\n",
       "      <td>0</td>\n",
       "      <td>0</td>\n",
       "      <td>0</td>\n",
       "      <td>0</td>\n",
       "      <td>0</td>\n",
       "      <td>0</td>\n",
       "      <td>0</td>\n",
       "      <td>0</td>\n",
       "      <td>0</td>\n",
       "      <td>0</td>\n",
       "    </tr>\n",
       "    <tr>\n",
       "      <th>4</th>\n",
       "      <td>1</td>\n",
       "      <td>1</td>\n",
       "      <td>0</td>\n",
       "      <td>0</td>\n",
       "      <td>0</td>\n",
       "      <td>0</td>\n",
       "      <td>0</td>\n",
       "      <td>0</td>\n",
       "      <td>0</td>\n",
       "      <td>0</td>\n",
       "      <td>...</td>\n",
       "      <td>0</td>\n",
       "      <td>0</td>\n",
       "      <td>0</td>\n",
       "      <td>0</td>\n",
       "      <td>0</td>\n",
       "      <td>0</td>\n",
       "      <td>0</td>\n",
       "      <td>0</td>\n",
       "      <td>0</td>\n",
       "      <td>0</td>\n",
       "    </tr>\n",
       "    <tr>\n",
       "      <th>...</th>\n",
       "      <td>...</td>\n",
       "      <td>...</td>\n",
       "      <td>...</td>\n",
       "      <td>...</td>\n",
       "      <td>...</td>\n",
       "      <td>...</td>\n",
       "      <td>...</td>\n",
       "      <td>...</td>\n",
       "      <td>...</td>\n",
       "      <td>...</td>\n",
       "      <td>...</td>\n",
       "      <td>...</td>\n",
       "      <td>...</td>\n",
       "      <td>...</td>\n",
       "      <td>...</td>\n",
       "      <td>...</td>\n",
       "      <td>...</td>\n",
       "      <td>...</td>\n",
       "      <td>...</td>\n",
       "      <td>...</td>\n",
       "      <td>...</td>\n",
       "    </tr>\n",
       "    <tr>\n",
       "      <th>30391</th>\n",
       "      <td>0</td>\n",
       "      <td>0</td>\n",
       "      <td>0</td>\n",
       "      <td>0</td>\n",
       "      <td>0</td>\n",
       "      <td>0</td>\n",
       "      <td>0</td>\n",
       "      <td>0</td>\n",
       "      <td>0</td>\n",
       "      <td>0</td>\n",
       "      <td>...</td>\n",
       "      <td>0</td>\n",
       "      <td>0</td>\n",
       "      <td>0</td>\n",
       "      <td>0</td>\n",
       "      <td>0</td>\n",
       "      <td>0</td>\n",
       "      <td>0</td>\n",
       "      <td>0</td>\n",
       "      <td>0</td>\n",
       "      <td>0</td>\n",
       "    </tr>\n",
       "    <tr>\n",
       "      <th>30392</th>\n",
       "      <td>0</td>\n",
       "      <td>0</td>\n",
       "      <td>0</td>\n",
       "      <td>0</td>\n",
       "      <td>0</td>\n",
       "      <td>0</td>\n",
       "      <td>0</td>\n",
       "      <td>1</td>\n",
       "      <td>1</td>\n",
       "      <td>0</td>\n",
       "      <td>...</td>\n",
       "      <td>0</td>\n",
       "      <td>0</td>\n",
       "      <td>0</td>\n",
       "      <td>0</td>\n",
       "      <td>0</td>\n",
       "      <td>0</td>\n",
       "      <td>0</td>\n",
       "      <td>0</td>\n",
       "      <td>0</td>\n",
       "      <td>0</td>\n",
       "    </tr>\n",
       "    <tr>\n",
       "      <th>30393</th>\n",
       "      <td>0</td>\n",
       "      <td>0</td>\n",
       "      <td>0</td>\n",
       "      <td>0</td>\n",
       "      <td>0</td>\n",
       "      <td>0</td>\n",
       "      <td>0</td>\n",
       "      <td>0</td>\n",
       "      <td>0</td>\n",
       "      <td>0</td>\n",
       "      <td>...</td>\n",
       "      <td>0</td>\n",
       "      <td>0</td>\n",
       "      <td>0</td>\n",
       "      <td>0</td>\n",
       "      <td>0</td>\n",
       "      <td>0</td>\n",
       "      <td>0</td>\n",
       "      <td>0</td>\n",
       "      <td>0</td>\n",
       "      <td>0</td>\n",
       "    </tr>\n",
       "    <tr>\n",
       "      <th>30394</th>\n",
       "      <td>0</td>\n",
       "      <td>0</td>\n",
       "      <td>0</td>\n",
       "      <td>1</td>\n",
       "      <td>0</td>\n",
       "      <td>0</td>\n",
       "      <td>0</td>\n",
       "      <td>1</td>\n",
       "      <td>1</td>\n",
       "      <td>0</td>\n",
       "      <td>...</td>\n",
       "      <td>0</td>\n",
       "      <td>0</td>\n",
       "      <td>0</td>\n",
       "      <td>0</td>\n",
       "      <td>0</td>\n",
       "      <td>0</td>\n",
       "      <td>0</td>\n",
       "      <td>0</td>\n",
       "      <td>0</td>\n",
       "      <td>0</td>\n",
       "    </tr>\n",
       "    <tr>\n",
       "      <th>30395</th>\n",
       "      <td>0</td>\n",
       "      <td>0</td>\n",
       "      <td>0</td>\n",
       "      <td>0</td>\n",
       "      <td>0</td>\n",
       "      <td>0</td>\n",
       "      <td>0</td>\n",
       "      <td>0</td>\n",
       "      <td>1</td>\n",
       "      <td>0</td>\n",
       "      <td>...</td>\n",
       "      <td>0</td>\n",
       "      <td>0</td>\n",
       "      <td>0</td>\n",
       "      <td>0</td>\n",
       "      <td>0</td>\n",
       "      <td>0</td>\n",
       "      <td>0</td>\n",
       "      <td>0</td>\n",
       "      <td>0</td>\n",
       "      <td>0</td>\n",
       "    </tr>\n",
       "  </tbody>\n",
       "</table>\n",
       "<p>30396 rows × 22761 columns</p>\n",
       "</div>"
      ],
      "text/plain": [
       "       0      1      2      3      4      5      6      7      8      9      \\\n",
       "0          1      0      0      0      0      0      0      0      1      0   \n",
       "1          0      0      0      0      0      0      0      0      1      0   \n",
       "2          0      0      0      0      0      0      0      0      0      0   \n",
       "3          0      0      0      0      0      0      0      0      1      0   \n",
       "4          1      1      0      0      0      0      0      0      0      0   \n",
       "...      ...    ...    ...    ...    ...    ...    ...    ...    ...    ...   \n",
       "30391      0      0      0      0      0      0      0      0      0      0   \n",
       "30392      0      0      0      0      0      0      0      1      1      0   \n",
       "30393      0      0      0      0      0      0      0      0      0      0   \n",
       "30394      0      0      0      1      0      0      0      1      1      0   \n",
       "30395      0      0      0      0      0      0      0      0      1      0   \n",
       "\n",
       "       ...  22751  22752  22753  22754  22755  22756  22757  22758  22759  \\\n",
       "0      ...      0      0      0      0      0      0      0      0      0   \n",
       "1      ...      0      0      0      0      0      0      0      0      0   \n",
       "2      ...      0      0      0      0      0      0      0      0      0   \n",
       "3      ...      0      0      0      0      0      0      0      0      0   \n",
       "4      ...      0      0      0      0      0      0      0      0      0   \n",
       "...    ...    ...    ...    ...    ...    ...    ...    ...    ...    ...   \n",
       "30391  ...      0      0      0      0      0      0      0      0      0   \n",
       "30392  ...      0      0      0      0      0      0      0      0      0   \n",
       "30393  ...      0      0      0      0      0      0      0      0      0   \n",
       "30394  ...      0      0      0      0      0      0      0      0      0   \n",
       "30395  ...      0      0      0      0      0      0      0      0      0   \n",
       "\n",
       "       22760  \n",
       "0          0  \n",
       "1          0  \n",
       "2          0  \n",
       "3          0  \n",
       "4          0  \n",
       "...      ...  \n",
       "30391      0  \n",
       "30392      0  \n",
       "30393      0  \n",
       "30394      0  \n",
       "30395      0  \n",
       "\n",
       "[30396 rows x 22761 columns]"
      ]
     },
     "execution_count": 4,
     "metadata": {},
     "output_type": "execute_result"
    }
   ],
   "source": [
    "pd.DataFrame(X)"
   ]
  },
  {
   "cell_type": "markdown",
   "metadata": {},
   "source": [
    "### Training logistic regression model before attacking"
   ]
  },
  {
   "cell_type": "code",
   "execution_count": 5,
   "metadata": {},
   "outputs": [
    {
     "name": "stdout",
     "output_type": "stream",
     "text": [
      "              precision    recall  f1-score   support\n",
      "\n",
      "           0       0.93      0.90      0.92      3015\n",
      "           1       0.91      0.93      0.92      3065\n",
      "\n",
      "    accuracy                           0.92      6080\n",
      "   macro avg       0.92      0.92      0.92      6080\n",
      "weighted avg       0.92      0.92      0.92      6080\n",
      "\n",
      "Accuracy: 91.90789473684211\n"
     ]
    },
    {
     "data": {
      "image/png": "[encoded data removed]",
      "text/plain": [
       "<Figure size 432x288 with 2 Axes>"
      ]
     },
     "metadata": {
      "needs_background": "light"
     },
     "output_type": "display_data"
    }
   ],
   "source": [
    "X_train, X_test, y_train, y_test = train_test_split(X, y, test_size=0.20, random_state=0)\n",
    "\n",
    "clf = SGDClassifier(loss='log', random_state=0, n_jobs=-1)\n",
    "clf.fit(X_train, y_train)\n",
    "\n",
    "y_predictions = clf.predict(X_test)\n",
    "\n",
    "print(classification_report(y_test, y_predictions))\n",
    "print(f\"Accuracy: {accuracy_score(y_test, y_predictions) * 100}\")\n",
    "\n",
    "ConfusionMatrixDisplay.from_predictions(y_test, y_predictions)\n",
    "plt.show()"
   ]
  },
  {
   "cell_type": "markdown",
   "metadata": {},
   "source": [
    "## 2. Attacking linear models (5 Points)"
   ]
  },
  {
   "cell_type": "markdown",
   "metadata": {},
   "source": [
    "### 2a. Implementing useless import attacks\n"
   ]
  },
  {
   "cell_type": "code",
   "execution_count": 6,
   "metadata": {},
   "outputs": [],
   "source": [
    "def evade(sample, coef):\n",
    "    \"\"\"\n",
    "    Performs an evasion attack on the provided sample,\n",
    "    based on the coefficient values of the linear model.\n",
    "    If the coefficient value of the particular import is negative,\n",
    "    it adds the import.\n",
    "\n",
    "    Arguments:\n",
    "        sample: the array-like element, representing the imports\n",
    "        coef: array of the coefficient values of the linear model\n",
    "    Returns:\n",
    "        Copy of the passed sample with the evasion attack performed on it.\n",
    "    \"\"\"\n",
    "    result = sample.copy()\n",
    "    for i in range(len(result)):\n",
    "        if coef[i] < 0:\n",
    "            result[i] = 1\n",
    "    return result"
   ]
  },
  {
   "cell_type": "code",
   "execution_count": 7,
   "metadata": {},
   "outputs": [],
   "source": [
    "X_attack = X_test.copy()\n",
    "\n",
    "# Coefficient values of the originally trained model and its coefficient.\n",
    "# Will be used later to perform all the evasion attacks.\n",
    "coef = clf.coef_[0]\n",
    "\n",
    "# Apply the evasion attack on the malicious rows from (copy of) the test set\n",
    "for i in range(len(X_attack)):\n",
    "    if y_test[i] == 1:\n",
    "        X_attack[i] = evade(X_attack[i], coef)\n"
   ]
  },
  {
   "cell_type": "code",
   "execution_count": 8,
   "metadata": {},
   "outputs": [
    {
     "name": "stdout",
     "output_type": "stream",
     "text": [
      "              precision    recall  f1-score   support\n",
      "\n",
      "           0       0.47      0.90      0.62      3015\n",
      "           1       0.00      0.00      0.00      3065\n",
      "\n",
      "    accuracy                           0.45      6080\n",
      "   macro avg       0.24      0.45      0.31      6080\n",
      "weighted avg       0.23      0.45      0.31      6080\n",
      "\n",
      "Accuracy: 44.83552631578947\n"
     ]
    },
    {
     "data": {
      "image/png": "[encoded data removed]",
      "text/plain": [
       "<Figure size 432x288 with 2 Axes>"
      ]
     },
     "metadata": {
      "needs_background": "light"
     },
     "output_type": "display_data"
    }
   ],
   "source": [
    "y_predictions = clf.predict(X_attack)\n",
    "\n",
    "print(classification_report(y_test, y_predictions))\n",
    "print(f\"Accuracy: {accuracy_score(y_test, y_predictions) * 100}\")\n",
    "\n",
    "ConfusionMatrixDisplay.from_predictions(y_test, y_predictions)\n",
    "plt.show()"
   ]
  },
  {
   "cell_type": "markdown",
   "metadata": {},
   "source": [
    "### 2b. Analysis and answers to the questions\n",
    "\n",
    "The implemented evasion attack adds useless import whevever the value of the linear model's coefficient is smaller than zero.\n",
    "Applying it to the malicious examples from the test data manages to significantly decrease the overall accuracy of the model, leading to all the malicious examples being classified as benign.\n",
    "This means that the model is not robust against adding useless imports - especially if the values of the model's coefficients are known to the attacker."
   ]
  },
  {
   "cell_type": "markdown",
   "metadata": {},
   "source": [
    "## 3. Improving robustness by hardening (5 Points)"
   ]
  },
  {
   "cell_type": "markdown",
   "metadata": {},
   "source": [
    "### 3a. Implementing hardening"
   ]
  },
  {
   "cell_type": "markdown",
   "metadata": {},
   "source": [
    "#### Fitting the linear model"
   ]
  },
  {
   "cell_type": "code",
   "execution_count": 9,
   "metadata": {},
   "outputs": [],
   "source": [
    "# Prepare the train and test sets\n",
    "X_train, X_test, y_train, y_test = train_test_split(X, y, test_size=0.20, random_state=0)\n",
    "\n",
    "# Prepare an extra train set with malicious entries that have evasion attacks applied\n",
    "X_train_attack = []\n",
    "y_train_attack = []\n",
    "\n",
    "for i in range(len(X_train)):\n",
    "    if y_train[i] == 1:\n",
    "        X_train_attack += [evade(X_train[i], coef)]\n",
    "        y_train_attack += [1]"
   ]
  },
  {
   "cell_type": "code",
   "execution_count": 10,
   "metadata": {},
   "outputs": [
    {
     "data": {
      "text/plain": [
       "SGDClassifier(loss='log', n_jobs=-1, random_state=0)"
      ]
     },
     "execution_count": 10,
     "metadata": {},
     "output_type": "execute_result"
    }
   ],
   "source": [
    "clf = SGDClassifier(loss='log', random_state=0, n_jobs=-1)\n",
    "clf.fit(X_train, y_train)\n",
    "clf.partial_fit(X_train_attack, y_train_attack)"
   ]
  },
  {
   "cell_type": "markdown",
   "metadata": {},
   "source": [
    "#### Test without evasion attack applied"
   ]
  },
  {
   "cell_type": "code",
   "execution_count": 11,
   "metadata": {},
   "outputs": [
    {
     "name": "stdout",
     "output_type": "stream",
     "text": [
      "              precision    recall  f1-score   support\n",
      "\n",
      "           0       0.98      0.15      0.26      3015\n",
      "           1       0.54      1.00      0.70      3065\n",
      "\n",
      "    accuracy                           0.58      6080\n",
      "   macro avg       0.76      0.57      0.48      6080\n",
      "weighted avg       0.76      0.58      0.49      6080\n",
      "\n",
      "Accuracy: 57.8453947368421\n"
     ]
    },
    {
     "data": {
      "image/png": "[encoded data removed]",
      "text/plain": [
       "<Figure size 432x288 with 2 Axes>"
      ]
     },
     "metadata": {
      "needs_background": "light"
     },
     "output_type": "display_data"
    }
   ],
   "source": [
    "# Measure model performance with the original test set\n",
    "y_predictions = clf.predict(X_test)\n",
    "\n",
    "print(classification_report(y_test, y_predictions))\n",
    "print(f\"Accuracy: {accuracy_score(y_test, y_predictions) * 100}\")\n",
    "\n",
    "ConfusionMatrixDisplay.from_predictions(y_test, y_predictions)\n",
    "plt.show()"
   ]
  },
  {
   "cell_type": "markdown",
   "metadata": {},
   "source": [
    "#### Test with evasion attack applied"
   ]
  },
  {
   "cell_type": "code",
   "execution_count": 12,
   "metadata": {},
   "outputs": [],
   "source": [
    "# Measure model performance with the test set,\n",
    "# where malicious samples have the evasion attack applied\n",
    "X_test_attack = X_test.copy()\n",
    "\n",
    "for i in range(len(X_test_attack)):\n",
    "    if y_test[i] == 1:\n",
    "        X_test_attack[i] = evade(X_test_attack[i], coef)"
   ]
  },
  {
   "cell_type": "code",
   "execution_count": 13,
   "metadata": {},
   "outputs": [
    {
     "name": "stdout",
     "output_type": "stream",
     "text": [
      "              precision    recall  f1-score   support\n",
      "\n",
      "           0       1.00      0.15      0.26      3015\n",
      "           1       0.55      1.00      0.71      3065\n",
      "\n",
      "    accuracy                           0.58      6080\n",
      "   macro avg       0.77      0.58      0.48      6080\n",
      "weighted avg       0.77      0.58      0.49      6080\n",
      "\n",
      "Accuracy: 57.96052631578947\n"
     ]
    },
    {
     "data": {
      "image/png": "[encoded data removed]",
      "text/plain": [
       "<Figure size 432x288 with 2 Axes>"
      ]
     },
     "metadata": {
      "needs_background": "light"
     },
     "output_type": "display_data"
    }
   ],
   "source": [
    "y_predictions = clf.predict(X_test_attack)\n",
    "\n",
    "print(classification_report(y_test, y_predictions))\n",
    "print(f\"Accuracy: {accuracy_score(y_test, y_predictions) * 100}\")\n",
    "\n",
    "ConfusionMatrixDisplay.from_predictions(y_test, y_predictions)\n",
    "plt.show()"
   ]
  },
  {
   "cell_type": "markdown",
   "metadata": {},
   "source": [
    "### 3b. Analysis and answers to the questions\n",
    "\n",
    "Partially fitting the model with the training samples that had the evasion attack applied to them vastly increases the recall of the malicious class and classifies the malicious samples correctly even after applying the evasion attacks to them.\n",
    "However, it also significantly decreases the precision and leads to majority of the benign samples being classified as malicious.\n",
    "Although one could argue that the model is good at predicting the malicious entries, in practice it cannot be reliably applied due to amount of reported false positives."
   ]
  },
  {
   "cell_type": "markdown",
   "metadata": {},
   "source": [
    "## 4. Training non-negative linear models (5 Points)"
   ]
  },
  {
   "cell_type": "markdown",
   "metadata": {},
   "source": [
    "### 4a. Implement non-negative logistic regression using SGD"
   ]
  },
  {
   "cell_type": "code",
   "execution_count": 25,
   "metadata": {},
   "outputs": [],
   "source": [
    "def clip_coefficients(clf):\n",
    "    \"\"\"\n",
    "    Clips the estimator coefficients to the non-negative values.\n",
    "    It modifies the original estimator and doesn't create a new one.\n",
    "\n",
    "    Arguments:\n",
    "        clf: estimator with coefficients to clip\n",
    "    \"\"\"\n",
    "    coef_to_clip = clf.coef_[0]\n",
    "    for i in range(len(coef_to_clip)):\n",
    "        if coef_to_clip[i] < 0:\n",
    "            coef_to_clip[i] = 0"
   ]
  },
  {
   "cell_type": "markdown",
   "metadata": {},
   "source": [
    "#### Fitting classifiers with different learning batch sizes"
   ]
  },
  {
   "cell_type": "code",
   "execution_count": 26,
   "metadata": {},
   "outputs": [
    {
     "name": "stdout",
     "output_type": "stream",
     "text": [
      "Training for batch size:  5\n",
      "Training for batch size 5 took 37.7323362827301 seconds\n",
      "Training for batch size:  10\n",
      "Training for batch size 10 took 23.966496467590332 seconds\n",
      "Training for batch size:  25\n",
      "Training for batch size 25 took 13.027670621871948 seconds\n",
      "Training for batch size:  50\n",
      "Training for batch size 50 took 7.5735414028167725 seconds\n",
      "Training for batch size:  100\n",
      "Training for batch size 100 took 5.447402715682983 seconds\n",
      "Training for batch size:  250\n",
      "Training for batch size 250 took 4.388100624084473 seconds\n",
      "Training for batch size:  500\n",
      "Training for batch size 500 took 3.924659013748169 seconds\n",
      "Training for batch size:  1000\n",
      "Training for batch size 1000 took 3.400862216949463 seconds\n"
     ]
    }
   ],
   "source": [
    "X_train, X_test, y_train, y_test = train_test_split(X, y, test_size=0.20, random_state=0)\n",
    "\n",
    "# Partial fit batch sizes to try\n",
    "batch_sizes = [5, 10, 25, 50, 100, 250, 500, 1000]\n",
    "# The list of classifiers,\n",
    "# trained on batch sizes from the above list\n",
    "clfs = []\n",
    "# The partial fit invocation counters of the classifiers,\n",
    "# trained on batch sizes from the above list\n",
    "partial_fit_counters = []\n",
    "partial_fit_time = []\n",
    "\n",
    "for batch_size in batch_sizes:\n",
    "    print('Training for batch size: ', batch_size)\n",
    "    clf = SGDClassifier(loss='log', random_state=0, n_jobs=-1)\n",
    "    partial_fit_counter = 0\n",
    "    start_time = time.time()\n",
    "    for i in range(0, len(X_train), batch_size):\n",
    "        partial_fit_counter += 1\n",
    "        clf.partial_fit(X_train[i:i+batch_size], y_train[i:i+batch_size], classes=[0, 1])\n",
    "        # Clip the coefficients to non-negative values after every training batch\n",
    "        clip_coefficients(clf)\n",
    "    end_time = time.time() - start_time\n",
    "    clfs += [clf]\n",
    "    partial_fit_counters += [partial_fit_counter]\n",
    "    partial_fit_time += [end_time]\n",
    "    print(f'Training for batch size {batch_size} took {end_time} seconds')"
   ]
  },
  {
   "cell_type": "code",
   "execution_count": 27,
   "metadata": {},
   "outputs": [],
   "source": [
    "# Prepare test dataset with the evasion attacks applied to the malicious samples\n",
    "X_test_attack = X_test.copy()\n",
    "\n",
    "for i in range(len(X_test_attack)):\n",
    "    if y_test[i] == 1:\n",
    "        X_test_attack[i] = evade(X_test_attack[i], coef)"
   ]
  },
  {
   "cell_type": "code",
   "execution_count": 28,
   "metadata": {},
   "outputs": [
    {
     "name": "stdout",
     "output_type": "stream",
     "text": [
      "***** BATCH SIZE 5 (partial fit calls: 4864) *****\n",
      "Classification report for samples WITHOUT evasion attack:\n",
      "              precision    recall  f1-score   support\n",
      "\n",
      "           0       0.82      0.88      0.85      3015\n",
      "           1       0.88      0.80      0.84      3065\n",
      "\n",
      "    accuracy                           0.84      6080\n",
      "   macro avg       0.85      0.84      0.84      6080\n",
      "weighted avg       0.85      0.84      0.84      6080\n",
      "\n",
      "Accuracy: 84.32565789473684\n",
      "Classification report for samples WITH evasion attack:\n",
      "              precision    recall  f1-score   support\n",
      "\n",
      "           0       1.00      0.88      0.94      3015\n",
      "           1       0.90      1.00      0.95      3065\n",
      "\n",
      "    accuracy                           0.94      6080\n",
      "   macro avg       0.95      0.94      0.94      6080\n",
      "weighted avg       0.95      0.94      0.94      6080\n",
      "\n",
      "Accuracy: 94.24342105263158\n"
     ]
    },
    {
     "data": {
      "image/png": "[encoded data removed]",
      "text/plain": [
       "<Figure size 1080x360 with 4 Axes>"
      ]
     },
     "metadata": {
      "needs_background": "light"
     },
     "output_type": "display_data"
    },
    {
     "name": "stdout",
     "output_type": "stream",
     "text": [
      "***** BATCH SIZE 10 (partial fit calls: 2432) *****\n",
      "Classification report for samples WITHOUT evasion attack:\n",
      "              precision    recall  f1-score   support\n",
      "\n",
      "           0       0.76      0.39      0.51      3015\n",
      "           1       0.59      0.88      0.71      3065\n",
      "\n",
      "    accuracy                           0.64      6080\n",
      "   macro avg       0.68      0.63      0.61      6080\n",
      "weighted avg       0.68      0.64      0.61      6080\n",
      "\n",
      "Accuracy: 63.63486842105262\n",
      "Classification report for samples WITH evasion attack:\n",
      "              precision    recall  f1-score   support\n",
      "\n",
      "           0       1.00      0.39      0.56      3015\n",
      "           1       0.62      1.00      0.77      3065\n",
      "\n",
      "    accuracy                           0.70      6080\n",
      "   macro avg       0.81      0.69      0.66      6080\n",
      "weighted avg       0.81      0.70      0.66      6080\n",
      "\n",
      "Accuracy: 69.50657894736842\n"
     ]
    },
    {
     "data": {
      "image/png": "[encoded data removed]",
      "text/plain": [
       "<Figure size 1080x360 with 4 Axes>"
      ]
     },
     "metadata": {
      "needs_background": "light"
     },
     "output_type": "display_data"
    },
    {
     "name": "stdout",
     "output_type": "stream",
     "text": [
      "***** BATCH SIZE 25 (partial fit calls: 973) *****\n",
      "Classification report for samples WITHOUT evasion attack:\n",
      "              precision    recall  f1-score   support\n",
      "\n",
      "           0       0.84      0.48      0.61      3015\n",
      "           1       0.64      0.91      0.75      3065\n",
      "\n",
      "    accuracy                           0.70      6080\n",
      "   macro avg       0.74      0.70      0.68      6080\n",
      "weighted avg       0.74      0.70      0.68      6080\n",
      "\n",
      "Accuracy: 69.73684210526315\n",
      "Classification report for samples WITH evasion attack:\n",
      "              precision    recall  f1-score   support\n",
      "\n",
      "           0       1.00      0.48      0.65      3015\n",
      "           1       0.66      1.00      0.80      3065\n",
      "\n",
      "    accuracy                           0.74      6080\n",
      "   macro avg       0.83      0.74      0.73      6080\n",
      "weighted avg       0.83      0.74      0.73      6080\n",
      "\n",
      "Accuracy: 74.45723684210527\n"
     ]
    },
    {
     "data": {
      "image/png": "[encoded data removed]",
      "text/plain": [
       "<Figure size 1080x360 with 4 Axes>"
      ]
     },
     "metadata": {
      "needs_background": "light"
     },
     "output_type": "display_data"
    },
    {
     "name": "stdout",
     "output_type": "stream",
     "text": [
      "***** BATCH SIZE 50 (partial fit calls: 487) *****\n",
      "Classification report for samples WITHOUT evasion attack:\n",
      "              precision    recall  f1-score   support\n",
      "\n",
      "           0       0.87      0.69      0.77      3015\n",
      "           1       0.75      0.90      0.82      3065\n",
      "\n",
      "    accuracy                           0.80      6080\n",
      "   macro avg       0.81      0.80      0.79      6080\n",
      "weighted avg       0.81      0.80      0.79      6080\n",
      "\n",
      "Accuracy: 79.65460526315789\n",
      "Classification report for samples WITH evasion attack:\n",
      "              precision    recall  f1-score   support\n",
      "\n",
      "           0       1.00      0.69      0.82      3015\n",
      "           1       0.77      1.00      0.87      3065\n",
      "\n",
      "    accuracy                           0.85      6080\n",
      "   macro avg       0.88      0.84      0.84      6080\n",
      "weighted avg       0.88      0.85      0.84      6080\n",
      "\n",
      "Accuracy: 84.60526315789474\n"
     ]
    },
    {
     "data": {
      "image/png": "[encoded data removed]",
      "text/plain": [
       "<Figure size 1080x360 with 4 Axes>"
      ]
     },
     "metadata": {
      "needs_background": "light"
     },
     "output_type": "display_data"
    },
    {
     "name": "stdout",
     "output_type": "stream",
     "text": [
      "***** BATCH SIZE 100 (partial fit calls: 244) *****\n",
      "Classification report for samples WITHOUT evasion attack:\n",
      "              precision    recall  f1-score   support\n",
      "\n",
      "           0       0.67      0.07      0.13      3015\n",
      "           1       0.51      0.97      0.67      3065\n",
      "\n",
      "    accuracy                           0.52      6080\n",
      "   macro avg       0.59      0.52      0.40      6080\n",
      "weighted avg       0.59      0.52      0.40      6080\n",
      "\n",
      "Accuracy: 52.203947368421055\n",
      "Classification report for samples WITH evasion attack:\n",
      "              precision    recall  f1-score   support\n",
      "\n",
      "           0       1.00      0.07      0.13      3015\n",
      "           1       0.52      1.00      0.69      3065\n",
      "\n",
      "    accuracy                           0.54      6080\n",
      "   macro avg       0.76      0.54      0.41      6080\n",
      "weighted avg       0.76      0.54      0.41      6080\n",
      "\n",
      "Accuracy: 53.89802631578947\n"
     ]
    },
    {
     "data": {
      "image/png": "[encoded data removed]",
      "text/plain": [
       "<Figure size 1080x360 with 4 Axes>"
      ]
     },
     "metadata": {
      "needs_background": "light"
     },
     "output_type": "display_data"
    },
    {
     "name": "stdout",
     "output_type": "stream",
     "text": [
      "***** BATCH SIZE 250 (partial fit calls: 98) *****\n",
      "Classification report for samples WITHOUT evasion attack:\n",
      "              precision    recall  f1-score   support\n",
      "\n",
      "           0       0.64      0.06      0.11      3015\n",
      "           1       0.51      0.97      0.67      3065\n",
      "\n",
      "    accuracy                           0.52      6080\n",
      "   macro avg       0.57      0.51      0.39      6080\n",
      "weighted avg       0.57      0.52      0.39      6080\n",
      "\n",
      "Accuracy: 51.661184210526315\n",
      "Classification report for samples WITH evasion attack:\n",
      "              precision    recall  f1-score   support\n",
      "\n",
      "           0       1.00      0.06      0.11      3015\n",
      "           1       0.52      1.00      0.68      3065\n",
      "\n",
      "    accuracy                           0.53      6080\n",
      "   macro avg       0.76      0.53      0.40      6080\n",
      "weighted avg       0.76      0.53      0.40      6080\n",
      "\n",
      "Accuracy: 53.338815789473685\n"
     ]
    },
    {
     "data": {
      "image/png": "[encoded data removed]",
      "text/plain": [
       "<Figure size 1080x360 with 4 Axes>"
      ]
     },
     "metadata": {
      "needs_background": "light"
     },
     "output_type": "display_data"
    },
    {
     "name": "stdout",
     "output_type": "stream",
     "text": [
      "***** BATCH SIZE 500 (partial fit calls: 49) *****\n",
      "Classification report for samples WITHOUT evasion attack:\n",
      "              precision    recall  f1-score   support\n",
      "\n",
      "           0       0.55      0.03      0.07      3015\n",
      "           1       0.51      0.97      0.67      3065\n",
      "\n",
      "    accuracy                           0.51      6080\n",
      "   macro avg       0.53      0.50      0.37      6080\n",
      "weighted avg       0.53      0.51      0.37      6080\n",
      "\n",
      "Accuracy: 50.70723684210526\n",
      "Classification report for samples WITH evasion attack:\n",
      "              precision    recall  f1-score   support\n",
      "\n",
      "           0       1.00      0.03      0.07      3015\n",
      "           1       0.51      1.00      0.68      3065\n",
      "\n",
      "    accuracy                           0.52      6080\n",
      "   macro avg       0.76      0.52      0.37      6080\n",
      "weighted avg       0.75      0.52      0.38      6080\n",
      "\n",
      "Accuracy: 52.13815789473685\n"
     ]
    },
    {
     "data": {
      "image/png": "[encoded data removed]",
      "text/plain": [
       "<Figure size 1080x360 with 4 Axes>"
      ]
     },
     "metadata": {
      "needs_background": "light"
     },
     "output_type": "display_data"
    },
    {
     "name": "stdout",
     "output_type": "stream",
     "text": [
      "***** BATCH SIZE 1000 (partial fit calls: 25) *****\n",
      "Classification report for samples WITHOUT evasion attack:\n",
      "              precision    recall  f1-score   support\n",
      "\n",
      "           0       0.56      0.03      0.05      3015\n",
      "           1       0.51      0.98      0.67      3065\n",
      "\n",
      "    accuracy                           0.51      6080\n",
      "   macro avg       0.53      0.50      0.36      6080\n",
      "weighted avg       0.53      0.51      0.36      6080\n",
      "\n",
      "Accuracy: 50.690789473684205\n",
      "Classification report for samples WITH evasion attack:\n",
      "              precision    recall  f1-score   support\n",
      "\n",
      "           0       1.00      0.03      0.05      3015\n",
      "           1       0.51      1.00      0.68      3065\n",
      "\n",
      "    accuracy                           0.52      6080\n",
      "   macro avg       0.76      0.51      0.36      6080\n",
      "weighted avg       0.75      0.52      0.37      6080\n",
      "\n",
      "Accuracy: 51.67763157894737\n"
     ]
    },
    {
     "data": {
      "image/png": "[encoded data removed]",
      "text/plain": [
       "<Figure size 1080x360 with 4 Axes>"
      ]
     },
     "metadata": {
      "needs_background": "light"
     },
     "output_type": "display_data"
    }
   ],
   "source": [
    "# Accuracies of the classifiers when measured on the samples\n",
    "# without evasion attack applied to the malicious ones\n",
    "clf_accuracies = []\n",
    "# Accuracies of the classifiers when measured on the samples\n",
    "# WITH evasion attack applied to the malicious ones\n",
    "clf_evasion_accuracies = []\n",
    "\n",
    "for i, batch_size in enumerate(batch_sizes):\n",
    "    print(f'***** BATCH SIZE {batch_size} (partial fit calls: {partial_fit_counters[i]}) *****')\n",
    "\n",
    "    y_predictions = clfs[i].predict(X_test)\n",
    "    y_evasion_predictions = clfs[i].predict(X_test_attack)\n",
    "\n",
    "    accuracy = accuracy_score(y_test, y_predictions) * 100\n",
    "    evasion_accuracy = accuracy_score(y_test, y_evasion_predictions) * 100\n",
    "    clf_accuracies += [accuracy]\n",
    "    clf_evasion_accuracies += [evasion_accuracy]\n",
    "\n",
    "    print('Classification report for samples WITHOUT evasion attack:')\n",
    "    print(classification_report(y_test, y_predictions))\n",
    "    print(\"Accuracy:\", accuracy)\n",
    "    print('Classification report for samples WITH evasion attack:')\n",
    "    print(classification_report(y_test, y_evasion_predictions))\n",
    "    print(\"Accuracy:\", evasion_accuracy)\n",
    "\n",
    "    _, (ax1, ax2) = plt.subplots(1, 2, figsize=(15, 5))\n",
    "    ConfusionMatrixDisplay.from_predictions(y_test, y_predictions, ax=ax1)\n",
    "    ax1.set_title('WITHOUT evasion attack')\n",
    "    ConfusionMatrixDisplay.from_predictions(y_test, y_evasion_predictions, ax=ax2)\n",
    "    ax2.set_title('WITH evasion attack')\n",
    "    plt.show()"
   ]
  },
  {
   "cell_type": "code",
   "execution_count": 29,
   "metadata": {},
   "outputs": [
    {
     "data": {
      "text/html": [
       "<div>\n",
       "<style scoped>\n",
       "    .dataframe tbody tr th:only-of-type {\n",
       "        vertical-align: middle;\n",
       "    }\n",
       "\n",
       "    .dataframe tbody tr th {\n",
       "        vertical-align: top;\n",
       "    }\n",
       "\n",
       "    .dataframe thead th {\n",
       "        text-align: right;\n",
       "    }\n",
       "</style>\n",
       "<table border=\"1\" class=\"dataframe\">\n",
       "  <thead>\n",
       "    <tr style=\"text-align: right;\">\n",
       "      <th></th>\n",
       "      <th>Accuracy without evasion</th>\n",
       "      <th>Accuracy with evasion</th>\n",
       "    </tr>\n",
       "  </thead>\n",
       "  <tbody>\n",
       "    <tr>\n",
       "      <th>5</th>\n",
       "      <td>84.325658</td>\n",
       "      <td>94.243421</td>\n",
       "    </tr>\n",
       "    <tr>\n",
       "      <th>10</th>\n",
       "      <td>63.634868</td>\n",
       "      <td>69.506579</td>\n",
       "    </tr>\n",
       "    <tr>\n",
       "      <th>25</th>\n",
       "      <td>69.736842</td>\n",
       "      <td>74.457237</td>\n",
       "    </tr>\n",
       "    <tr>\n",
       "      <th>50</th>\n",
       "      <td>79.654605</td>\n",
       "      <td>84.605263</td>\n",
       "    </tr>\n",
       "    <tr>\n",
       "      <th>100</th>\n",
       "      <td>52.203947</td>\n",
       "      <td>53.898026</td>\n",
       "    </tr>\n",
       "    <tr>\n",
       "      <th>250</th>\n",
       "      <td>51.661184</td>\n",
       "      <td>53.338816</td>\n",
       "    </tr>\n",
       "    <tr>\n",
       "      <th>500</th>\n",
       "      <td>50.707237</td>\n",
       "      <td>52.138158</td>\n",
       "    </tr>\n",
       "    <tr>\n",
       "      <th>1000</th>\n",
       "      <td>50.690789</td>\n",
       "      <td>51.677632</td>\n",
       "    </tr>\n",
       "  </tbody>\n",
       "</table>\n",
       "</div>"
      ],
      "text/plain": [
       "      Accuracy without evasion  Accuracy with evasion\n",
       "5                    84.325658              94.243421\n",
       "10                   63.634868              69.506579\n",
       "25                   69.736842              74.457237\n",
       "50                   79.654605              84.605263\n",
       "100                  52.203947              53.898026\n",
       "250                  51.661184              53.338816\n",
       "500                  50.707237              52.138158\n",
       "1000                 50.690789              51.677632"
      ]
     },
     "execution_count": 29,
     "metadata": {},
     "output_type": "execute_result"
    }
   ],
   "source": [
    "accuracies = {\n",
    "    'Accuracy without evasion': clf_accuracies,\n",
    "    'Accuracy with evasion': clf_evasion_accuracies\n",
    "}\n",
    "\n",
    "df_iterations = pd.DataFrame(accuracies, index=batch_sizes)\n",
    "df_iterations"
   ]
  },
  {
   "cell_type": "code",
   "execution_count": 30,
   "metadata": {},
   "outputs": [
    {
     "data": {
      "image/png": "[encoded data removed]",
      "text/plain": [
       "<Figure size 1800x360 with 1 Axes>"
      ]
     },
     "metadata": {
      "needs_background": "light"
     },
     "output_type": "display_data"
    }
   ],
   "source": [
    "_, ax = plt.subplots(1, 1, figsize=(25, 5))\n",
    "df_iterations.plot(\n",
    "    ax=ax,\n",
    "    title='Linear model accuracy, based on the batch size of the partial fit',\n",
    "    xlabel='Partial fit batch size',\n",
    "    ylabel='Accuracy (in %)',\n",
    ")\n",
    "plt.show()"
   ]
  },
  {
   "cell_type": "code",
   "execution_count": 31,
   "metadata": {},
   "outputs": [
    {
     "data": {
      "text/html": [
       "<div>\n",
       "<style scoped>\n",
       "    .dataframe tbody tr th:only-of-type {\n",
       "        vertical-align: middle;\n",
       "    }\n",
       "\n",
       "    .dataframe tbody tr th {\n",
       "        vertical-align: top;\n",
       "    }\n",
       "\n",
       "    .dataframe thead th {\n",
       "        text-align: right;\n",
       "    }\n",
       "</style>\n",
       "<table border=\"1\" class=\"dataframe\">\n",
       "  <thead>\n",
       "    <tr style=\"text-align: right;\">\n",
       "      <th></th>\n",
       "      <th>Time</th>\n",
       "    </tr>\n",
       "  </thead>\n",
       "  <tbody>\n",
       "    <tr>\n",
       "      <th>5</th>\n",
       "      <td>37.732336</td>\n",
       "    </tr>\n",
       "    <tr>\n",
       "      <th>10</th>\n",
       "      <td>23.966496</td>\n",
       "    </tr>\n",
       "    <tr>\n",
       "      <th>25</th>\n",
       "      <td>13.027671</td>\n",
       "    </tr>\n",
       "    <tr>\n",
       "      <th>50</th>\n",
       "      <td>7.573541</td>\n",
       "    </tr>\n",
       "    <tr>\n",
       "      <th>100</th>\n",
       "      <td>5.447403</td>\n",
       "    </tr>\n",
       "    <tr>\n",
       "      <th>250</th>\n",
       "      <td>4.388101</td>\n",
       "    </tr>\n",
       "    <tr>\n",
       "      <th>500</th>\n",
       "      <td>3.924659</td>\n",
       "    </tr>\n",
       "    <tr>\n",
       "      <th>1000</th>\n",
       "      <td>3.400862</td>\n",
       "    </tr>\n",
       "  </tbody>\n",
       "</table>\n",
       "</div>"
      ],
      "text/plain": [
       "           Time\n",
       "5     37.732336\n",
       "10    23.966496\n",
       "25    13.027671\n",
       "50     7.573541\n",
       "100    5.447403\n",
       "250    4.388101\n",
       "500    3.924659\n",
       "1000   3.400862"
      ]
     },
     "execution_count": 31,
     "metadata": {},
     "output_type": "execute_result"
    }
   ],
   "source": [
    "df_time = pd.DataFrame({'Time': partial_fit_time}, index=batch_sizes)\n",
    "df_time"
   ]
  },
  {
   "cell_type": "code",
   "execution_count": 33,
   "metadata": {},
   "outputs": [
    {
     "data": {
      "image/png": "[encoded data removed]",
      "text/plain": [
       "<Figure size 1800x360 with 1 Axes>"
      ]
     },
     "metadata": {
      "needs_background": "light"
     },
     "output_type": "display_data"
    }
   ],
   "source": [
    "_, ax = plt.subplots(1, 1, figsize=(25, 5))\n",
    "df_time.plot(\n",
    "    ax=ax,\n",
    "    title='Time it takes to train the linear model, based on the batch size of the partial fit',\n",
    "    xlabel='Partial fit batch size',\n",
    "    ylabel='Time (in seconds)',\n",
    ")\n",
    "plt.show()"
   ]
  },
  {
   "cell_type": "markdown",
   "metadata": {},
   "source": [
    "### 4b. Analysis and answers to the questions.\n",
    "\n",
    "The coefficient clipping seems to achieve better results than hardening the model.\n",
    "Although both methods reach high recall when it comes to classifying malicious samples - both with and without evasion attacks applied - the false positive count (benign entries classified as malicious) for clipping is much lower than for hardening.\n",
    "This is true especially for the smaller batches of partial fit, where after each batch the coefficients are limited to non-negative values.\n",
    "\n",
    "We can observe that the model's accuracy decreases as the partial fit batch size increases.\n",
    "The larger the partial fit batch size is, the less precise the model becomes, leaning towards classifying all the entries as malicious.\n",
    "This stems from the fact that the clipping is performed less often, losing more information in the process.\n",
    "Larger batch sizes lead to less false negatives (malicious entries classified as benign) for malicious entries with both evasion attack applied and not. \n",
    "However, it also quickly decreases the recall for benign class and leads to more false positives.\n",
    "\n",
    "From the practical perspective it is much more beneficial to use the coefficient clipping method.\n",
    "The smaller batch sizes are able to train the model, which is robust against the evasion attacks and has a reasonable recall for both benign and malicious classes (does not trigger too many false positives).\n",
    "However, the smaller batches take much more time to train than the larger ones.\n",
    "From the plot above we can see a significant jump in accuracy for the batches of 50 samples, while keeping the training time over 5 times shorter than for the training batches of size 5.\n",
    "This means that it could be the sweet spot for the systems, where the continuous training is utilized."
   ]
  },
  {
   "cell_type": "code",
   "execution_count": null,
   "metadata": {},
   "outputs": [],
   "source": []
  }
 ],
 "metadata": {
  "kernelspec": {
   "display_name": "Python 3 (ipykernel)",
   "language": "python",
   "name": "python3"
  },
  "language_info": {
   "codemirror_mode": {
    "name": "ipython",
    "version": 3
   },
   "file_extension": ".py",
   "mimetype": "text/x-python",
   "name": "python",
   "nbconvert_exporter": "python",
   "pygments_lexer": "ipython3",
   "version": "3.9.13"
  }
 },
 "nbformat": 4,
 "nbformat_minor": 4
}
