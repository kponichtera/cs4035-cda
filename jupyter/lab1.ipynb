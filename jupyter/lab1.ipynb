{
 "cells": [
  {
   "cell_type": "markdown",
   "id": "927a2f79-93b8-4581-b816-11d9669cdd3f",
   "metadata": {},
   "source": [
    "# Cyber Data Analytics - Lab 1\n",
    "\n",
    "* Konrad Ponichtera\n",
    "* Ion Babalau"
   ]
  },
  {
   "cell_type": "markdown",
   "id": "fbfd5518-8257-4e11-8bee-7f79cd6da088",
   "metadata": {},
   "source": [
    "# Introduction\n",
    "\n",
    "The purpose of this lab is to explore the methods of working with severely imbalanced data, which is a common situation in the cyber security field.\n",
    "We will also explore the ways of protecting privacy of the users, whose data were collected, without altering the performance of the machine learning algorithms.\n",
    "\n"
   ]
  },
  {
   "cell_type": "markdown",
   "id": "7d47e80d-f3c6-4894-ae17-84d60b5c3574",
   "metadata": {
    "tags": []
   },
   "source": [
    "## Peek into the raw data\n",
    "\n",
    "The data set, provided in the _train_data.csv_ file consists of 189628 rows with information about credit and debit card transactions.\n",
    "Among these, 276 transactions are fraudulent, which means that one of the classes is represented by less than 0.1% of the entries in the data set."
   ]
  },
  {
   "cell_type": "code",
   "execution_count": 9,
   "id": "119e6413-8a8e-453a-8745-7e396794c146",
   "metadata": {},
   "outputs": [],
   "source": [
    "import re\n",
    "import time\n",
    "import math\n",
    "import random\n",
    "import random\n",
    "import warnings\n",
    "\n",
    "import numpy as np\n",
    "import pandas as pd\n",
    "import seaborn as sns\n",
    "import matplotlib.pyplot as plt\n",
    "import plotly.express as px\n",
    "\n",
    "from imblearn.over_sampling import SMOTE\n",
    "from imblearn.under_sampling import TomekLinks\n",
    "from imblearn.combine import SMOTETomek\n",
    "\n",
    "from sklearn.preprocessing import LabelEncoder\n",
    "from sklearn.metrics import accuracy_score, classification_report, ConfusionMatrixDisplay\n",
    "from sklearn.metrics import roc_curve, auc\n",
    "from sklearn.model_selection import train_test_split, KFold, cross_validate\n",
    "from sklearn.neighbors import NearestNeighbors\n",
    "from sklearn.utils import shuffle\n",
    "from sklearn.linear_model import LogisticRegression\n",
    "from sklearn.ensemble import RandomForestClassifier, AdaBoostClassifier\n",
    "from sklearn.tree import DecisionTreeClassifier, plot_tree"
   ]
  },
  {
   "cell_type": "code",
   "execution_count": 10,
   "id": "1a2f74c2-249d-4848-816e-a359a33bdcd2",
   "metadata": {},
   "outputs": [
    {
     "name": "stdout",
     "output_type": "stream",
     "text": [
      "Number of transactions: 189628\n",
      "Number of benign transactions: 189352\n",
      "Number of fradulent transactions: 276\n",
      "Percentage of fraudulent transactions: 0.14554812580420612%\n"
     ]
    },
    {
     "data": {
      "text/html": [
       "<div>\n",
       "<style scoped>\n",
       "    .dataframe tbody tr th:only-of-type {\n",
       "        vertical-align: middle;\n",
       "    }\n",
       "\n",
       "    .dataframe tbody tr th {\n",
       "        vertical-align: top;\n",
       "    }\n",
       "\n",
       "    .dataframe thead th {\n",
       "        text-align: right;\n",
       "    }\n",
       "</style>\n",
       "<table border=\"1\" class=\"dataframe\">\n",
       "  <thead>\n",
       "    <tr style=\"text-align: right;\">\n",
       "      <th></th>\n",
       "      <th>Id</th>\n",
       "      <th>issuercountrycode</th>\n",
       "      <th>txvariantcode</th>\n",
       "      <th>bin</th>\n",
       "      <th>amount</th>\n",
       "      <th>currencycode</th>\n",
       "      <th>shoppercountrycode</th>\n",
       "      <th>shopperinteraction</th>\n",
       "      <th>cardverificationcodesupplied</th>\n",
       "      <th>cvcresponsecode</th>\n",
       "      <th>accountcode</th>\n",
       "      <th>mail_id</th>\n",
       "      <th>ip_id</th>\n",
       "      <th>card_id</th>\n",
       "      <th>label</th>\n",
       "    </tr>\n",
       "  </thead>\n",
       "  <tbody>\n",
       "    <tr>\n",
       "      <th>0</th>\n",
       "      <td>1</td>\n",
       "      <td>GB</td>\n",
       "      <td>mccredit</td>\n",
       "      <td>546097.0</td>\n",
       "      <td>4500.0</td>\n",
       "      <td>GBP</td>\n",
       "      <td>GB</td>\n",
       "      <td>Ecommerce</td>\n",
       "      <td>True</td>\n",
       "      <td>1</td>\n",
       "      <td>UKAccount</td>\n",
       "      <td>email132571</td>\n",
       "      <td>ip123779</td>\n",
       "      <td>card250169</td>\n",
       "      <td>0</td>\n",
       "    </tr>\n",
       "    <tr>\n",
       "      <th>1</th>\n",
       "      <td>2</td>\n",
       "      <td>GB</td>\n",
       "      <td>mcdebit</td>\n",
       "      <td>557349.0</td>\n",
       "      <td>3395.0</td>\n",
       "      <td>GBP</td>\n",
       "      <td>GB</td>\n",
       "      <td>Ecommerce</td>\n",
       "      <td>True</td>\n",
       "      <td>1</td>\n",
       "      <td>UKAccount</td>\n",
       "      <td>email312302</td>\n",
       "      <td>ip298387</td>\n",
       "      <td>card14235</td>\n",
       "      <td>0</td>\n",
       "    </tr>\n",
       "    <tr>\n",
       "      <th>2</th>\n",
       "      <td>3</td>\n",
       "      <td>GB</td>\n",
       "      <td>mccredit</td>\n",
       "      <td>542011.0</td>\n",
       "      <td>3895.0</td>\n",
       "      <td>GBP</td>\n",
       "      <td>GB</td>\n",
       "      <td>Ecommerce</td>\n",
       "      <td>True</td>\n",
       "      <td>1</td>\n",
       "      <td>UKAccount</td>\n",
       "      <td>email255027</td>\n",
       "      <td>ip260053</td>\n",
       "      <td>card31944</td>\n",
       "      <td>0</td>\n",
       "    </tr>\n",
       "    <tr>\n",
       "      <th>3</th>\n",
       "      <td>4</td>\n",
       "      <td>GB</td>\n",
       "      <td>visadebit</td>\n",
       "      <td>465943.0</td>\n",
       "      <td>15345.0</td>\n",
       "      <td>GBP</td>\n",
       "      <td>GB</td>\n",
       "      <td>ContAuth</td>\n",
       "      <td>False</td>\n",
       "      <td>0</td>\n",
       "      <td>UKAccount</td>\n",
       "      <td>email283167</td>\n",
       "      <td>ip54851</td>\n",
       "      <td>card120871</td>\n",
       "      <td>0</td>\n",
       "    </tr>\n",
       "    <tr>\n",
       "      <th>4</th>\n",
       "      <td>6</td>\n",
       "      <td>GB</td>\n",
       "      <td>visadebit</td>\n",
       "      <td>475127.0</td>\n",
       "      <td>5095.0</td>\n",
       "      <td>GBP</td>\n",
       "      <td>GB</td>\n",
       "      <td>Ecommerce</td>\n",
       "      <td>True</td>\n",
       "      <td>1</td>\n",
       "      <td>UKAccount</td>\n",
       "      <td>email325263</td>\n",
       "      <td>ip203929</td>\n",
       "      <td>card208017</td>\n",
       "      <td>0</td>\n",
       "    </tr>\n",
       "  </tbody>\n",
       "</table>\n",
       "</div>"
      ],
      "text/plain": [
       "   Id issuercountrycode txvariantcode       bin   amount currencycode  \\\n",
       "0   1                GB      mccredit  546097.0   4500.0          GBP   \n",
       "1   2                GB       mcdebit  557349.0   3395.0          GBP   \n",
       "2   3                GB      mccredit  542011.0   3895.0          GBP   \n",
       "3   4                GB     visadebit  465943.0  15345.0          GBP   \n",
       "4   6                GB     visadebit  475127.0   5095.0          GBP   \n",
       "\n",
       "  shoppercountrycode shopperinteraction cardverificationcodesupplied  \\\n",
       "0                 GB          Ecommerce                         True   \n",
       "1                 GB          Ecommerce                         True   \n",
       "2                 GB          Ecommerce                         True   \n",
       "3                 GB           ContAuth                        False   \n",
       "4                 GB          Ecommerce                         True   \n",
       "\n",
       "   cvcresponsecode accountcode      mail_id     ip_id     card_id  label  \n",
       "0                1   UKAccount  email132571  ip123779  card250169      0  \n",
       "1                1   UKAccount  email312302  ip298387   card14235      0  \n",
       "2                1   UKAccount  email255027  ip260053   card31944      0  \n",
       "3                0   UKAccount  email283167   ip54851  card120871      0  \n",
       "4                1   UKAccount  email325263  ip203929  card208017      0  "
      ]
     },
     "execution_count": 10,
     "metadata": {},
     "output_type": "execute_result"
    }
   ],
   "source": [
    "df = pd.read_csv(\"data/train_data.csv\")\n",
    "\n",
    "df_benign = df.loc[df['label'] == 0]\n",
    "df_fraud = df.loc[df['label'] == 1]\n",
    "\n",
    "print(f\"Number of transactions: {len(df)}\")\n",
    "print(f\"Number of benign transactions: {len(df_benign)}\")\n",
    "print(f\"Number of fradulent transactions: {len(df_fraud)}\")\n",
    "print(f\"Percentage of fraudulent transactions: {len(df_fraud) / len(df) * 100}%\")\n",
    "\n",
    "df.head()"
   ]
  },
  {
   "cell_type": "markdown",
   "id": "3144a352-d868-4ffb-a702-3abc78ca2a72",
   "metadata": {},
   "source": [
    "## Data preprocessing and feature engineering"
   ]
  },
  {
   "cell_type": "code",
   "execution_count": 11,
   "id": "b0251383-e082-4046-af82-3799490c514d",
   "metadata": {},
   "outputs": [
    {
     "data": {
      "text/html": [
       "<div>\n",
       "<style scoped>\n",
       "    .dataframe tbody tr th:only-of-type {\n",
       "        vertical-align: middle;\n",
       "    }\n",
       "\n",
       "    .dataframe tbody tr th {\n",
       "        vertical-align: top;\n",
       "    }\n",
       "\n",
       "    .dataframe thead th {\n",
       "        text-align: right;\n",
       "    }\n",
       "</style>\n",
       "<table border=\"1\" class=\"dataframe\">\n",
       "  <thead>\n",
       "    <tr style=\"text-align: right;\">\n",
       "      <th></th>\n",
       "      <th>issuercountrycode</th>\n",
       "      <th>txvariantcode</th>\n",
       "      <th>bin</th>\n",
       "      <th>amount</th>\n",
       "      <th>currencycode</th>\n",
       "      <th>shoppercountrycode</th>\n",
       "      <th>shopperinteraction</th>\n",
       "      <th>cardverificationcodesupplied</th>\n",
       "      <th>cvcresponsecode</th>\n",
       "      <th>accountcode</th>\n",
       "      <th>mail_id</th>\n",
       "      <th>ip_id</th>\n",
       "      <th>card_id</th>\n",
       "      <th>amount_eur</th>\n",
       "      <th>countries_equal</th>\n",
       "    </tr>\n",
       "  </thead>\n",
       "  <tbody>\n",
       "    <tr>\n",
       "      <th>0</th>\n",
       "      <td>49</td>\n",
       "      <td>2</td>\n",
       "      <td>546097.0</td>\n",
       "      <td>4500.0</td>\n",
       "      <td>1</td>\n",
       "      <td>49</td>\n",
       "      <td>1</td>\n",
       "      <td>1</td>\n",
       "      <td>1</td>\n",
       "      <td>3</td>\n",
       "      <td>17805</td>\n",
       "      <td>12538</td>\n",
       "      <td>105460</td>\n",
       "      <td>52.175123</td>\n",
       "      <td>1</td>\n",
       "    </tr>\n",
       "    <tr>\n",
       "      <th>1</th>\n",
       "      <td>49</td>\n",
       "      <td>3</td>\n",
       "      <td>557349.0</td>\n",
       "      <td>3395.0</td>\n",
       "      <td>1</td>\n",
       "      <td>49</td>\n",
       "      <td>1</td>\n",
       "      <td>1</td>\n",
       "      <td>1</td>\n",
       "      <td>3</td>\n",
       "      <td>115620</td>\n",
       "      <td>107432</td>\n",
       "      <td>29882</td>\n",
       "      <td>39.363232</td>\n",
       "      <td>1</td>\n",
       "    </tr>\n",
       "    <tr>\n",
       "      <th>2</th>\n",
       "      <td>49</td>\n",
       "      <td>2</td>\n",
       "      <td>542011.0</td>\n",
       "      <td>3895.0</td>\n",
       "      <td>1</td>\n",
       "      <td>49</td>\n",
       "      <td>1</td>\n",
       "      <td>1</td>\n",
       "      <td>1</td>\n",
       "      <td>3</td>\n",
       "      <td>84651</td>\n",
       "      <td>87293</td>\n",
       "      <td>123743</td>\n",
       "      <td>45.160467</td>\n",
       "      <td>1</td>\n",
       "    </tr>\n",
       "    <tr>\n",
       "      <th>3</th>\n",
       "      <td>49</td>\n",
       "      <td>8</td>\n",
       "      <td>465943.0</td>\n",
       "      <td>15345.0</td>\n",
       "      <td>1</td>\n",
       "      <td>49</td>\n",
       "      <td>0</td>\n",
       "      <td>0</td>\n",
       "      <td>0</td>\n",
       "      <td>3</td>\n",
       "      <td>99845</td>\n",
       "      <td>147089</td>\n",
       "      <td>14712</td>\n",
       "      <td>177.917169</td>\n",
       "      <td>1</td>\n",
       "    </tr>\n",
       "    <tr>\n",
       "      <th>4</th>\n",
       "      <td>49</td>\n",
       "      <td>8</td>\n",
       "      <td>475127.0</td>\n",
       "      <td>5095.0</td>\n",
       "      <td>1</td>\n",
       "      <td>49</td>\n",
       "      <td>1</td>\n",
       "      <td>1</td>\n",
       "      <td>1</td>\n",
       "      <td>3</td>\n",
       "      <td>122624</td>\n",
       "      <td>56390</td>\n",
       "      <td>75841</td>\n",
       "      <td>59.073834</td>\n",
       "      <td>1</td>\n",
       "    </tr>\n",
       "  </tbody>\n",
       "</table>\n",
       "</div>"
      ],
      "text/plain": [
       "   issuercountrycode  txvariantcode       bin   amount  currencycode  \\\n",
       "0                 49              2  546097.0   4500.0             1   \n",
       "1                 49              3  557349.0   3395.0             1   \n",
       "2                 49              2  542011.0   3895.0             1   \n",
       "3                 49              8  465943.0  15345.0             1   \n",
       "4                 49              8  475127.0   5095.0             1   \n",
       "\n",
       "   shoppercountrycode  shopperinteraction  cardverificationcodesupplied  \\\n",
       "0                  49                   1                             1   \n",
       "1                  49                   1                             1   \n",
       "2                  49                   1                             1   \n",
       "3                  49                   0                             0   \n",
       "4                  49                   1                             1   \n",
       "\n",
       "   cvcresponsecode  accountcode  mail_id   ip_id  card_id  amount_eur  \\\n",
       "0                1            3    17805   12538   105460   52.175123   \n",
       "1                1            3   115620  107432    29882   39.363232   \n",
       "2                1            3    84651   87293   123743   45.160467   \n",
       "3                0            3    99845  147089    14712  177.917169   \n",
       "4                1            3   122624   56390    75841   59.073834   \n",
       "\n",
       "  countries_equal  \n",
       "0               1  \n",
       "1               1  \n",
       "2               1  \n",
       "3               1  \n",
       "4               1  "
      ]
     },
     "execution_count": 11,
     "metadata": {},
     "output_type": "execute_result"
    }
   ],
   "source": [
    "def currency_to_eur(row):\n",
    "    currency_dict = {\"BGN\": 1.9558, \"NZD\": 1.6805, \"ILS\": 4.0448, \"RUB\": 72.2099, \"CAD\": 1.5075, \"USD\": 1.1218,\n",
    "                     \"PHP\": 58.125, \"CHF\": 1.1437, \"ZAR\": 16.0224, \"AUD\": 1.5911, \"JPY\": 124.93, \"TRY\": 6.6913,\n",
    "                     \"HKD\": 8.8007, \"MYR\": 4.6314, \"THB\": 35.802, \"HRK\": 7.413, \"NOK\": 9.6678, \"IDR\": 15953.68,\n",
    "                     \"DKK\": 7.4646, \"CZK\": 25.659, \"HUF\": 322.97, \"GBP\": 0.86248, \"MXN\": 21.2829, \"KRW\": 1308.01,\n",
    "                     \"ISK\": 136.2, \"SGD\": 1.5263, \"BRL\": 4.405, \"PLN\": 4.2868, \"INR\": 78.0615, \"RON\": 4.7596,\n",
    "                     \"CNY\": 7.5541, \"SEK\": 10.635}\n",
    "    return row['amount'] / (currency_dict[row['currencycode']] * 100)\n",
    "\n",
    "def process_data(df):\n",
    "    # Work on copy of the original data\n",
    "    df = df.copy()\n",
    "    \n",
    "    # Prepare card id and ip id for plotting\n",
    "    \n",
    "    # 1.Card ID\n",
    "    card_enc = LabelEncoder()\n",
    "    card_enc.fit(df['card_id'])\n",
    "    df['card_id'] = card_enc.transform(df.card_id)\n",
    "\n",
    "    # 2.IP ID\n",
    "    ip_enc = LabelEncoder()\n",
    "    ip_enc.fit(df['ip_id'])\n",
    "    df['ip_id'] = ip_enc.transform(df.ip_id)\n",
    "\n",
    "    # Encoding, Cleaning the data\n",
    "    df.loc[df['cardverificationcodesupplied'].isna(), 'cardverificationcodesupplied'] = False\n",
    "    df.loc[df['issuercountrycode'].isna(), 'issuercountrycode'] = 'ZZ'\n",
    "    df.loc[df['shoppercountrycode'].isna(), 'shoppercountrycode'] = 'ZZ'\n",
    "\n",
    "    unique_issuer_cc = df['issuercountrycode'].unique()\n",
    "    unique_shopper_cc = df['shoppercountrycode'].unique()\n",
    "    both = np.append(unique_issuer_cc, unique_shopper_cc)\n",
    "    df_countrycodes = pd.DataFrame(both)\n",
    "    unique_codes = df_countrycodes[0].unique()\n",
    "    enc = LabelEncoder()\n",
    "    enc.fit(unique_codes)\n",
    "    df['issuercountrycode'] = enc.transform(df.issuercountrycode)\n",
    "    df['shoppercountrycode'] = enc.transform(df.shoppercountrycode)\n",
    "    df['amount_eur'] = df.apply(lambda x: currency_to_eur(x), axis=1)\n",
    "\n",
    "    enc1 = LabelEncoder()\n",
    "    enc1.fit(df['txvariantcode'])\n",
    "    df['txvariantcode'] = enc1.transform(df.txvariantcode)\n",
    "\n",
    "    enc2 = LabelEncoder()\n",
    "    enc2.fit(df['currencycode'])\n",
    "    df['currencycode'] = enc2.transform(df.currencycode)\n",
    "\n",
    "    enc3 = LabelEncoder()\n",
    "    enc3.fit(df['shopperinteraction'])\n",
    "    df['shopperinteraction'] = enc3.transform(df.shopperinteraction)\n",
    "\n",
    "    df['accountcode'] = df['accountcode'].apply(lambda x: re.sub('Account', '', x))\n",
    "    df['accountcode_cc'] = 0\n",
    "    df.loc[(df['accountcode'] == 'UK'), 'accountcode_cc'] = 'GB'\n",
    "    df.loc[(df['accountcode'] == 'Mexico'), 'accountcode_cc'] = 'MX'\n",
    "    df.loc[(df['accountcode'] == 'Sweden'), 'accountcode_cc'] = 'SE'\n",
    "    df.loc[(df['accountcode'] == 'APAC'), 'accountcode_cc'] = 'APAC'\n",
    "\n",
    "    enc4 = LabelEncoder()\n",
    "    enc4.fit(df['accountcode'])\n",
    "    df['accountcode'] = enc4.transform(df.accountcode)\n",
    "\n",
    "    enc5 = LabelEncoder()\n",
    "    enc5.fit(df['cardverificationcodesupplied'])\n",
    "    df['cardverificationcodesupplied'] = enc5.transform(df.cardverificationcodesupplied)\n",
    "\n",
    "    df.loc[df['mail_id'].str.contains('na', case=False), 'mail_id'] = 'email99999'\n",
    "\n",
    "    enc6 = LabelEncoder()\n",
    "    enc6.fit(df['mail_id'])\n",
    "    df['mail_id'] = enc6.transform(df.mail_id)\n",
    "\n",
    "    df.loc[df['cvcresponsecode'] > 2, 'cvcresponsecode'] = 3\n",
    "\n",
    "    #Feature Engineering\n",
    "    df['countries_equal'] = (df['shoppercountrycode'] == df['issuercountrycode'])\n",
    "    df.loc[df['countries_equal'] == False, 'countries_equal'] = 0\n",
    "    df.loc[df['countries_equal'] == True, 'countries_equal'] = 1\n",
    "\n",
    "    return df[['issuercountrycode',\n",
    "             'txvariantcode',\n",
    "             'bin',\n",
    "             'amount',\n",
    "             'currencycode',\n",
    "             'shoppercountrycode',\n",
    "             'shopperinteraction',\n",
    "             'cardverificationcodesupplied',\n",
    "             'cvcresponsecode',\n",
    "             'accountcode',\n",
    "             'mail_id',\n",
    "             'ip_id',\n",
    "             'card_id',\n",
    "             'amount_eur',\n",
    "             'countries_equal']\n",
    "    ]\n",
    "\n",
    "\n",
    "X = process_data(df)\n",
    "X.head()"
   ]
  },
  {
   "cell_type": "markdown",
   "id": "3e45bd39-4d8c-4707-b739-88ab0238dca2",
   "metadata": {},
   "source": [
    "# Exploratory data analysis"
   ]
  },
  {
   "cell_type": "code",
   "execution_count": 12,
   "id": "c620b210",
   "metadata": {},
   "outputs": [],
   "source": [
    "# process the dataset for visualization, then split into fraud and non_fraud\n",
    "df_vis = pd.read_csv(\"data/train_data.csv\")\n",
    "df_vis.loc[df_vis['issuercountrycode'].isna(), 'issuercountrycode'] = 'ZZ'\n",
    "df_vis.loc[df_vis['shoppercountrycode'].isna(), 'shoppercountrycode'] = 'ZZ'\n",
    "df_vis.loc[df_vis['txvariantcode'].isna(), 'txvariantcode'] = 'ZZ'\n",
    "df_vis['amount_eur'] = df_vis.apply(lambda x: currency_to_eur(x), axis=1)\n",
    "\n",
    "df_fraud = df_vis[df_vis['label'] == 1]\n",
    "df_non_fraud = df_vis[df_vis['label'] == 0]"
   ]
  },
  {
   "cell_type": "markdown",
   "id": "ac37e19a",
   "metadata": {},
   "source": [
    "#### Card type with shopper country plots\n",
    "Below, we plot the card variant and the shopper country code using sunburst plots.\n",
    "As can be seen, the most popular card for fraudulent transactions is the mccredit, versus the\n",
    "visadebit for the non-fraudulent ones. \n",
    "Moreover, most of the shoppers from the mccredit category are from Australia and Mexico in the fraud dataset,\n",
    "whereas in the non-fraud dataset they are from Great Britain.\n",
    "Therefore, we can conclude that both of these features can prove useful when discriminating between the classes."
   ]
  },
  {
   "cell_type": "code",
   "execution_count": 13,
   "id": "c5d3b69c",
   "metadata": {},
   "outputs": [
    {
     "data": {
      "application/vnd.plotly.v1+json": {
       "config": {
        "plotlyServerURL": "https://plot.ly"
       },
       "data": [
        {
         "branchvalues": "total",
         "domain": {
          "x": [
           0,
           0.45
          ],
          "y": [
           0,
           1
          ]
         },
         "hovertemplate": "labels=%{label}<br>count=%{value}<br>parent=%{parent}<br>id=%{id}<extra></extra>",
         "ids": [
          "mccredit/AU",
          "visa/AU",
          "visabusiness/AU",
          "visaclassic/AU",
          "visadebit/AU",
          "visagold/AU",
          "visaplatinum/AU",
          "visapurchasing/AU",
          "visasignature/AU",
          "mccredit/BG",
          "visa/BR",
          "mccredit/DE",
          "mccredit/GB",
          "mcdebit/GB",
          "visaclassic/GB",
          "visadebit/GB",
          "visaplatinum/GB",
          "mccredit/MX",
          "mcdebit/MX",
          "visabusiness/MX",
          "visaclassic/MX",
          "visadebit/MX",
          "visagold/MX",
          "visaplatinum/MX",
          "mccredit/NG",
          "mccredit/NO",
          "visaclassic/NZ",
          "visadebit/NZ",
          "mccredit/SE",
          "mcdebit/SE",
          "visaclassic/SE",
          "visadebit/SE",
          "visadebit/TH",
          "mccredit/US",
          "mccredit",
          "mcdebit",
          "visa",
          "visabusiness",
          "visaclassic",
          "visadebit",
          "visagold",
          "visaplatinum",
          "visapurchasing",
          "visasignature"
         ],
         "labels": [
          "AU",
          "AU",
          "AU",
          "AU",
          "AU",
          "AU",
          "AU",
          "AU",
          "AU",
          "BG",
          "BR",
          "DE",
          "GB",
          "GB",
          "GB",
          "GB",
          "GB",
          "MX",
          "MX",
          "MX",
          "MX",
          "MX",
          "MX",
          "MX",
          "NG",
          "NO",
          "NZ",
          "NZ",
          "SE",
          "SE",
          "SE",
          "SE",
          "TH",
          "US",
          "mccredit",
          "mcdebit",
          "visa",
          "visabusiness",
          "visaclassic",
          "visadebit",
          "visagold",
          "visaplatinum",
          "visapurchasing",
          "visasignature"
         ],
         "name": "",
         "parents": [
          "mccredit",
          "visa",
          "visabusiness",
          "visaclassic",
          "visadebit",
          "visagold",
          "visaplatinum",
          "visapurchasing",
          "visasignature",
          "mccredit",
          "visa",
          "mccredit",
          "mccredit",
          "mcdebit",
          "visaclassic",
          "visadebit",
          "visaplatinum",
          "mccredit",
          "mcdebit",
          "visabusiness",
          "visaclassic",
          "visadebit",
          "visagold",
          "visaplatinum",
          "mccredit",
          "mccredit",
          "visaclassic",
          "visadebit",
          "mccredit",
          "mcdebit",
          "visaclassic",
          "visadebit",
          "visadebit",
          "mccredit",
          "",
          "",
          "",
          "",
          "",
          "",
          "",
          "",
          "",
          ""
         ],
         "type": "sunburst",
         "values": [
          56,
          1,
          4,
          9,
          3,
          3,
          8,
          2,
          4,
          1,
          1,
          1,
          5,
          1,
          3,
          15,
          2,
          48,
          1,
          1,
          45,
          9,
          11,
          13,
          1,
          1,
          1,
          4,
          5,
          6,
          1,
          8,
          1,
          1,
          119,
          8,
          2,
          5,
          59,
          40,
          14,
          23,
          2,
          4
         ]
        },
        {
         "branchvalues": "total",
         "domain": {
          "x": [
           0.55,
           1
          ],
          "y": [
           0,
           1
          ]
         },
         "hovertemplate": "labels=%{label}<br>count=%{value}<br>parent=%{parent}<br>id=%{id}<extra></extra>",
         "ids": [
          "mccredit/AE",
          "mcdebit/AE",
          "visa/AE",
          "visaclassic/AE",
          "visadebit/AE",
          "visagold/AE",
          "visaplatinum/AE",
          "visasignature/AE",
          "mccredit/AF",
          "visadebit/AF",
          "visadebit/AG",
          "visaclassic/AL",
          "visadebit/AL",
          "visagold/AL",
          "mccredit/AM",
          "visadebit/AO",
          "mccredit/AR",
          "visaclassic/AR",
          "visadebit/AR",
          "visagold/AR",
          "visaplatinum/AR",
          "visasignature/AR",
          "mccredit/AT",
          "mcdebit/AT",
          "visaclassic/AT",
          "visacorporate/AT",
          "visadebit/AT",
          "mccredit/AU",
          "mcdebit/AU",
          "visa/AU",
          "visabusiness/AU",
          "visaclassic/AU",
          "visacorporate/AU",
          "visadebit/AU",
          "visagold/AU",
          "visaplatinum/AU",
          "visapurchasing/AU",
          "visasignature/AU",
          "mccredit/AX",
          "mcdebit/AX",
          "visadebit/AX",
          "mccredit/AZ",
          "mcdebit/AZ",
          "visaclassic/AZ",
          "visadebit/AZ",
          "mcdebit/BA",
          "mccredit/BB",
          "visabusiness/BB",
          "visadebit/BB",
          "visadebit/BD",
          "visaplatinum/BD",
          "mccredit/BE",
          "mcdebit/BE",
          "visaclassic/BE",
          "visadebit/BE",
          "visagold/BE",
          "visaplatinum/BE",
          "mccredit/BG",
          "mcdebit/BG",
          "visabusiness/BG",
          "visaclassic/BG",
          "visadebit/BG",
          "mccredit/BH",
          "visaclassic/BH",
          "visadebit/BH",
          "visaplatinum/BH",
          "visaclassic/BM",
          "visadebit/BM",
          "mccredit/BN",
          "visaclassic/BN",
          "visadebit/BN",
          "visadebit/BO",
          "mccredit/BR",
          "visadebit/BR",
          "visagold/BR",
          "visaplatinum/BR",
          "visadebit/BS",
          "visaplatinum/BW",
          "visadebit/BY",
          "mccredit/CA",
          "mcdebit/CA",
          "visa/CA",
          "visaclassic/CA",
          "visadebit/CA",
          "visaplatinum/CA",
          "visadebit/CD",
          "mccredit/CH",
          "mcdebit/CH",
          "visaclassic/CH",
          "visadebit/CH",
          "visagold/CH",
          "visaplatinum/CH",
          "visadebit/CI",
          "visadebit/CK",
          "visabusiness/CL",
          "visadebit/CL",
          "mccredit/CN",
          "visa/CN",
          "visabusiness/CN",
          "visaclassic/CN",
          "visadebit/CN",
          "visagold/CN",
          "visaplatinum/CN",
          "visasignature/CN",
          "visadebit/CO",
          "visagold/CO",
          "visaplatinum/CR",
          "visadebit/CV",
          "visaplatinum/CV",
          "electron/CY",
          "mccredit/CY",
          "visaclassic/CY",
          "visadebit/CY",
          "visaplatinum/CY",
          "mccredit/CZ",
          "mcdebit/CZ",
          "visadebit/CZ",
          "mccredit/DE",
          "mcdebit/DE",
          "visa/DE",
          "visaclassic/DE",
          "visacorporate/DE",
          "visadebit/DE",
          "visagold/DE",
          "visaplatinum/DE",
          "visadebit/DJ",
          "mccredit/DK",
          "mcdebit/DK",
          "visaclassic/DK",
          "visadebit/DK",
          "visadebit/DZ",
          "mcdebit/EE",
          "visadebit/EE",
          "mccredit/EG",
          "mcdebit/EG",
          "visaclassic/EG",
          "visadebit/EG",
          "visaplatinum/EG",
          "mccredit/ES",
          "mcdebit/ES",
          "visa/ES",
          "visaclassic/ES",
          "visadebit/ES",
          "visagold/ES",
          "visaplatinum/ES",
          "mccredit/FI",
          "mcdebit/FI",
          "visaclassic/FI",
          "visadebit/FI",
          "mccredit/FJ",
          "visaclassic/FJ",
          "visadebit/FJ",
          "visaplatinum/FJ",
          "mccredit/FR",
          "mcdebit/FR",
          "visa/FR",
          "visaclassic/FR",
          "visadebit/FR",
          "visagold/FR",
          "visaplatinum/FR",
          "visapurchasing/FR",
          "electron/GB",
          "mccredit/GB",
          "mcdebit/GB",
          "visa/GB",
          "visabusiness/GB",
          "visaclassic/GB",
          "visacorporate/GB",
          "visadebit/GB",
          "visagold/GB",
          "visaplatinum/GB",
          "visapurchasing/GB",
          "visasignature/GB",
          "visadebit/GD",
          "mccredit/GE",
          "visaclassic/GE",
          "visadebit/GE",
          "mcdebit/GG",
          "visaclassic/GG",
          "visadebit/GG",
          "mccredit/GH",
          "visadebit/GH",
          "visagold/GH",
          "visadebit/GI",
          "mccredit/GR",
          "mcdebit/GR",
          "visaclassic/GR",
          "visadebit/GR",
          "visagold/GR",
          "visaplatinum/GR",
          "visadebit/GT",
          "mccredit/HK",
          "visa/HK",
          "visaclassic/HK",
          "visacorporate/HK",
          "visadebit/HK",
          "visagold/HK",
          "visaplatinum/HK",
          "visasignature/HK",
          "visadebit/HN",
          "mccredit/HR",
          "mcdebit/HR",
          "visadebit/HR",
          "mccredit/HU",
          "mcdebit/HU",
          "visadebit/HU",
          "mccredit/ID",
          "mcdebit/ID",
          "visaclassic/ID",
          "visadebit/ID",
          "visagold/ID",
          "visaplatinum/ID",
          "visasignature/ID",
          "mccredit/IE",
          "mcdebit/IE",
          "visaclassic/IE",
          "visadebit/IE",
          "visagold/IE",
          "visaplatinum/IE",
          "mccredit/IL",
          "visaclassic/IL",
          "visadebit/IL",
          "visagold/IL",
          "visaplatinum/IL",
          "mccredit/IM",
          "visaclassic/IM",
          "visadebit/IM",
          "visagold/IM",
          "visaplatinum/IM",
          "mccredit/IN",
          "visa/IN",
          "visaclassic/IN",
          "visacorporate/IN",
          "visadebit/IN",
          "visagold/IN",
          "visaplatinum/IN",
          "visasignature/IN",
          "mccredit/IQ",
          "visaclassic/IQ",
          "visadebit/IQ",
          "visaclassic/IR",
          "visadebit/IR",
          "mccredit/IS",
          "visaclassic/IS",
          "visadebit/IS",
          "mccredit/IT",
          "mcdebit/IT",
          "visa/IT",
          "visaclassic/IT",
          "visadebit/IT",
          "visagold/IT",
          "visaplatinum/IT",
          "mccredit/JE",
          "visadebit/JE",
          "visagold/JE",
          "visaplatinum/JE",
          "mccredit/JM",
          "visaclassic/JM",
          "visadebit/JM",
          "visaclassic/JO",
          "visacorporate/JO",
          "visadebit/JO",
          "visagold/JO",
          "visaplatinum/JO",
          "mccredit/JP",
          "visaclassic/JP",
          "visadebit/JP",
          "visagold/JP",
          "visaplatinum/JP",
          "mccredit/KE",
          "mcdebit/KE",
          "visaclassic/KE",
          "visadebit/KE",
          "visagold/KE",
          "visaplatinum/KE",
          "mccredit/KH",
          "mcdebit/KH",
          "visaclassic/KH",
          "visadebit/KH",
          "mcdebit/KN",
          "mccredit/KR",
          "mcdebit/KR",
          "visaclassic/KR",
          "visacorporate/KR",
          "visadebit/KR",
          "visagold/KR",
          "visaplatinum/KR",
          "mccredit/KW",
          "visa/KW",
          "visaclassic/KW",
          "visadebit/KW",
          "visagold/KW",
          "visaplatinum/KW",
          "visasignature/KW",
          "visaclassic/KY",
          "visadebit/KY",
          "visadebit/KZ",
          "mccredit/LB",
          "mcdebit/LB",
          "visaclassic/LB",
          "visadebit/LB",
          "visaplatinum/LB",
          "visadebit/LC",
          "mcdebit/LK",
          "visaclassic/LK",
          "visadebit/LK",
          "mccredit/LT",
          "mcdebit/LT",
          "visaclassic/LT",
          "visadebit/LT",
          "visagold/LT",
          "mccredit/LU",
          "visaclassic/LU",
          "visadebit/LU",
          "mccredit/LV",
          "mcdebit/LV",
          "visadebit/LY",
          "mccredit/MA",
          "visadebit/MA",
          "visaplatinum/MA",
          "visadebit/MC",
          "visagold/MC",
          "visaclassic/MD",
          "visadebit/ME",
          "mccredit/MK",
          "visadebit/MK",
          "visaclassic/MO",
          "visadebit/MO",
          "visagold/MO",
          "visaplatinum/MO",
          "mccredit/MT",
          "mcdebit/MT",
          "visadebit/MT",
          "visagold/MT",
          "mccredit/MU",
          "visadebit/MU",
          "visadebit/MV",
          "visadebit/MW",
          "electron/MX",
          "mc/MX",
          "mccredit/MX",
          "mcdebit/MX",
          "visa/MX",
          "visabusiness/MX",
          "visaclassic/MX",
          "visacorporate/MX",
          "visadebit/MX",
          "visagold/MX",
          "visaplatinum/MX",
          "mccredit/MY",
          "visa/MY",
          "visadebit/MY",
          "visagold/MY",
          "visaplatinum/MY",
          "visasignature/MY",
          "visaclassic/MZ",
          "mccredit/NG",
          "mcdebit/NG",
          "visaclassic/NG",
          "visadebit/NG",
          "visagold/NG",
          "mccredit/NL",
          "mcdebit/NL",
          "visa/NL",
          "visaclassic/NL",
          "visacorporate/NL",
          "visadebit/NL",
          "visagold/NL",
          "visaplatinum/NL",
          "mccredit/NO",
          "mcdebit/NO",
          "visaclassic/NO",
          "visadebit/NO",
          "visaplatinum/NO",
          "visadebit/NP",
          "mccredit/NZ",
          "mcdebit/NZ",
          "visa/NZ",
          "visabusiness/NZ",
          "visaclassic/NZ",
          "visadebit/NZ",
          "visagold/NZ",
          "visaplatinum/NZ",
          "visapurchasing/NZ",
          "visasignature/NZ",
          "mccredit/OM",
          "mcdebit/OM",
          "visaclassic/OM",
          "visadebit/OM",
          "visaplatinum/OM",
          "mccredit/PE",
          "visadebit/PE",
          "mccredit/PH",
          "visaclassic/PH",
          "visadebit/PH",
          "visagold/PH",
          "mccredit/PK",
          "visadebit/PK",
          "visagold/PK",
          "visaplatinum/PK",
          "mccredit/PL",
          "mcdebit/PL",
          "visaclassic/PL",
          "visadebit/PL",
          "visadebit/PR",
          "mccredit/PT",
          "mcdebit/PT",
          "visabusiness/PT",
          "visaclassic/PT",
          "visadebit/PT",
          "visagold/PT",
          "visaplatinum/PT",
          "mccredit/QA",
          "visa/QA",
          "visaclassic/QA",
          "visadebit/QA",
          "visaplatinum/QA",
          "mccredit/RO",
          "mcdebit/RO",
          "visadebit/RO",
          "visaplatinum/RO",
          "mcdebit/RS",
          "visa/RS",
          "visadebit/RS",
          "visaplatinum/RS",
          "mccredit/RU",
          "mcdebit/RU",
          "visadebit/RU",
          "visagold/RU",
          "mccredit/SA",
          "mcdebit/SA",
          "visa/SA",
          "visaclassic/SA",
          "visadebit/SA",
          "visagold/SA",
          "visaplatinum/SA",
          "visasignature/SA",
          "visaplatinum/SC",
          "visaclassic/SD",
          "visadebit/SD",
          "mccredit/SE",
          "mcdebit/SE",
          "visa/SE",
          "visabusiness/SE",
          "visaclassic/SE",
          "visacorporate/SE",
          "visadebit/SE",
          "visagold/SE",
          "visaplatinum/SE",
          "visasignature/SE",
          "mccredit/SG",
          "mcdebit/SG",
          "visa/SG",
          "visaclassic/SG",
          "visadebit/SG",
          "visaplatinum/SG",
          "visasignature/SG",
          "mccredit/SI",
          "mcdebit/SI",
          "visadebit/SI",
          "mccredit/SK",
          "visadebit/SK",
          "visadebit/SL",
          "mccredit/TH",
          "visaclassic/TH",
          "visadebit/TH",
          "visagold/TH",
          "visaplatinum/TH",
          "visasignature/TH",
          "mccredit/TR",
          "mcdebit/TR",
          "visaclassic/TR",
          "visadebit/TR",
          "visagold/TR",
          "visaplatinum/TR",
          "visa/TT",
          "mccredit/TW",
          "visa/TW",
          "visabusiness/TW",
          "visadebit/TW",
          "visaplatinum/TW",
          "visasignature/TW",
          "mccredit/TZ",
          "visadebit/TZ",
          "mccredit/UA",
          "mcdebit/UA",
          "visaclassic/UA",
          "visadebit/UA",
          "visadebit/UG",
          "electron/US",
          "mccredit/US",
          "mcdebit/US",
          "visa/US",
          "visabusiness/US",
          "visaclassic/US",
          "visacorporate/US",
          "visadebit/US",
          "visagold/US",
          "visaplatinum/US",
          "visasignature/US",
          "visaclassic/UZ",
          "mccredit/VN",
          "mcdebit/VN",
          "visa/VN",
          "visaclassic/VN",
          "visadebit/VN",
          "visagold/VN",
          "visaplatinum/VN",
          "visaplatinum/VU",
          "mccredit/ZA",
          "visabusiness/ZA",
          "visaclassic/ZA",
          "visadebit/ZA",
          "visagold/ZA",
          "visaplatinum/ZA",
          "visadebit/ZM",
          "mccredit/ZW",
          "visadebit/ZW",
          "mccredit/ZZ",
          "mcdebit/ZZ",
          "visa/ZZ",
          "visabusiness/ZZ",
          "visaclassic/ZZ",
          "visadebit/ZZ",
          "visagold/ZZ",
          "visaplatinum/ZZ",
          "electron",
          "mc",
          "mccredit",
          "mcdebit",
          "visa",
          "visabusiness",
          "visaclassic",
          "visacorporate",
          "visadebit",
          "visagold",
          "visaplatinum",
          "visapurchasing",
          "visasignature"
         ],
         "labels": [
          "AE",
          "AE",
          "AE",
          "AE",
          "AE",
          "AE",
          "AE",
          "AE",
          "AF",
          "AF",
          "AG",
          "AL",
          "AL",
          "AL",
          "AM",
          "AO",
          "AR",
          "AR",
          "AR",
          "AR",
          "AR",
          "AR",
          "AT",
          "AT",
          "AT",
          "AT",
          "AT",
          "AU",
          "AU",
          "AU",
          "AU",
          "AU",
          "AU",
          "AU",
          "AU",
          "AU",
          "AU",
          "AU",
          "AX",
          "AX",
          "AX",
          "AZ",
          "AZ",
          "AZ",
          "AZ",
          "BA",
          "BB",
          "BB",
          "BB",
          "BD",
          "BD",
          "BE",
          "BE",
          "BE",
          "BE",
          "BE",
          "BE",
          "BG",
          "BG",
          "BG",
          "BG",
          "BG",
          "BH",
          "BH",
          "BH",
          "BH",
          "BM",
          "BM",
          "BN",
          "BN",
          "BN",
          "BO",
          "BR",
          "BR",
          "BR",
          "BR",
          "BS",
          "BW",
          "BY",
          "CA",
          "CA",
          "CA",
          "CA",
          "CA",
          "CA",
          "CD",
          "CH",
          "CH",
          "CH",
          "CH",
          "CH",
          "CH",
          "CI",
          "CK",
          "CL",
          "CL",
          "CN",
          "CN",
          "CN",
          "CN",
          "CN",
          "CN",
          "CN",
          "CN",
          "CO",
          "CO",
          "CR",
          "CV",
          "CV",
          "CY",
          "CY",
          "CY",
          "CY",
          "CY",
          "CZ",
          "CZ",
          "CZ",
          "DE",
          "DE",
          "DE",
          "DE",
          "DE",
          "DE",
          "DE",
          "DE",
          "DJ",
          "DK",
          "DK",
          "DK",
          "DK",
          "DZ",
          "EE",
          "EE",
          "EG",
          "EG",
          "EG",
          "EG",
          "EG",
          "ES",
          "ES",
          "ES",
          "ES",
          "ES",
          "ES",
          "ES",
          "FI",
          "FI",
          "FI",
          "FI",
          "FJ",
          "FJ",
          "FJ",
          "FJ",
          "FR",
          "FR",
          "FR",
          "FR",
          "FR",
          "FR",
          "FR",
          "FR",
          "GB",
          "GB",
          "GB",
          "GB",
          "GB",
          "GB",
          "GB",
          "GB",
          "GB",
          "GB",
          "GB",
          "GB",
          "GD",
          "GE",
          "GE",
          "GE",
          "GG",
          "GG",
          "GG",
          "GH",
          "GH",
          "GH",
          "GI",
          "GR",
          "GR",
          "GR",
          "GR",
          "GR",
          "GR",
          "GT",
          "HK",
          "HK",
          "HK",
          "HK",
          "HK",
          "HK",
          "HK",
          "HK",
          "HN",
          "HR",
          "HR",
          "HR",
          "HU",
          "HU",
          "HU",
          "ID",
          "ID",
          "ID",
          "ID",
          "ID",
          "ID",
          "ID",
          "IE",
          "IE",
          "IE",
          "IE",
          "IE",
          "IE",
          "IL",
          "IL",
          "IL",
          "IL",
          "IL",
          "IM",
          "IM",
          "IM",
          "IM",
          "IM",
          "IN",
          "IN",
          "IN",
          "IN",
          "IN",
          "IN",
          "IN",
          "IN",
          "IQ",
          "IQ",
          "IQ",
          "IR",
          "IR",
          "IS",
          "IS",
          "IS",
          "IT",
          "IT",
          "IT",
          "IT",
          "IT",
          "IT",
          "IT",
          "JE",
          "JE",
          "JE",
          "JE",
          "JM",
          "JM",
          "JM",
          "JO",
          "JO",
          "JO",
          "JO",
          "JO",
          "JP",
          "JP",
          "JP",
          "JP",
          "JP",
          "KE",
          "KE",
          "KE",
          "KE",
          "KE",
          "KE",
          "KH",
          "KH",
          "KH",
          "KH",
          "KN",
          "KR",
          "KR",
          "KR",
          "KR",
          "KR",
          "KR",
          "KR",
          "KW",
          "KW",
          "KW",
          "KW",
          "KW",
          "KW",
          "KW",
          "KY",
          "KY",
          "KZ",
          "LB",
          "LB",
          "LB",
          "LB",
          "LB",
          "LC",
          "LK",
          "LK",
          "LK",
          "LT",
          "LT",
          "LT",
          "LT",
          "LT",
          "LU",
          "LU",
          "LU",
          "LV",
          "LV",
          "LY",
          "MA",
          "MA",
          "MA",
          "MC",
          "MC",
          "MD",
          "ME",
          "MK",
          "MK",
          "MO",
          "MO",
          "MO",
          "MO",
          "MT",
          "MT",
          "MT",
          "MT",
          "MU",
          "MU",
          "MV",
          "MW",
          "MX",
          "MX",
          "MX",
          "MX",
          "MX",
          "MX",
          "MX",
          "MX",
          "MX",
          "MX",
          "MX",
          "MY",
          "MY",
          "MY",
          "MY",
          "MY",
          "MY",
          "MZ",
          "NG",
          "NG",
          "NG",
          "NG",
          "NG",
          "NL",
          "NL",
          "NL",
          "NL",
          "NL",
          "NL",
          "NL",
          "NL",
          "NO",
          "NO",
          "NO",
          "NO",
          "NO",
          "NP",
          "NZ",
          "NZ",
          "NZ",
          "NZ",
          "NZ",
          "NZ",
          "NZ",
          "NZ",
          "NZ",
          "NZ",
          "OM",
          "OM",
          "OM",
          "OM",
          "OM",
          "PE",
          "PE",
          "PH",
          "PH",
          "PH",
          "PH",
          "PK",
          "PK",
          "PK",
          "PK",
          "PL",
          "PL",
          "PL",
          "PL",
          "PR",
          "PT",
          "PT",
          "PT",
          "PT",
          "PT",
          "PT",
          "PT",
          "QA",
          "QA",
          "QA",
          "QA",
          "QA",
          "RO",
          "RO",
          "RO",
          "RO",
          "RS",
          "RS",
          "RS",
          "RS",
          "RU",
          "RU",
          "RU",
          "RU",
          "SA",
          "SA",
          "SA",
          "SA",
          "SA",
          "SA",
          "SA",
          "SA",
          "SC",
          "SD",
          "SD",
          "SE",
          "SE",
          "SE",
          "SE",
          "SE",
          "SE",
          "SE",
          "SE",
          "SE",
          "SE",
          "SG",
          "SG",
          "SG",
          "SG",
          "SG",
          "SG",
          "SG",
          "SI",
          "SI",
          "SI",
          "SK",
          "SK",
          "SL",
          "TH",
          "TH",
          "TH",
          "TH",
          "TH",
          "TH",
          "TR",
          "TR",
          "TR",
          "TR",
          "TR",
          "TR",
          "TT",
          "TW",
          "TW",
          "TW",
          "TW",
          "TW",
          "TW",
          "TZ",
          "TZ",
          "UA",
          "UA",
          "UA",
          "UA",
          "UG",
          "US",
          "US",
          "US",
          "US",
          "US",
          "US",
          "US",
          "US",
          "US",
          "US",
          "US",
          "UZ",
          "VN",
          "VN",
          "VN",
          "VN",
          "VN",
          "VN",
          "VN",
          "VU",
          "ZA",
          "ZA",
          "ZA",
          "ZA",
          "ZA",
          "ZA",
          "ZM",
          "ZW",
          "ZW",
          "ZZ",
          "ZZ",
          "ZZ",
          "ZZ",
          "ZZ",
          "ZZ",
          "ZZ",
          "ZZ",
          "electron",
          "mc",
          "mccredit",
          "mcdebit",
          "visa",
          "visabusiness",
          "visaclassic",
          "visacorporate",
          "visadebit",
          "visagold",
          "visaplatinum",
          "visapurchasing",
          "visasignature"
         ],
         "name": "",
         "parents": [
          "mccredit",
          "mcdebit",
          "visa",
          "visaclassic",
          "visadebit",
          "visagold",
          "visaplatinum",
          "visasignature",
          "mccredit",
          "visadebit",
          "visadebit",
          "visaclassic",
          "visadebit",
          "visagold",
          "mccredit",
          "visadebit",
          "mccredit",
          "visaclassic",
          "visadebit",
          "visagold",
          "visaplatinum",
          "visasignature",
          "mccredit",
          "mcdebit",
          "visaclassic",
          "visacorporate",
          "visadebit",
          "mccredit",
          "mcdebit",
          "visa",
          "visabusiness",
          "visaclassic",
          "visacorporate",
          "visadebit",
          "visagold",
          "visaplatinum",
          "visapurchasing",
          "visasignature",
          "mccredit",
          "mcdebit",
          "visadebit",
          "mccredit",
          "mcdebit",
          "visaclassic",
          "visadebit",
          "mcdebit",
          "mccredit",
          "visabusiness",
          "visadebit",
          "visadebit",
          "visaplatinum",
          "mccredit",
          "mcdebit",
          "visaclassic",
          "visadebit",
          "visagold",
          "visaplatinum",
          "mccredit",
          "mcdebit",
          "visabusiness",
          "visaclassic",
          "visadebit",
          "mccredit",
          "visaclassic",
          "visadebit",
          "visaplatinum",
          "visaclassic",
          "visadebit",
          "mccredit",
          "visaclassic",
          "visadebit",
          "visadebit",
          "mccredit",
          "visadebit",
          "visagold",
          "visaplatinum",
          "visadebit",
          "visaplatinum",
          "visadebit",
          "mccredit",
          "mcdebit",
          "visa",
          "visaclassic",
          "visadebit",
          "visaplatinum",
          "visadebit",
          "mccredit",
          "mcdebit",
          "visaclassic",
          "visadebit",
          "visagold",
          "visaplatinum",
          "visadebit",
          "visadebit",
          "visabusiness",
          "visadebit",
          "mccredit",
          "visa",
          "visabusiness",
          "visaclassic",
          "visadebit",
          "visagold",
          "visaplatinum",
          "visasignature",
          "visadebit",
          "visagold",
          "visaplatinum",
          "visadebit",
          "visaplatinum",
          "electron",
          "mccredit",
          "visaclassic",
          "visadebit",
          "visaplatinum",
          "mccredit",
          "mcdebit",
          "visadebit",
          "mccredit",
          "mcdebit",
          "visa",
          "visaclassic",
          "visacorporate",
          "visadebit",
          "visagold",
          "visaplatinum",
          "visadebit",
          "mccredit",
          "mcdebit",
          "visaclassic",
          "visadebit",
          "visadebit",
          "mcdebit",
          "visadebit",
          "mccredit",
          "mcdebit",
          "visaclassic",
          "visadebit",
          "visaplatinum",
          "mccredit",
          "mcdebit",
          "visa",
          "visaclassic",
          "visadebit",
          "visagold",
          "visaplatinum",
          "mccredit",
          "mcdebit",
          "visaclassic",
          "visadebit",
          "mccredit",
          "visaclassic",
          "visadebit",
          "visaplatinum",
          "mccredit",
          "mcdebit",
          "visa",
          "visaclassic",
          "visadebit",
          "visagold",
          "visaplatinum",
          "visapurchasing",
          "electron",
          "mccredit",
          "mcdebit",
          "visa",
          "visabusiness",
          "visaclassic",
          "visacorporate",
          "visadebit",
          "visagold",
          "visaplatinum",
          "visapurchasing",
          "visasignature",
          "visadebit",
          "mccredit",
          "visaclassic",
          "visadebit",
          "mcdebit",
          "visaclassic",
          "visadebit",
          "mccredit",
          "visadebit",
          "visagold",
          "visadebit",
          "mccredit",
          "mcdebit",
          "visaclassic",
          "visadebit",
          "visagold",
          "visaplatinum",
          "visadebit",
          "mccredit",
          "visa",
          "visaclassic",
          "visacorporate",
          "visadebit",
          "visagold",
          "visaplatinum",
          "visasignature",
          "visadebit",
          "mccredit",
          "mcdebit",
          "visadebit",
          "mccredit",
          "mcdebit",
          "visadebit",
          "mccredit",
          "mcdebit",
          "visaclassic",
          "visadebit",
          "visagold",
          "visaplatinum",
          "visasignature",
          "mccredit",
          "mcdebit",
          "visaclassic",
          "visadebit",
          "visagold",
          "visaplatinum",
          "mccredit",
          "visaclassic",
          "visadebit",
          "visagold",
          "visaplatinum",
          "mccredit",
          "visaclassic",
          "visadebit",
          "visagold",
          "visaplatinum",
          "mccredit",
          "visa",
          "visaclassic",
          "visacorporate",
          "visadebit",
          "visagold",
          "visaplatinum",
          "visasignature",
          "mccredit",
          "visaclassic",
          "visadebit",
          "visaclassic",
          "visadebit",
          "mccredit",
          "visaclassic",
          "visadebit",
          "mccredit",
          "mcdebit",
          "visa",
          "visaclassic",
          "visadebit",
          "visagold",
          "visaplatinum",
          "mccredit",
          "visadebit",
          "visagold",
          "visaplatinum",
          "mccredit",
          "visaclassic",
          "visadebit",
          "visaclassic",
          "visacorporate",
          "visadebit",
          "visagold",
          "visaplatinum",
          "mccredit",
          "visaclassic",
          "visadebit",
          "visagold",
          "visaplatinum",
          "mccredit",
          "mcdebit",
          "visaclassic",
          "visadebit",
          "visagold",
          "visaplatinum",
          "mccredit",
          "mcdebit",
          "visaclassic",
          "visadebit",
          "mcdebit",
          "mccredit",
          "mcdebit",
          "visaclassic",
          "visacorporate",
          "visadebit",
          "visagold",
          "visaplatinum",
          "mccredit",
          "visa",
          "visaclassic",
          "visadebit",
          "visagold",
          "visaplatinum",
          "visasignature",
          "visaclassic",
          "visadebit",
          "visadebit",
          "mccredit",
          "mcdebit",
          "visaclassic",
          "visadebit",
          "visaplatinum",
          "visadebit",
          "mcdebit",
          "visaclassic",
          "visadebit",
          "mccredit",
          "mcdebit",
          "visaclassic",
          "visadebit",
          "visagold",
          "mccredit",
          "visaclassic",
          "visadebit",
          "mccredit",
          "mcdebit",
          "visadebit",
          "mccredit",
          "visadebit",
          "visaplatinum",
          "visadebit",
          "visagold",
          "visaclassic",
          "visadebit",
          "mccredit",
          "visadebit",
          "visaclassic",
          "visadebit",
          "visagold",
          "visaplatinum",
          "mccredit",
          "mcdebit",
          "visadebit",
          "visagold",
          "mccredit",
          "visadebit",
          "visadebit",
          "visadebit",
          "electron",
          "mc",
          "mccredit",
          "mcdebit",
          "visa",
          "visabusiness",
          "visaclassic",
          "visacorporate",
          "visadebit",
          "visagold",
          "visaplatinum",
          "mccredit",
          "visa",
          "visadebit",
          "visagold",
          "visaplatinum",
          "visasignature",
          "visaclassic",
          "mccredit",
          "mcdebit",
          "visaclassic",
          "visadebit",
          "visagold",
          "mccredit",
          "mcdebit",
          "visa",
          "visaclassic",
          "visacorporate",
          "visadebit",
          "visagold",
          "visaplatinum",
          "mccredit",
          "mcdebit",
          "visaclassic",
          "visadebit",
          "visaplatinum",
          "visadebit",
          "mccredit",
          "mcdebit",
          "visa",
          "visabusiness",
          "visaclassic",
          "visadebit",
          "visagold",
          "visaplatinum",
          "visapurchasing",
          "visasignature",
          "mccredit",
          "mcdebit",
          "visaclassic",
          "visadebit",
          "visaplatinum",
          "mccredit",
          "visadebit",
          "mccredit",
          "visaclassic",
          "visadebit",
          "visagold",
          "mccredit",
          "visadebit",
          "visagold",
          "visaplatinum",
          "mccredit",
          "mcdebit",
          "visaclassic",
          "visadebit",
          "visadebit",
          "mccredit",
          "mcdebit",
          "visabusiness",
          "visaclassic",
          "visadebit",
          "visagold",
          "visaplatinum",
          "mccredit",
          "visa",
          "visaclassic",
          "visadebit",
          "visaplatinum",
          "mccredit",
          "mcdebit",
          "visadebit",
          "visaplatinum",
          "mcdebit",
          "visa",
          "visadebit",
          "visaplatinum",
          "mccredit",
          "mcdebit",
          "visadebit",
          "visagold",
          "mccredit",
          "mcdebit",
          "visa",
          "visaclassic",
          "visadebit",
          "visagold",
          "visaplatinum",
          "visasignature",
          "visaplatinum",
          "visaclassic",
          "visadebit",
          "mccredit",
          "mcdebit",
          "visa",
          "visabusiness",
          "visaclassic",
          "visacorporate",
          "visadebit",
          "visagold",
          "visaplatinum",
          "visasignature",
          "mccredit",
          "mcdebit",
          "visa",
          "visaclassic",
          "visadebit",
          "visaplatinum",
          "visasignature",
          "mccredit",
          "mcdebit",
          "visadebit",
          "mccredit",
          "visadebit",
          "visadebit",
          "mccredit",
          "visaclassic",
          "visadebit",
          "visagold",
          "visaplatinum",
          "visasignature",
          "mccredit",
          "mcdebit",
          "visaclassic",
          "visadebit",
          "visagold",
          "visaplatinum",
          "visa",
          "mccredit",
          "visa",
          "visabusiness",
          "visadebit",
          "visaplatinum",
          "visasignature",
          "mccredit",
          "visadebit",
          "mccredit",
          "mcdebit",
          "visaclassic",
          "visadebit",
          "visadebit",
          "electron",
          "mccredit",
          "mcdebit",
          "visa",
          "visabusiness",
          "visaclassic",
          "visacorporate",
          "visadebit",
          "visagold",
          "visaplatinum",
          "visasignature",
          "visaclassic",
          "mccredit",
          "mcdebit",
          "visa",
          "visaclassic",
          "visadebit",
          "visagold",
          "visaplatinum",
          "visaplatinum",
          "mccredit",
          "visabusiness",
          "visaclassic",
          "visadebit",
          "visagold",
          "visaplatinum",
          "visadebit",
          "mccredit",
          "visadebit",
          "mccredit",
          "mcdebit",
          "visa",
          "visabusiness",
          "visaclassic",
          "visadebit",
          "visagold",
          "visaplatinum",
          "",
          "",
          "",
          "",
          "",
          "",
          "",
          "",
          "",
          "",
          "",
          "",
          ""
         ],
         "type": "sunburst",
         "values": [
          43,
          1,
          16,
          10,
          62,
          8,
          22,
          6,
          3,
          5,
          2,
          1,
          3,
          1,
          1,
          2,
          1,
          2,
          4,
          2,
          4,
          4,
          4,
          2,
          2,
          1,
          6,
          9724,
          68,
          96,
          71,
          1441,
          32,
          4697,
          307,
          1471,
          10,
          105,
          1,
          1,
          2,
          4,
          1,
          1,
          2,
          4,
          1,
          1,
          4,
          1,
          1,
          3,
          2,
          3,
          11,
          1,
          1,
          10,
          2,
          1,
          6,
          35,
          7,
          4,
          2,
          2,
          1,
          1,
          2,
          1,
          7,
          1,
          2,
          8,
          1,
          3,
          1,
          1,
          1,
          9,
          1,
          3,
          3,
          20,
          1,
          2,
          11,
          3,
          8,
          27,
          5,
          4,
          1,
          1,
          1,
          1,
          48,
          1,
          1,
          16,
          44,
          36,
          23,
          38,
          4,
          1,
          1,
          2,
          1,
          8,
          5,
          8,
          24,
          2,
          2,
          1,
          9,
          61,
          20,
          6,
          10,
          13,
          204,
          8,
          3,
          1,
          16,
          14,
          1,
          35,
          3,
          2,
          4,
          11,
          1,
          5,
          16,
          2,
          48,
          9,
          1,
          7,
          154,
          5,
          7,
          8,
          4,
          1,
          9,
          1,
          2,
          2,
          1,
          42,
          7,
          1,
          8,
          156,
          9,
          8,
          1,
          4,
          22331,
          3412,
          909,
          43,
          4345,
          180,
          102573,
          1986,
          4265,
          14,
          42,
          1,
          3,
          2,
          4,
          1,
          2,
          16,
          5,
          8,
          1,
          9,
          11,
          7,
          2,
          32,
          2,
          4,
          1,
          25,
          2,
          14,
          5,
          37,
          2,
          29,
          5,
          1,
          6,
          3,
          11,
          11,
          1,
          9,
          2,
          1,
          1,
          11,
          3,
          1,
          2,
          29,
          6,
          12,
          85,
          3,
          4,
          8,
          3,
          5,
          2,
          4,
          44,
          15,
          158,
          1,
          5,
          6,
          1,
          2,
          2,
          18,
          2,
          8,
          1,
          1,
          1,
          10,
          1,
          6,
          3,
          2,
          4,
          21,
          6,
          1,
          5,
          37,
          3,
          5,
          9,
          31,
          2,
          1,
          1,
          1,
          1,
          6,
          1,
          2,
          2,
          1,
          5,
          4,
          10,
          6,
          3,
          2,
          1,
          1,
          12,
          3,
          2,
          2,
          1,
          1,
          1,
          1,
          102,
          2,
          6,
          30,
          11,
          4,
          18,
          8,
          5,
          5,
          14,
          1,
          4,
          1,
          1,
          5,
          4,
          5,
          1,
          2,
          3,
          1,
          1,
          1,
          1,
          3,
          1,
          5,
          2,
          10,
          1,
          2,
          2,
          1,
          5,
          1,
          2,
          2,
          6,
          1,
          3,
          1,
          1,
          1,
          2,
          4,
          3,
          1,
          2,
          3,
          1,
          1,
          6,
          1,
          1,
          2,
          2,
          3,
          1,
          3,
          3713,
          299,
          26,
          12,
          1682,
          2,
          808,
          971,
          353,
          11,
          1,
          18,
          3,
          3,
          1,
          1,
          14,
          1,
          1,
          42,
          1,
          13,
          7,
          2,
          6,
          2,
          47,
          1,
          5,
          22,
          11,
          5,
          51,
          2,
          1,
          784,
          4,
          1,
          31,
          734,
          1594,
          117,
          326,
          5,
          2,
          2,
          1,
          1,
          7,
          1,
          1,
          1,
          16,
          1,
          8,
          4,
          1,
          10,
          1,
          2,
          4,
          2,
          1,
          29,
          1,
          29,
          3,
          1,
          18,
          35,
          5,
          1,
          8,
          3,
          3,
          17,
          7,
          5,
          2,
          21,
          1,
          1,
          1,
          10,
          1,
          4,
          1,
          13,
          1,
          20,
          14,
          1,
          8,
          86,
          1,
          31,
          2,
          1,
          1,
          1,
          2581,
          6302,
          7,
          65,
          254,
          1,
          5302,
          30,
          6,
          2,
          26,
          2,
          2,
          3,
          38,
          3,
          13,
          3,
          5,
          2,
          1,
          4,
          3,
          17,
          10,
          56,
          6,
          27,
          11,
          18,
          1,
          1,
          33,
          2,
          3,
          1,
          4,
          2,
          2,
          12,
          3,
          3,
          2,
          2,
          7,
          1,
          1,
          2,
          1,
          1,
          204,
          38,
          2,
          1,
          47,
          1,
          252,
          37,
          26,
          8,
          1,
          22,
          3,
          8,
          24,
          216,
          7,
          14,
          1,
          11,
          1,
          3,
          21,
          5,
          4,
          3,
          1,
          2,
          83,
          11,
          3,
          2,
          14,
          137,
          8,
          11,
          14,
          3,
          40349,
          10303,
          1102,
          233,
          8804,
          270,
          117637,
          3612,
          6749,
          30,
          246
         ]
        }
       ],
       "layout": {
        "height": 500,
        "template": {
         "data": {
          "bar": [
           {
            "error_x": {
             "color": "#2a3f5f"
            },
            "error_y": {
             "color": "#2a3f5f"
            },
            "marker": {
             "line": {
              "color": "#E5ECF6",
              "width": 0.5
             },
             "pattern": {
              "fillmode": "overlay",
              "size": 10,
              "solidity": 0.2
             }
            },
            "type": "bar"
           }
          ],
          "barpolar": [
           {
            "marker": {
             "line": {
              "color": "#E5ECF6",
              "width": 0.5
             },
             "pattern": {
              "fillmode": "overlay",
              "size": 10,
              "solidity": 0.2
             }
            },
            "type": "barpolar"
           }
          ],
          "carpet": [
           {
            "aaxis": {
             "endlinecolor": "#2a3f5f",
             "gridcolor": "white",
             "linecolor": "white",
             "minorgridcolor": "white",
             "startlinecolor": "#2a3f5f"
            },
            "baxis": {
             "endlinecolor": "#2a3f5f",
             "gridcolor": "white",
             "linecolor": "white",
             "minorgridcolor": "white",
             "startlinecolor": "#2a3f5f"
            },
            "type": "carpet"
           }
          ],
          "choropleth": [
           {
            "colorbar": {
             "outlinewidth": 0,
             "ticks": ""
            },
            "type": "choropleth"
           }
          ],
          "contour": [
           {
            "colorbar": {
             "outlinewidth": 0,
             "ticks": ""
            },
            "colorscale": [
             [
              0,
              "#0d0887"
             ],
             [
              0.1111111111111111,
              "#46039f"
             ],
             [
              0.2222222222222222,
              "#7201a8"
             ],
             [
              0.3333333333333333,
              "#9c179e"
             ],
             [
              0.4444444444444444,
              "#bd3786"
             ],
             [
              0.5555555555555556,
              "#d8576b"
             ],
             [
              0.6666666666666666,
              "#ed7953"
             ],
             [
              0.7777777777777778,
              "#fb9f3a"
             ],
             [
              0.8888888888888888,
              "#fdca26"
             ],
             [
              1,
              "#f0f921"
             ]
            ],
            "type": "contour"
           }
          ],
          "contourcarpet": [
           {
            "colorbar": {
             "outlinewidth": 0,
             "ticks": ""
            },
            "type": "contourcarpet"
           }
          ],
          "heatmap": [
           {
            "colorbar": {
             "outlinewidth": 0,
             "ticks": ""
            },
            "colorscale": [
             [
              0,
              "#0d0887"
             ],
             [
              0.1111111111111111,
              "#46039f"
             ],
             [
              0.2222222222222222,
              "#7201a8"
             ],
             [
              0.3333333333333333,
              "#9c179e"
             ],
             [
              0.4444444444444444,
              "#bd3786"
             ],
             [
              0.5555555555555556,
              "#d8576b"
             ],
             [
              0.6666666666666666,
              "#ed7953"
             ],
             [
              0.7777777777777778,
              "#fb9f3a"
             ],
             [
              0.8888888888888888,
              "#fdca26"
             ],
             [
              1,
              "#f0f921"
             ]
            ],
            "type": "heatmap"
           }
          ],
          "heatmapgl": [
           {
            "colorbar": {
             "outlinewidth": 0,
             "ticks": ""
            },
            "colorscale": [
             [
              0,
              "#0d0887"
             ],
             [
              0.1111111111111111,
              "#46039f"
             ],
             [
              0.2222222222222222,
              "#7201a8"
             ],
             [
              0.3333333333333333,
              "#9c179e"
             ],
             [
              0.4444444444444444,
              "#bd3786"
             ],
             [
              0.5555555555555556,
              "#d8576b"
             ],
             [
              0.6666666666666666,
              "#ed7953"
             ],
             [
              0.7777777777777778,
              "#fb9f3a"
             ],
             [
              0.8888888888888888,
              "#fdca26"
             ],
             [
              1,
              "#f0f921"
             ]
            ],
            "type": "heatmapgl"
           }
          ],
          "histogram": [
           {
            "marker": {
             "pattern": {
              "fillmode": "overlay",
              "size": 10,
              "solidity": 0.2
             }
            },
            "type": "histogram"
           }
          ],
          "histogram2d": [
           {
            "colorbar": {
             "outlinewidth": 0,
             "ticks": ""
            },
            "colorscale": [
             [
              0,
              "#0d0887"
             ],
             [
              0.1111111111111111,
              "#46039f"
             ],
             [
              0.2222222222222222,
              "#7201a8"
             ],
             [
              0.3333333333333333,
              "#9c179e"
             ],
             [
              0.4444444444444444,
              "#bd3786"
             ],
             [
              0.5555555555555556,
              "#d8576b"
             ],
             [
              0.6666666666666666,
              "#ed7953"
             ],
             [
              0.7777777777777778,
              "#fb9f3a"
             ],
             [
              0.8888888888888888,
              "#fdca26"
             ],
             [
              1,
              "#f0f921"
             ]
            ],
            "type": "histogram2d"
           }
          ],
          "histogram2dcontour": [
           {
            "colorbar": {
             "outlinewidth": 0,
             "ticks": ""
            },
            "colorscale": [
             [
              0,
              "#0d0887"
             ],
             [
              0.1111111111111111,
              "#46039f"
             ],
             [
              0.2222222222222222,
              "#7201a8"
             ],
             [
              0.3333333333333333,
              "#9c179e"
             ],
             [
              0.4444444444444444,
              "#bd3786"
             ],
             [
              0.5555555555555556,
              "#d8576b"
             ],
             [
              0.6666666666666666,
              "#ed7953"
             ],
             [
              0.7777777777777778,
              "#fb9f3a"
             ],
             [
              0.8888888888888888,
              "#fdca26"
             ],
             [
              1,
              "#f0f921"
             ]
            ],
            "type": "histogram2dcontour"
           }
          ],
          "mesh3d": [
           {
            "colorbar": {
             "outlinewidth": 0,
             "ticks": ""
            },
            "type": "mesh3d"
           }
          ],
          "parcoords": [
           {
            "line": {
             "colorbar": {
              "outlinewidth": 0,
              "ticks": ""
             }
            },
            "type": "parcoords"
           }
          ],
          "pie": [
           {
            "automargin": true,
            "type": "pie"
           }
          ],
          "scatter": [
           {
            "fillpattern": {
             "fillmode": "overlay",
             "size": 10,
             "solidity": 0.2
            },
            "type": "scatter"
           }
          ],
          "scatter3d": [
           {
            "line": {
             "colorbar": {
              "outlinewidth": 0,
              "ticks": ""
             }
            },
            "marker": {
             "colorbar": {
              "outlinewidth": 0,
              "ticks": ""
             }
            },
            "type": "scatter3d"
           }
          ],
          "scattercarpet": [
           {
            "marker": {
             "colorbar": {
              "outlinewidth": 0,
              "ticks": ""
             }
            },
            "type": "scattercarpet"
           }
          ],
          "scattergeo": [
           {
            "marker": {
             "colorbar": {
              "outlinewidth": 0,
              "ticks": ""
             }
            },
            "type": "scattergeo"
           }
          ],
          "scattergl": [
           {
            "marker": {
             "colorbar": {
              "outlinewidth": 0,
              "ticks": ""
             }
            },
            "type": "scattergl"
           }
          ],
          "scattermapbox": [
           {
            "marker": {
             "colorbar": {
              "outlinewidth": 0,
              "ticks": ""
             }
            },
            "type": "scattermapbox"
           }
          ],
          "scatterpolar": [
           {
            "marker": {
             "colorbar": {
              "outlinewidth": 0,
              "ticks": ""
             }
            },
            "type": "scatterpolar"
           }
          ],
          "scatterpolargl": [
           {
            "marker": {
             "colorbar": {
              "outlinewidth": 0,
              "ticks": ""
             }
            },
            "type": "scatterpolargl"
           }
          ],
          "scatterternary": [
           {
            "marker": {
             "colorbar": {
              "outlinewidth": 0,
              "ticks": ""
             }
            },
            "type": "scatterternary"
           }
          ],
          "surface": [
           {
            "colorbar": {
             "outlinewidth": 0,
             "ticks": ""
            },
            "colorscale": [
             [
              0,
              "#0d0887"
             ],
             [
              0.1111111111111111,
              "#46039f"
             ],
             [
              0.2222222222222222,
              "#7201a8"
             ],
             [
              0.3333333333333333,
              "#9c179e"
             ],
             [
              0.4444444444444444,
              "#bd3786"
             ],
             [
              0.5555555555555556,
              "#d8576b"
             ],
             [
              0.6666666666666666,
              "#ed7953"
             ],
             [
              0.7777777777777778,
              "#fb9f3a"
             ],
             [
              0.8888888888888888,
              "#fdca26"
             ],
             [
              1,
              "#f0f921"
             ]
            ],
            "type": "surface"
           }
          ],
          "table": [
           {
            "cells": {
             "fill": {
              "color": "#EBF0F8"
             },
             "line": {
              "color": "white"
             }
            },
            "header": {
             "fill": {
              "color": "#C8D4E3"
             },
             "line": {
              "color": "white"
             }
            },
            "type": "table"
           }
          ]
         },
         "layout": {
          "annotationdefaults": {
           "arrowcolor": "#2a3f5f",
           "arrowhead": 0,
           "arrowwidth": 1
          },
          "autotypenumbers": "strict",
          "coloraxis": {
           "colorbar": {
            "outlinewidth": 0,
            "ticks": ""
           }
          },
          "colorscale": {
           "diverging": [
            [
             0,
             "#8e0152"
            ],
            [
             0.1,
             "#c51b7d"
            ],
            [
             0.2,
             "#de77ae"
            ],
            [
             0.3,
             "#f1b6da"
            ],
            [
             0.4,
             "#fde0ef"
            ],
            [
             0.5,
             "#f7f7f7"
            ],
            [
             0.6,
             "#e6f5d0"
            ],
            [
             0.7,
             "#b8e186"
            ],
            [
             0.8,
             "#7fbc41"
            ],
            [
             0.9,
             "#4d9221"
            ],
            [
             1,
             "#276419"
            ]
           ],
           "sequential": [
            [
             0,
             "#0d0887"
            ],
            [
             0.1111111111111111,
             "#46039f"
            ],
            [
             0.2222222222222222,
             "#7201a8"
            ],
            [
             0.3333333333333333,
             "#9c179e"
            ],
            [
             0.4444444444444444,
             "#bd3786"
            ],
            [
             0.5555555555555556,
             "#d8576b"
            ],
            [
             0.6666666666666666,
             "#ed7953"
            ],
            [
             0.7777777777777778,
             "#fb9f3a"
            ],
            [
             0.8888888888888888,
             "#fdca26"
            ],
            [
             1,
             "#f0f921"
            ]
           ],
           "sequentialminus": [
            [
             0,
             "#0d0887"
            ],
            [
             0.1111111111111111,
             "#46039f"
            ],
            [
             0.2222222222222222,
             "#7201a8"
            ],
            [
             0.3333333333333333,
             "#9c179e"
            ],
            [
             0.4444444444444444,
             "#bd3786"
            ],
            [
             0.5555555555555556,
             "#d8576b"
            ],
            [
             0.6666666666666666,
             "#ed7953"
            ],
            [
             0.7777777777777778,
             "#fb9f3a"
            ],
            [
             0.8888888888888888,
             "#fdca26"
            ],
            [
             1,
             "#f0f921"
            ]
           ]
          },
          "colorway": [
           "#636efa",
           "#EF553B",
           "#00cc96",
           "#ab63fa",
           "#FFA15A",
           "#19d3f3",
           "#FF6692",
           "#B6E880",
           "#FF97FF",
           "#FECB52"
          ],
          "font": {
           "color": "#2a3f5f"
          },
          "geo": {
           "bgcolor": "white",
           "lakecolor": "white",
           "landcolor": "#E5ECF6",
           "showlakes": true,
           "showland": true,
           "subunitcolor": "white"
          },
          "hoverlabel": {
           "align": "left"
          },
          "hovermode": "closest",
          "mapbox": {
           "style": "light"
          },
          "paper_bgcolor": "white",
          "plot_bgcolor": "#E5ECF6",
          "polar": {
           "angularaxis": {
            "gridcolor": "white",
            "linecolor": "white",
            "ticks": ""
           },
           "bgcolor": "#E5ECF6",
           "radialaxis": {
            "gridcolor": "white",
            "linecolor": "white",
            "ticks": ""
           }
          },
          "scene": {
           "xaxis": {
            "backgroundcolor": "#E5ECF6",
            "gridcolor": "white",
            "gridwidth": 2,
            "linecolor": "white",
            "showbackground": true,
            "ticks": "",
            "zerolinecolor": "white"
           },
           "yaxis": {
            "backgroundcolor": "#E5ECF6",
            "gridcolor": "white",
            "gridwidth": 2,
            "linecolor": "white",
            "showbackground": true,
            "ticks": "",
            "zerolinecolor": "white"
           },
           "zaxis": {
            "backgroundcolor": "#E5ECF6",
            "gridcolor": "white",
            "gridwidth": 2,
            "linecolor": "white",
            "showbackground": true,
            "ticks": "",
            "zerolinecolor": "white"
           }
          },
          "shapedefaults": {
           "line": {
            "color": "#2a3f5f"
           }
          },
          "ternary": {
           "aaxis": {
            "gridcolor": "white",
            "linecolor": "white",
            "ticks": ""
           },
           "baxis": {
            "gridcolor": "white",
            "linecolor": "white",
            "ticks": ""
           },
           "bgcolor": "#E5ECF6",
           "caxis": {
            "gridcolor": "white",
            "linecolor": "white",
            "ticks": ""
           }
          },
          "title": {
           "x": 0.05
          },
          "xaxis": {
           "automargin": true,
           "gridcolor": "white",
           "linecolor": "white",
           "ticks": "",
           "title": {
            "standoff": 15
           },
           "zerolinecolor": "white",
           "zerolinewidth": 2
          },
          "yaxis": {
           "automargin": true,
           "gridcolor": "white",
           "linecolor": "white",
           "ticks": "",
           "title": {
            "standoff": 15
           },
           "zerolinecolor": "white",
           "zerolinewidth": 2
          }
         }
        },
        "title": {
         "text": "Fraud Transactions (left) vs Non-Fraud Transactions (right)"
        },
        "width": 800
       }
      }
     },
     "metadata": {},
     "output_type": "display_data"
    }
   ],
   "source": [
    "from plotly.subplots import make_subplots\n",
    "sp1 =px.sunburst(df_fraud, path=['txvariantcode', \"shoppercountrycode\"])\n",
    "sp2 = px.sunburst(df_non_fraud, path=['txvariantcode', \"shoppercountrycode\"])\n",
    "\n",
    "fig = make_subplots(rows=1, cols=2, specs=[\n",
    "    [{\"type\": \"sunburst\"}, {\"type\": \"sunburst\"}]\n",
    "])\n",
    "fig.add_trace(sp1.data[0], row=1, col=1)\n",
    "fig.add_trace(sp2.data[0], row=1, col=2)\n",
    "fig.update_layout(height=500, width=800, title_text=\"Fraud Transactions (left) vs Non-Fraud Transactions (right)\")\n",
    "fig.show()"
   ]
  },
  {
   "cell_type": "markdown",
   "id": "1d5de0c8",
   "metadata": {},
   "source": [
    "#### Transaction amount histogram\n",
    "\n",
    "Here we plot the transaction amount converted in euro for each class.\n",
    "It can be seen that the fraudulent transactions have more entries where the amount is higher than 100EUR, compared to non-fraud ones."
   ]
  },
  {
   "cell_type": "code",
   "execution_count": 14,
   "id": "5ca765f6",
   "metadata": {},
   "outputs": [
    {
     "data": {
      "text/plain": [
       "<seaborn.axisgrid.FacetGrid at 0x7f211afc4ac0>"
      ]
     },
     "execution_count": 14,
     "metadata": {},
     "output_type": "execute_result"
    },
    {
     "data": {
      "image/png": "[encoded data removed]",
      "text/plain": [
       "<Figure size 864x432 with 2 Axes>"
      ]
     },
     "metadata": {
      "needs_background": "light"
     },
     "output_type": "display_data"
    }
   ],
   "source": [
    "g = sns.FacetGrid(df_vis, col='label', height=6, sharey=False)\n",
    "g.set(xlim=(0, 500))\n",
    "g.map_dataframe(sns.histplot, x=\"amount_eur\", binwidth=10)"
   ]
  },
  {
   "cell_type": "markdown",
   "id": "17968298-3e23-4156-8de0-3e641be25bfc",
   "metadata": {},
   "source": [
    "# Applying machine learning to imbalanced data\n",
    "\n",
    "Since the class of fraudulent transactions is represented by less than 0.1% of the entries in the data set, it makes the data unsuitable for majority of available classification methods, which require even distribution of the classes.\n",
    "\n",
    "We split the preprocessed data set into train and test sets (80/20 ratio) and try three classification methods:\n",
    "* logistic regression\n",
    "* random forest\n",
    "* decision tree"
   ]
  },
  {
   "cell_type": "code",
   "execution_count": 15,
   "id": "797ba509-4780-436b-abeb-c38259528f50",
   "metadata": {
    "pycharm": {
     "name": "#%%\n"
    },
    "tags": []
   },
   "outputs": [
    {
     "name": "stdout",
     "output_type": "stream",
     "text": [
      "Benign cases in train set: 151485\n",
      "Benign cases in test set: 37867\n",
      "Fraudulent cases in train set: 217\n",
      "Fraudulent cases in test set: 59\n"
     ]
    }
   ],
   "source": [
    "y = df['label']\n",
    "\n",
    "X_original_train, X_original_test, y_original_train, y_original_test = train_test_split(X, y, test_size=0.20, random_state=0)\n",
    "\n",
    "print(f\"Benign cases in train set: {len(y_original_train[y_original_train == 0])}\")\n",
    "print(f\"Benign cases in test set: {len(y_original_test[y_original_test == 0])}\")\n",
    "print(f\"Fraudulent cases in train set: {len(y_original_train[y_original_train == 1])}\")\n",
    "print(f\"Fraudulent cases in test set: {len(y_original_test[y_original_test == 1])}\")"
   ]
  },
  {
   "cell_type": "markdown",
   "id": "bf901999-0d93-4b91-b4df-17a0ee671428",
   "metadata": {
    "pycharm": {
     "name": "#%% md\n"
    }
   },
   "source": [
    "## Logistic regression\n",
    "\n",
    "We run the logistic regression classifier with default settings from the `scikit-learn` library.\n",
    "\n",
    "After testing classifier's performance we immediately see that all the transactions in the test set were classified as benign.\n",
    "Although there were no false positives (benign transactions classified as fraudulent), there weren't any true positives either. This makes the classifier useless in its current form."
   ]
  },
  {
   "cell_type": "code",
   "execution_count": 16,
   "id": "610ae514-38d7-4c65-ad66-3ab2550570e1",
   "metadata": {
    "collapsed": false,
    "jupyter": {
     "outputs_hidden": false
    },
    "pycharm": {
     "name": "#%%\n"
    }
   },
   "outputs": [
    {
     "name": "stderr",
     "output_type": "stream",
     "text": [
      "/home/ion/uni/q4/cda/cs4035-cda/jupyter/.venv/lib/python3.10/site-packages/sklearn/metrics/_classification.py:1318: UndefinedMetricWarning:\n",
      "\n",
      "Precision and F-score are ill-defined and being set to 0.0 in labels with no predicted samples. Use `zero_division` parameter to control this behavior.\n",
      "\n",
      "/home/ion/uni/q4/cda/cs4035-cda/jupyter/.venv/lib/python3.10/site-packages/sklearn/metrics/_classification.py:1318: UndefinedMetricWarning:\n",
      "\n",
      "Precision and F-score are ill-defined and being set to 0.0 in labels with no predicted samples. Use `zero_division` parameter to control this behavior.\n",
      "\n",
      "/home/ion/uni/q4/cda/cs4035-cda/jupyter/.venv/lib/python3.10/site-packages/sklearn/metrics/_classification.py:1318: UndefinedMetricWarning:\n",
      "\n",
      "Precision and F-score are ill-defined and being set to 0.0 in labels with no predicted samples. Use `zero_division` parameter to control this behavior.\n",
      "\n"
     ]
    },
    {
     "name": "stdout",
     "output_type": "stream",
     "text": [
      "              precision    recall  f1-score   support\n",
      "\n",
      "           0       1.00      1.00      1.00     37867\n",
      "           1       0.00      0.00      0.00        59\n",
      "\n",
      "    accuracy                           1.00     37926\n",
      "   macro avg       0.50      0.50      0.50     37926\n",
      "weighted avg       1.00      1.00      1.00     37926\n",
      "\n",
      "Accuracy: 99.84443389759005\n"
     ]
    },
    {
     "data": {
      "image/png": "[encoded data removed]",
      "text/plain": [
       "<Figure size 432x288 with 2 Axes>"
      ]
     },
     "metadata": {
      "needs_background": "light"
     },
     "output_type": "display_data"
    }
   ],
   "source": [
    "logreg_classifier = LogisticRegression(random_state=0, n_jobs=-1)\n",
    "logreg_classifier.fit(X_original_train, y_original_train)\n",
    "\n",
    "y_predictions = logreg_classifier.predict(X_original_test)\n",
    "y_predictions_proba = logreg_classifier.predict_proba(X_original_test)[:, 1]\n",
    "\n",
    "print(classification_report(y_original_test, y_predictions))\n",
    "print(f\"Accuracy: {accuracy_score(y_original_test, y_predictions) * 100}\")\n",
    "\n",
    "logreg_fpr, logreg_tpr, _ = roc_curve(y_original_test, y_predictions_proba)\n",
    "logreg_roc_auc = auc(logreg_fpr, logreg_tpr)\n",
    "\n",
    "ConfusionMatrixDisplay.from_predictions(y_original_test, y_predictions)\n",
    "plt.show()"
   ]
  },
  {
   "cell_type": "markdown",
   "id": "28f3d66c-cf89-493f-a9f7-5733f7f05eb0",
   "metadata": {
    "pycharm": {
     "name": "#%% md\n"
    },
    "tags": []
   },
   "source": [
    "## Random forest\n",
    "\n",
    "We run the random forest classifier with default settings from the `scikit-learn`, with unrestricted maximum depth of the individual tree.\n",
    "\n",
    "The classifier managed to detect 3 fraudulent transactions, without any false positives (precision of 100%). \n",
    "However, since there were 59 fraudulent transactions in the data set in general, it means that it's not very effective in determining the fraudulent transactions (recall of 5%)."
   ]
  },
  {
   "cell_type": "code",
   "execution_count": 17,
   "id": "1781323f-0506-4888-992c-440f2a657f2a",
   "metadata": {
    "pycharm": {
     "name": "#%%\n"
    },
    "tags": []
   },
   "outputs": [
    {
     "name": "stdout",
     "output_type": "stream",
     "text": [
      "              precision    recall  f1-score   support\n",
      "\n",
      "           0       1.00      1.00      1.00     37867\n",
      "           1       1.00      0.05      0.10        59\n",
      "\n",
      "    accuracy                           1.00     37926\n",
      "   macro avg       1.00      0.53      0.55     37926\n",
      "weighted avg       1.00      1.00      1.00     37926\n",
      "\n",
      "Accuracy: 99.85234403839056\n"
     ]
    },
    {
     "data": {
      "image/png": "[encoded data removed]",
      "text/plain": [
       "<Figure size 432x288 with 2 Axes>"
      ]
     },
     "metadata": {
      "needs_background": "light"
     },
     "output_type": "display_data"
    }
   ],
   "source": [
    "forest_classifier = RandomForestClassifier(random_state=0, n_jobs=-1)\n",
    "forest_classifier.fit(X_original_train, y_original_train)\n",
    "\n",
    "y_predictions = forest_classifier.predict(X_original_test)\n",
    "y_predictions_proba = forest_classifier.predict_proba(X_original_test)[:, 1]\n",
    "\n",
    "print(classification_report(y_original_test, y_predictions))\n",
    "print(f\"Accuracy: {accuracy_score(y_original_test, y_predictions) * 100}\")\n",
    "\n",
    "forest_fpr, forest_tpr, _ = roc_curve(y_original_test, y_predictions_proba)\n",
    "forest_roc_auc = auc(forest_fpr, forest_tpr)\n",
    "\n",
    "ConfusionMatrixDisplay.from_predictions(y_original_test, y_predictions)\n",
    "plt.show()"
   ]
  },
  {
   "cell_type": "markdown",
   "id": "b2eb3247-8564-41bf-a3c2-5195cdde70c5",
   "metadata": {
    "pycharm": {
     "name": "#%% md\n"
    }
   },
   "source": [
    "## Decision tree\n",
    "\n",
    "Finally, we executed decision tree classifier with default settings from the `scikit-learn` library and the maximum depth of the tree set to 5 (`max_depth=5`).\n",
    "\n",
    "Almost all the transactions were classified as benign once again, except of one benign transaction that was classified as fraudulent (false positive)."
   ]
  },
  {
   "cell_type": "code",
   "execution_count": 18,
   "id": "8f58bf76-95fc-4265-8a03-0b07099be1b0",
   "metadata": {
    "pycharm": {
     "name": "#%%\n"
    },
    "tags": []
   },
   "outputs": [
    {
     "name": "stdout",
     "output_type": "stream",
     "text": [
      "              precision    recall  f1-score   support\n",
      "\n",
      "           0       1.00      1.00      1.00     37867\n",
      "           1       0.00      0.00      0.00        59\n",
      "\n",
      "    accuracy                           1.00     37926\n",
      "   macro avg       0.50      0.50      0.50     37926\n",
      "weighted avg       1.00      1.00      1.00     37926\n",
      "\n",
      "Accuracy: 99.84179718398988\n"
     ]
    },
    {
     "data": {
      "image/png": "[encoded data removed]",
      "text/plain": [
       "<Figure size 432x288 with 2 Axes>"
      ]
     },
     "metadata": {
      "needs_background": "light"
     },
     "output_type": "display_data"
    }
   ],
   "source": [
    "dtree_classifier = DecisionTreeClassifier(max_depth=5, random_state=0)\n",
    "dtree_classifier.fit(X_original_train, y_original_train)\n",
    "\n",
    "y_predictions = dtree_classifier.predict(X_original_test)\n",
    "y_predictions_prob = dtree_classifier.predict_proba(X_original_test)[:, 1]\n",
    "\n",
    "print(classification_report(y_original_test, y_predictions))\n",
    "print(f\"Accuracy: {accuracy_score(y_original_test, y_predictions) * 100}\")\n",
    "\n",
    "dtree_fpr, dtree_tpr, _ = roc_curve(y_original_test, y_predictions_prob)\n",
    "dtree_roc_auc = auc(dtree_fpr, dtree_tpr)\n",
    "\n",
    "ConfusionMatrixDisplay.from_predictions(y_original_test, y_predictions)\n",
    "plt.show()"
   ]
  },
  {
   "cell_type": "markdown",
   "id": "2a72c887",
   "metadata": {},
   "source": [
    "### ROC curve for original dataset"
   ]
  },
  {
   "cell_type": "code",
   "execution_count": 19,
   "id": "a735b718",
   "metadata": {},
   "outputs": [
    {
     "data": {
      "image/png": "[encoded data removed]",
      "text/plain": [
       "<Figure size 432x288 with 1 Axes>"
      ]
     },
     "metadata": {
      "needs_background": "light"
     },
     "output_type": "display_data"
    }
   ],
   "source": [
    "plt.figure(0).clf()\n",
    "plt.plot(logreg_fpr, logreg_tpr, label=f\"Logistic regression (AUC = {logreg_roc_auc})\")\n",
    "plt.plot(dtree_fpr, dtree_tpr, label=f\"Decision tree (AUC = {dtree_roc_auc})\")\n",
    "plt.plot(forest_fpr, forest_tpr, label=f\"Random forest (AUC = {forest_roc_auc})\")\n",
    "plt.legend()\n",
    "plt.show()"
   ]
  },
  {
   "cell_type": "markdown",
   "id": "5373ee9b-01de-424f-ad1d-27c0208cea1a",
   "metadata": {
    "pycharm": {
     "name": "#%% md\n"
    }
   },
   "source": [
    "## Conclusions\n",
    "\n",
    "Although the accuracy approaching 100% would be a good sign if classes were evenly distributed, in our case it's misleading since 99.9% of the data set consists of entities of benign, while merely 0.1% is the remaining class of fraud transactions.\n",
    "This leads to the classifiers becoming biased towards classifying almost all the transactions as benign ones.\n",
    "\n",
    "This means that without additional tweaking and data set modifications, the aforementioned classification methods are not applicable for determining fraud in practice."
   ]
  },
  {
   "cell_type": "markdown",
   "id": "034f4e87-9bae-4831-b38f-e24e367d7c5d",
   "metadata": {
    "pycharm": {
     "name": "#%% md\n"
    }
   },
   "source": [
    "# Handling imbalanced data with SMOTE\n",
    "\n",
    "_Author: Konrad Ponichtera_\n",
    "\n",
    "One of the methods of dealing with imbalanced data sets is to perform oversampling, which generates new sythetic individuals of the minority class in a hope to increase the classification performance.\n",
    "One of these methods is Synthetic Minority Oversampling Technique (SMOTE), which finds $k$-nearest minority neighbors of each individual from the minority class and generates $N$ procent new ones by drawing a (hyper)line between the individual and its random neighbor (from the $k$ nearest ones) and then randomly selecting a point on that line.\n",
    "\n",
    "In the example below we split the original preprocessed data set into test and training sets, with respectively 217 and 59 fraudulent transactions.\n",
    "Then we use SMOTE implementation to synthesize 43400 fraudulent transactions for each of 217 real ones in the training data set.\n",
    "In the end, the training set consists of 151485 benign and 43617 fraudulent transactions, which should have a positive impact on classification.\n",
    "\n",
    "**Although it would be possible to balance the data set entirely by settingSince the parameter `N=69808` of `smote` function, it was ran with `N=20000` due to already long execution time.**\n",
    "\n",
    "After looking into the SMOTEd training data set, we see that the newly created data do not necessarily make much sense on their own - for example, the class labels are now floating point numbers instead of integers.\n",
    "However, this is not an issue, since the syntheisized data is not meant to be used independently and was created purely for the purpose of being fed into the classifier."
   ]
  },
  {
   "cell_type": "markdown",
   "id": "2553a11d-c19d-451c-a529-e3d4995205f1",
   "metadata": {},
   "source": [
    "## Generating synthetic samples"
   ]
  },
  {
   "cell_type": "code",
   "execution_count": 20,
   "id": "66f5244d-1af7-47f2-8887-34a0d95b500e",
   "metadata": {
    "pycharm": {
     "is_executing": true,
     "name": "#%%\n"
    },
    "tags": []
   },
   "outputs": [
    {
     "name": "stdout",
     "output_type": "stream",
     "text": [
      "Benign cases in train set: 151485\n",
      "Benign cases in test set: 37867\n",
      "Fraudulent cases in train set: 217\n",
      "Fraudulent cases in test set: 59\n",
      "Starting SMOTE run for 217 samples\n",
      "SMOTE ran for 622.0784554481506 seconds and generated 43400 synthetic samples\n",
      "Benign cases in train set after SMOTE: 151485\n",
      "Fraudulent cases in train set after SMOTE: 43617\n"
     ]
    },
    {
     "data": {
      "text/html": [
       "<div>\n",
       "<style scoped>\n",
       "    .dataframe tbody tr th:only-of-type {\n",
       "        vertical-align: middle;\n",
       "    }\n",
       "\n",
       "    .dataframe tbody tr th {\n",
       "        vertical-align: top;\n",
       "    }\n",
       "\n",
       "    .dataframe thead th {\n",
       "        text-align: right;\n",
       "    }\n",
       "</style>\n",
       "<table border=\"1\" class=\"dataframe\">\n",
       "  <thead>\n",
       "    <tr style=\"text-align: right;\">\n",
       "      <th></th>\n",
       "      <th>issuercountrycode</th>\n",
       "      <th>txvariantcode</th>\n",
       "      <th>bin</th>\n",
       "      <th>amount</th>\n",
       "      <th>currencycode</th>\n",
       "      <th>shoppercountrycode</th>\n",
       "      <th>shopperinteraction</th>\n",
       "      <th>cardverificationcodesupplied</th>\n",
       "      <th>cvcresponsecode</th>\n",
       "      <th>accountcode</th>\n",
       "      <th>mail_id</th>\n",
       "      <th>ip_id</th>\n",
       "      <th>card_id</th>\n",
       "      <th>amount_eur</th>\n",
       "      <th>countries_equal</th>\n",
       "    </tr>\n",
       "  </thead>\n",
       "  <tbody>\n",
       "    <tr>\n",
       "      <th>0</th>\n",
       "      <td>100.0</td>\n",
       "      <td>6.0</td>\n",
       "      <td>434017.867227</td>\n",
       "      <td>188454.888516</td>\n",
       "      <td>2.0</td>\n",
       "      <td>100.0</td>\n",
       "      <td>1.0</td>\n",
       "      <td>1.0</td>\n",
       "      <td>0.0</td>\n",
       "      <td>1.0</td>\n",
       "      <td>163420.747119</td>\n",
       "      <td>157298.368689</td>\n",
       "      <td>48254.56435</td>\n",
       "      <td>88.547561</td>\n",
       "      <td>1.0</td>\n",
       "    </tr>\n",
       "    <tr>\n",
       "      <th>0</th>\n",
       "      <td>100.0</td>\n",
       "      <td>6.0</td>\n",
       "      <td>474979.665881</td>\n",
       "      <td>199288.685889</td>\n",
       "      <td>2.0</td>\n",
       "      <td>100.0</td>\n",
       "      <td>1.0</td>\n",
       "      <td>1.0</td>\n",
       "      <td>0.0</td>\n",
       "      <td>1.0</td>\n",
       "      <td>166081.843441</td>\n",
       "      <td>154130.73853</td>\n",
       "      <td>23241.406877</td>\n",
       "      <td>93.637937</td>\n",
       "      <td>1.0</td>\n",
       "    </tr>\n",
       "    <tr>\n",
       "      <th>0</th>\n",
       "      <td>100.0</td>\n",
       "      <td>7.943711</td>\n",
       "      <td>477253.583567</td>\n",
       "      <td>187606.029277</td>\n",
       "      <td>2.0</td>\n",
       "      <td>100.0</td>\n",
       "      <td>1.0</td>\n",
       "      <td>1.0</td>\n",
       "      <td>0.0</td>\n",
       "      <td>1.0</td>\n",
       "      <td>153818.491064</td>\n",
       "      <td>156092.997431</td>\n",
       "      <td>55448.421759</td>\n",
       "      <td>88.148715</td>\n",
       "      <td>1.0</td>\n",
       "    </tr>\n",
       "    <tr>\n",
       "      <th>0</th>\n",
       "      <td>100.0</td>\n",
       "      <td>6.0</td>\n",
       "      <td>456245.22131</td>\n",
       "      <td>170769.220153</td>\n",
       "      <td>2.0</td>\n",
       "      <td>100.0</td>\n",
       "      <td>1.0</td>\n",
       "      <td>1.0</td>\n",
       "      <td>0.0</td>\n",
       "      <td>1.0</td>\n",
       "      <td>133478.744772</td>\n",
       "      <td>153219.375404</td>\n",
       "      <td>41093.091099</td>\n",
       "      <td>80.237759</td>\n",
       "      <td>1.0</td>\n",
       "    </tr>\n",
       "    <tr>\n",
       "      <th>0</th>\n",
       "      <td>100.0</td>\n",
       "      <td>6.0</td>\n",
       "      <td>464604.77417</td>\n",
       "      <td>182340.200612</td>\n",
       "      <td>2.0</td>\n",
       "      <td>100.0</td>\n",
       "      <td>1.0</td>\n",
       "      <td>1.0</td>\n",
       "      <td>0.0</td>\n",
       "      <td>1.0</td>\n",
       "      <td>146488.601639</td>\n",
       "      <td>153510.379796</td>\n",
       "      <td>33441.636113</td>\n",
       "      <td>85.674509</td>\n",
       "      <td>1.0</td>\n",
       "    </tr>\n",
       "  </tbody>\n",
       "</table>\n",
       "</div>"
      ],
      "text/plain": [
       "  issuercountrycode txvariantcode            bin         amount currencycode  \\\n",
       "0             100.0           6.0  434017.867227  188454.888516          2.0   \n",
       "0             100.0           6.0  474979.665881  199288.685889          2.0   \n",
       "0             100.0      7.943711  477253.583567  187606.029277          2.0   \n",
       "0             100.0           6.0   456245.22131  170769.220153          2.0   \n",
       "0             100.0           6.0   464604.77417  182340.200612          2.0   \n",
       "\n",
       "  shoppercountrycode shopperinteraction cardverificationcodesupplied  \\\n",
       "0              100.0                1.0                          1.0   \n",
       "0              100.0                1.0                          1.0   \n",
       "0              100.0                1.0                          1.0   \n",
       "0              100.0                1.0                          1.0   \n",
       "0              100.0                1.0                          1.0   \n",
       "\n",
       "  cvcresponsecode accountcode        mail_id          ip_id       card_id  \\\n",
       "0             0.0         1.0  163420.747119  157298.368689   48254.56435   \n",
       "0             0.0         1.0  166081.843441   154130.73853  23241.406877   \n",
       "0             0.0         1.0  153818.491064  156092.997431  55448.421759   \n",
       "0             0.0         1.0  133478.744772  153219.375404  41093.091099   \n",
       "0             0.0         1.0  146488.601639  153510.379796  33441.636113   \n",
       "\n",
       "  amount_eur countries_equal  \n",
       "0  88.547561             1.0  \n",
       "0  93.637937             1.0  \n",
       "0  88.148715             1.0  \n",
       "0  80.237759             1.0  \n",
       "0  85.674509             1.0  "
      ]
     },
     "execution_count": 20,
     "metadata": {},
     "output_type": "execute_result"
    }
   ],
   "source": [
    "# Ignoring the FutureWarning which is internally thrown by NearestNeighbors\n",
    "warnings.simplefilter(action='ignore', category=FutureWarning)\n",
    "\n",
    "\n",
    "def smote(X, N=100, k=5, random_state=None):\n",
    "    if random_state is not None:\n",
    "        rng = random.Random(random_state)\n",
    "    else:\n",
    "        rng = random.Random()\n",
    "\n",
    "    assert N >= 100\n",
    "    N = N // 100\n",
    "    \n",
    "    column_names = X.columns\n",
    "    new_samples = pd.DataFrame(columns=column_names)\n",
    "    X = X.to_numpy()\n",
    "\n",
    "    knn = NearestNeighbors(n_neighbors=k)\n",
    "    knn.fit(X)\n",
    "\n",
    "    for x in X:\n",
    "        nnarray = knn.kneighbors([x], k, return_distance=False)[0]\n",
    "        \n",
    "        # Populate\n",
    "        for _ in range(N):\n",
    "            nn = rng.randrange(0, k)\n",
    "            \n",
    "            neighbor_item = X[nnarray[nn]]\n",
    "            \n",
    "            diff = neighbor_item - x\n",
    "            gap = rng.uniform(0, 1)\n",
    "            new_item = x + gap * diff\n",
    "            \n",
    "            new_samples = pd.concat([new_samples, pd.DataFrame(new_item.reshape(1, -1), columns=column_names)])\n",
    "        \n",
    "    return new_samples\n",
    "\n",
    "\n",
    "y = df['label']\n",
    "\n",
    "X_train, X_test, y_train, y_test = train_test_split(X, y, test_size=0.2, random_state=0)\n",
    "\n",
    "print(f\"Benign cases in train set: {len(y_train[y_train == 0])}\")\n",
    "print(f\"Benign cases in test set: {len(y_test[y_test == 0])}\")\n",
    "print(f\"Fraudulent cases in train set: {len(y_train[y_train == 1])}\")\n",
    "print(f\"Fraudulent cases in test set: {len(y_test[y_test == 1])}\")\n",
    "\n",
    "X_train_fraud = X_train.loc[y_train == 1]\n",
    "\n",
    "print(f\"Starting SMOTE run for {len(X_train_fraud)} samples\")\n",
    "start = time.time()\n",
    "X_fraud_smote = smote(X_train_fraud.copy(), N=20000, random_state=0)\n",
    "smote_time = time.time() - start\n",
    "\n",
    "print(f\"SMOTE ran for {smote_time} seconds and generated {len(X_fraud_smote)} synthetic samples\")\n",
    "\n",
    "X_train = pd.concat([X_train, X_fraud_smote])\n",
    "y_train = pd.concat([\n",
    "    y_train,\n",
    "    pd.Series(1, index=range(len(X_fraud_smote)))\n",
    "])\n",
    "\n",
    "X_train, y_train = shuffle(X_train, y_train, random_state=0)\n",
    "\n",
    "print(f\"Benign cases in train set after SMOTE: {len(y_train[y_train == 0])}\")\n",
    "print(f\"Fraudulent cases in train set after SMOTE: {len(y_train[y_train == 1])}\")\n",
    "\n",
    "X_fraud_smote.head()"
   ]
  },
  {
   "cell_type": "markdown",
   "id": "168ddd37-46c3-4578-ab91-f24144c9b1b1",
   "metadata": {},
   "source": [
    "# Applying machine learning to synthetic data"
   ]
  },
  {
   "cell_type": "markdown",
   "id": "05c0039f-9bd9-423e-862e-717114187325",
   "metadata": {
    "tags": []
   },
   "source": [
    "## Logistic regression\n",
    "\n",
    "We create the logistic regression classifier with the same configuration as before and use the SMOTEd data set to train it.\n",
    "\n",
    "Unlike previously, this time the classifier managed to correctly detect over 50% of the fraudulent transactions (recall of 53%).\n",
    "However, its precision of 3% is very low and 1369 benign transactions were incorrectly classified as fraudulent.\n"
   ]
  },
  {
   "cell_type": "code",
   "execution_count": 21,
   "id": "4183f356-c95e-4509-816a-90ad5caf41bc",
   "metadata": {},
   "outputs": [
    {
     "name": "stdout",
     "output_type": "stream",
     "text": [
      "              precision    recall  f1-score   support\n",
      "\n",
      "           0       1.00      0.96      0.98     37867\n",
      "           1       0.02      0.53      0.04        59\n",
      "\n",
      "    accuracy                           0.96     37926\n",
      "   macro avg       0.51      0.74      0.51     37926\n",
      "weighted avg       1.00      0.96      0.98     37926\n",
      "\n",
      "Accuracy: 96.31651110056426\n"
     ]
    },
    {
     "data": {
      "image/png": "[encoded data removed]",
      "text/plain": [
       "<Figure size 432x288 with 2 Axes>"
      ]
     },
     "metadata": {
      "needs_background": "light"
     },
     "output_type": "display_data"
    }
   ],
   "source": [
    "logreg_classifier = LogisticRegression(random_state=0, n_jobs=-1)\n",
    "logreg_classifier.fit(X_train, y_train)\n",
    "\n",
    "y_predictions = logreg_classifier.predict(X_test)\n",
    "y_predictions_proba = logreg_classifier.predict_proba(X_test)[:, 1]\n",
    "\n",
    "print(classification_report(y_test, y_predictions))\n",
    "print(f\"Accuracy: {accuracy_score(y_test, y_predictions) * 100}\")\n",
    "\n",
    "y_score = logreg_classifier.decision_function(X_test)\n",
    "\n",
    "logreg_fpr, logreg_tpr, _ = roc_curve(y_test, y_predictions_proba)\n",
    "logreg_roc_auc = auc(logreg_fpr, logreg_tpr)\n",
    "\n",
    "ConfusionMatrixDisplay.from_predictions(y_test, y_predictions)\n",
    "plt.show()"
   ]
  },
  {
   "cell_type": "markdown",
   "id": "ba40c903-5de6-4ce5-914d-4eef759af796",
   "metadata": {},
   "source": [
    "## Random forest\n",
    "\n",
    "The random forest classifier was created and configured like previously, with unrestricted maximum depth of the individual tree.\n",
    "\n",
    "The classifier managed to correctly detect only 13 out of 59 fraudulent transactions (recall of 22%).\n",
    "This means that its sensitivity is much smaller than the one of logistic regression.\n",
    "However, it is also much more precise (precision of 15%), which resulted in significantly smaller amount of benign transactions being marked as fraudulent (false positives)"
   ]
  },
  {
   "cell_type": "code",
   "execution_count": 22,
   "id": "08e5cfa3-361e-4f8e-bad0-fe9139ede69b",
   "metadata": {
    "tags": []
   },
   "outputs": [
    {
     "name": "stdout",
     "output_type": "stream",
     "text": [
      "              precision    recall  f1-score   support\n",
      "\n",
      "           0       1.00      1.00      1.00     37867\n",
      "           1       0.20      0.17      0.18        59\n",
      "\n",
      "    accuracy                           1.00     37926\n",
      "   macro avg       0.60      0.58      0.59     37926\n",
      "weighted avg       1.00      1.00      1.00     37926\n",
      "\n",
      "Accuracy: 99.76269577598481\n"
     ]
    },
    {
     "data": {
      "image/png": "[encoded data removed]",
      "text/plain": [
       "<Figure size 432x288 with 2 Axes>"
      ]
     },
     "metadata": {
      "needs_background": "light"
     },
     "output_type": "display_data"
    }
   ],
   "source": [
    "forest_classifier = RandomForestClassifier(random_state=0, n_jobs=-1)\n",
    "forest_classifier.fit(X_train, y_train)\n",
    "\n",
    "y_predictions = forest_classifier.predict(X_test)\n",
    "y_predictions_proba = forest_classifier.predict_proba(X_test)[:, 1]\n",
    "\n",
    "print(classification_report(y_test, y_predictions))\n",
    "print(f\"Accuracy: {accuracy_score(y_test, y_predictions) * 100}\")\n",
    "\n",
    "forest_fpr, forest_tpr, _ = roc_curve(y_test, y_predictions_proba)\n",
    "forest_roc_auc = auc(forest_fpr, forest_tpr)\n",
    "\n",
    "ConfusionMatrixDisplay.from_predictions(y_test, y_predictions)\n",
    "plt.show()"
   ]
  },
  {
   "cell_type": "markdown",
   "id": "8b2199b7-088a-45c5-a3b1-e7cfdb86086f",
   "metadata": {
    "tags": []
   },
   "source": [
    "## Decision tree\n",
    "\n",
    "The decision tree classifier was configured to have the maximum depth of a tree set to 5.\n",
    "\n",
    "It managed to detect much more fraudulent transactions than logistic regression and random forest - 45 out of 59 (recall of 76%).\n",
    "However, it also has the lowest precision (1%) is the lowest and resulted in the highest amount of false positives. "
   ]
  },
  {
   "cell_type": "code",
   "execution_count": 23,
   "id": "04e9106b-5fd9-41f5-9322-1a774ba8918e",
   "metadata": {},
   "outputs": [
    {
     "name": "stdout",
     "output_type": "stream",
     "text": [
      "              precision    recall  f1-score   support\n",
      "\n",
      "           0       1.00      0.94      0.97     37867\n",
      "           1       0.02      0.69      0.04        59\n",
      "\n",
      "    accuracy                           0.94     37926\n",
      "   macro avg       0.51      0.82      0.50     37926\n",
      "weighted avg       1.00      0.94      0.97     37926\n",
      "\n",
      "Accuracy: 94.09903496282233\n"
     ]
    },
    {
     "data": {
      "image/png": "[encoded data removed]",
      "text/plain": [
       "<Figure size 432x288 with 2 Axes>"
      ]
     },
     "metadata": {
      "needs_background": "light"
     },
     "output_type": "display_data"
    }
   ],
   "source": [
    "dtree_classifier = DecisionTreeClassifier(max_depth=5, random_state=0)\n",
    "dtree_classifier.fit(X_train, y_train)\n",
    "\n",
    "y_predictions = dtree_classifier.predict(X_test)\n",
    "y_predictions_prob = dtree_classifier.predict_proba(X_test)[:, 1]\n",
    "\n",
    "print(classification_report(y_test, y_predictions))\n",
    "print(f\"Accuracy: {accuracy_score(y_test, y_predictions) * 100}\")\n",
    "\n",
    "dtree_fpr, dtree_tpr, _ = roc_curve(y_test, y_predictions_prob)\n",
    "dtree_roc_auc = auc(dtree_fpr, dtree_tpr)\n",
    "\n",
    "ConfusionMatrixDisplay.from_predictions(y_test, y_predictions)\n",
    "plt.show()"
   ]
  },
  {
   "cell_type": "markdown",
   "id": "827adbc4-e973-4d41-92e1-7a81efc11963",
   "metadata": {
    "tags": []
   },
   "source": [
    "## Comparison\n",
    "\n",
    "When performing fraud detection, because the fraud samples represent the \"positive\" ones, we aim for high TPR, while also maintaining a low FPR.\n",
    "Since the ROC curve plots the relationship between TPR and FPR, a diagonal ROC curve would mean that TPR increases at the same time as FPR, and consequently a poor performance of the classifier, as was seen in the case of the base dataset.\n",
    "The AUC is also a useful metric for determining the performance of the classifier. The bigger the AUC, the better the classifier can set a decision threshold with a high TPR and a low FPR.\n",
    "Since we have achieved a higher AUC after applying SMOTE to the dataset, we can affirm that SMOTE has increased the performance of the classifier, resulting in more correctly classified fraud samples."
   ]
  },
  {
   "cell_type": "code",
   "execution_count": 24,
   "id": "68a37938-c388-4253-9116-2dc53e4fc12f",
   "metadata": {},
   "outputs": [
    {
     "data": {
      "image/png": "[encoded data removed]",
      "text/plain": [
       "<Figure size 432x288 with 1 Axes>"
      ]
     },
     "metadata": {
      "needs_background": "light"
     },
     "output_type": "display_data"
    }
   ],
   "source": [
    "plt.figure(0).clf()\n",
    "plt.plot(logreg_fpr, logreg_tpr, label=f\"Logistic regression (AUC = {logreg_roc_auc})\")\n",
    "plt.plot(dtree_fpr, dtree_tpr, label=f\"Decision tree (AUC = {dtree_roc_auc})\")\n",
    "plt.plot(forest_fpr, forest_tpr, label=f\"Random forest (AUC = {forest_roc_auc})\")\n",
    "plt.legend()\n",
    "plt.show()"
   ]
  },
  {
   "cell_type": "markdown",
   "id": "48df5b94-8713-4d9f-9aa5-7d33c985e939",
   "metadata": {},
   "source": [
    "## Conclusions"
   ]
  },
  {
   "cell_type": "markdown",
   "id": "c11d20da-50c3-41e7-be5a-cfb2f3b7cffd",
   "metadata": {
    "tags": []
   },
   "source": [
    "Although all of the used machine learning methods performed poorly when used with the original data set, using SMOTE to generate synthetic instances of the minority class resulted in increased sensitivity (recall) of the classifiers when detecting frauds.\n",
    "This means that the classifiers were able to correctly classify \n",
    "\n",
    "However, it also led to drastic increase of false positive count, where benign transactions are classified as fraudulent.\n",
    "This is not beneficial from the business point of view - if the classifiers trained above were to be used in the production system, for each blocked fraudulent transaction, few dozen of benign ones would end up blocked as well and would require manual intervention (and potentially explaination to the customer on why their transaction was blocked).\n",
    "\n",
    "From this point of view, the random forest classifier seems to be the most suitable for the production use. \n",
    "Its sensitivity is lower than the sensitivity of logistic regression and decision tree classifiers, which means that it detects less actual fraud transactions.\n",
    "However, the relatively high precision makes it feasible for the human experts to look into the detected frauds and determine which ones were indeed fraudulent.\n",
    "\n",
    "Although the presented results are far from ideal, it is clear that SMOTE increased the overall preformance of all the tested classifiers and therefore presents a good starting point for dealing with imbalanced data.\n",
    "However, the original SMOTE implementation synthesizes data, which might be potentially close to the benign individuals in the feature hyperspace.\n",
    "It might be necessary to apply some extra cleaning procedure to the synthesized individuals, for example by using Tomek links."
   ]
  },
  {
   "cell_type": "markdown",
   "id": "d6084462",
   "metadata": {},
   "source": [
    "# Enhancing privacy with rank-swap\n",
    "\n",
    "_Author: Ion Babalau_\n",
    "\n",
    "Privacy is often desired when working with datasets which contain sensitive information about real people.\n",
    "\n",
    "Rank swap is an algorithm which aims to enhance the privacy of a dataset. It operates by assigning each value from a column a different value from the same column, from a configurable range *p*. So when p = 0.1, the algorithm can swap only the closes 10% of values, but when p = 1, the algorithm can swap values from the whole array.\n",
    "\n",
    "\n"
   ]
  },
  {
   "cell_type": "markdown",
   "id": "495aa23b",
   "metadata": {},
   "source": [
    "## The algorithm"
   ]
  },
  {
   "cell_type": "code",
   "execution_count": 25,
   "id": "970a8811",
   "metadata": {},
   "outputs": [
    {
     "name": "stdout",
     "output_type": "stream",
     "text": [
      "        issuercountrycode  txvariantcode       bin   amount  currencycode  \\\n",
      "185969                 49              8  462239.0  11050.0             0   \n",
      "185602                  7              8  465943.0   9320.0             1   \n",
      "176445                 51              8  475129.0  10500.0             1   \n",
      "172649                  8              8  475128.0   3395.0             1   \n",
      "10685                  86              2  546097.0   6895.0             1   \n",
      "\n",
      "        shoppercountrycode  shopperinteraction  cardverificationcodesupplied  \\\n",
      "185969                   7                   1                             1   \n",
      "185602                  93                   1                             1   \n",
      "176445                  89                   1                             1   \n",
      "172649                  61                   1                             1   \n",
      "10685                   95                   1                             1   \n",
      "\n",
      "        cvcresponsecode  accountcode  mail_id  ip_id  card_id  amount_eur  \\\n",
      "185969                0            0   112273  92294    73334   69.448809   \n",
      "185602                1            3   107454  16005     2379  108.060477   \n",
      "176445                1            3    92015  50076   113767  121.741953   \n",
      "172649                1            3   148388   1194   163620   39.363232   \n",
      "10685                 1            3    71526  52498    97795   79.943883   \n",
      "\n",
      "       countries_equal  \n",
      "185969               1  \n",
      "185602               1  \n",
      "176445               1  \n",
      "172649               1  \n",
      "10685                1  \n"
     ]
    }
   ],
   "source": [
    "def rank_swap(df: pd.DataFrame, columns: list[str], p: float):\n",
    "    for column in columns:\n",
    "        # sorted list for swapping\n",
    "        sorted_list = np.sort(df[column].unique())\n",
    "        sorted_len = len(sorted_list)\n",
    "        swap_range = math.ceil(sorted_len * p)\n",
    "        with np.nditer(df[column], op_flags=['readwrite']) as it:\n",
    "            for val in it:\n",
    "                # get index in sorted array\n",
    "                ind = np.where(sorted_list == val)[0][0]\n",
    "                # compute new index based on p value\n",
    "                new_index = random.randrange(0 if swap_range > ind else ind - swap_range,\n",
    "                                            sorted_len if ind + swap_range > sorted_len else ind + swap_range)\n",
    "                val[...] = sorted_list[new_index]\n",
    "    return df\n",
    "\n",
    "# rank swap selected columns with p=0.5\n",
    "X_rank_train = rank_swap(X_original_train, ['issuercountrycode', 'shoppercountrycode', 'card_id', 'mail_id', 'ip_id'], 0.5)\n",
    "print(X_rank_train.head())"
   ]
  },
  {
   "cell_type": "markdown",
   "id": "bf901999-0d93-4b91-b4df-17a0ee671428",
   "metadata": {
    "pycharm": {
     "name": "#%% md\n"
    }
   },
   "source": [
    "## Logistic regression"
   ]
  },
  {
   "cell_type": "code",
   "execution_count": 26,
   "id": "610ae514-38d7-4c65-ad66-3ab2550570e1",
   "metadata": {
    "collapsed": false,
    "jupyter": {
     "outputs_hidden": false
    },
    "pycharm": {
     "name": "#%%\n"
    }
   },
   "outputs": [
    {
     "name": "stderr",
     "output_type": "stream",
     "text": [
      "/home/ion/uni/q4/cda/cs4035-cda/jupyter/.venv/lib/python3.10/site-packages/sklearn/metrics/_classification.py:1318: UndefinedMetricWarning:\n",
      "\n",
      "Precision and F-score are ill-defined and being set to 0.0 in labels with no predicted samples. Use `zero_division` parameter to control this behavior.\n",
      "\n",
      "/home/ion/uni/q4/cda/cs4035-cda/jupyter/.venv/lib/python3.10/site-packages/sklearn/metrics/_classification.py:1318: UndefinedMetricWarning:\n",
      "\n",
      "Precision and F-score are ill-defined and being set to 0.0 in labels with no predicted samples. Use `zero_division` parameter to control this behavior.\n",
      "\n",
      "/home/ion/uni/q4/cda/cs4035-cda/jupyter/.venv/lib/python3.10/site-packages/sklearn/metrics/_classification.py:1318: UndefinedMetricWarning:\n",
      "\n",
      "Precision and F-score are ill-defined and being set to 0.0 in labels with no predicted samples. Use `zero_division` parameter to control this behavior.\n",
      "\n"
     ]
    },
    {
     "name": "stdout",
     "output_type": "stream",
     "text": [
      "              precision    recall  f1-score   support\n",
      "\n",
      "           0       1.00      1.00      1.00     37867\n",
      "           1       0.00      0.00      0.00        59\n",
      "\n",
      "    accuracy                           1.00     37926\n",
      "   macro avg       0.50      0.50      0.50     37926\n",
      "weighted avg       1.00      1.00      1.00     37926\n",
      "\n",
      "Accuracy: 99.84443389759005\n"
     ]
    },
    {
     "data": {
      "image/png": "[encoded data removed]",
      "text/plain": [
       "<Figure size 432x288 with 2 Axes>"
      ]
     },
     "metadata": {
      "needs_background": "light"
     },
     "output_type": "display_data"
    }
   ],
   "source": [
    "logreg_classifier = LogisticRegression(random_state=0, n_jobs=-1)\n",
    "logreg_classifier.fit(X_rank_train, y_original_train)\n",
    "\n",
    "y_predictions = logreg_classifier.predict(X_original_test)\n",
    "y_predictions_proba = logreg_classifier.predict_proba(X_test)[:, 1]\n",
    "\n",
    "print(classification_report(y_original_test, y_predictions))\n",
    "print(f\"Accuracy: {accuracy_score(y_original_test, y_predictions) * 100}\")\n",
    "\n",
    "logreg_fpr, logreg_tpr, _ = roc_curve(y_test, y_predictions_proba)\n",
    "logreg_roc_auc = auc(logreg_fpr, logreg_tpr)\n",
    "\n",
    "ConfusionMatrixDisplay.from_predictions(y_original_test, y_predictions)\n",
    "plt.show()"
   ]
  },
  {
   "cell_type": "markdown",
   "id": "28f3d66c-cf89-493f-a9f7-5733f7f05eb0",
   "metadata": {
    "pycharm": {
     "name": "#%% md\n"
    },
    "tags": []
   },
   "source": [
    "## Random forest"
   ]
  },
  {
   "cell_type": "code",
   "execution_count": 27,
   "id": "1781323f-0506-4888-992c-440f2a657f2a",
   "metadata": {
    "pycharm": {
     "name": "#%%\n"
    },
    "tags": []
   },
   "outputs": [
    {
     "name": "stderr",
     "output_type": "stream",
     "text": [
      "/home/ion/uni/q4/cda/cs4035-cda/jupyter/.venv/lib/python3.10/site-packages/sklearn/metrics/_classification.py:1318: UndefinedMetricWarning:\n",
      "\n",
      "Precision and F-score are ill-defined and being set to 0.0 in labels with no predicted samples. Use `zero_division` parameter to control this behavior.\n",
      "\n",
      "/home/ion/uni/q4/cda/cs4035-cda/jupyter/.venv/lib/python3.10/site-packages/sklearn/metrics/_classification.py:1318: UndefinedMetricWarning:\n",
      "\n",
      "Precision and F-score are ill-defined and being set to 0.0 in labels with no predicted samples. Use `zero_division` parameter to control this behavior.\n",
      "\n",
      "/home/ion/uni/q4/cda/cs4035-cda/jupyter/.venv/lib/python3.10/site-packages/sklearn/metrics/_classification.py:1318: UndefinedMetricWarning:\n",
      "\n",
      "Precision and F-score are ill-defined and being set to 0.0 in labels with no predicted samples. Use `zero_division` parameter to control this behavior.\n",
      "\n"
     ]
    },
    {
     "name": "stdout",
     "output_type": "stream",
     "text": [
      "              precision    recall  f1-score   support\n",
      "\n",
      "           0       1.00      1.00      1.00     37867\n",
      "           1       0.00      0.00      0.00        59\n",
      "\n",
      "    accuracy                           1.00     37926\n",
      "   macro avg       0.50      0.50      0.50     37926\n",
      "weighted avg       1.00      1.00      1.00     37926\n",
      "\n",
      "Accuracy: 99.84443389759005\n"
     ]
    },
    {
     "data": {
      "image/png": "[encoded data removed]",
      "text/plain": [
       "<Figure size 432x288 with 2 Axes>"
      ]
     },
     "metadata": {
      "needs_background": "light"
     },
     "output_type": "display_data"
    }
   ],
   "source": [
    "forest_classifier = RandomForestClassifier(random_state=0, n_jobs=-1)\n",
    "forest_classifier.fit(X_rank_train, y_original_train)\n",
    "\n",
    "y_predictions = forest_classifier.predict(X_original_test)\n",
    "y_predictions_proba = forest_classifier.predict_proba(X_test)[:, 1]\n",
    "\n",
    "print(classification_report(y_original_test, y_predictions))\n",
    "print(f\"Accuracy: {accuracy_score(y_original_test, y_predictions) * 100}\")\n",
    "\n",
    "forest_fpr, forest_tpr, _ = roc_curve(y_test, y_predictions_proba)\n",
    "forest_roc_auc = auc(forest_fpr, forest_tpr)\n",
    "\n",
    "ConfusionMatrixDisplay.from_predictions(y_original_test, y_predictions)\n",
    "plt.show()"
   ]
  },
  {
   "cell_type": "markdown",
   "id": "b2eb3247-8564-41bf-a3c2-5195cdde70c5",
   "metadata": {
    "pycharm": {
     "name": "#%% md\n"
    }
   },
   "source": [
    "## Decision tree"
   ]
  },
  {
   "cell_type": "code",
   "execution_count": 28,
   "id": "8f58bf76-95fc-4265-8a03-0b07099be1b0",
   "metadata": {
    "pycharm": {
     "name": "#%%\n"
    },
    "tags": []
   },
   "outputs": [
    {
     "name": "stdout",
     "output_type": "stream",
     "text": [
      "              precision    recall  f1-score   support\n",
      "\n",
      "           0       1.00      1.00      1.00     37867\n",
      "           1       0.00      0.00      0.00        59\n",
      "\n",
      "    accuracy                           1.00     37926\n",
      "   macro avg       0.50      0.50      0.50     37926\n",
      "weighted avg       1.00      1.00      1.00     37926\n",
      "\n",
      "Accuracy: 99.84179718398988\n"
     ]
    },
    {
     "data": {
      "image/png": "[encoded data removed]",
      "text/plain": [
       "<Figure size 432x288 with 2 Axes>"
      ]
     },
     "metadata": {
      "needs_background": "light"
     },
     "output_type": "display_data"
    }
   ],
   "source": [
    "dtree_classifier = DecisionTreeClassifier(max_depth=5, random_state=0)\n",
    "dtree_classifier.fit(X_rank_train, y_original_train)\n",
    "\n",
    "y_predictions = dtree_classifier.predict(X_original_test)\n",
    "y_predictions_prob = dtree_classifier.predict_proba(X_test)[:, 1]\n",
    "\n",
    "print(classification_report(y_original_test, y_predictions))\n",
    "print(f\"Accuracy: {accuracy_score(y_original_test, y_predictions) * 100}\")\n",
    "\n",
    "dtree_fpr, dtree_tpr, _ = roc_curve(y_test, y_predictions_prob)\n",
    "dtree_roc_auc = auc(dtree_fpr, dtree_tpr)\n",
    "\n",
    "ConfusionMatrixDisplay.from_predictions(y_original_test, y_predictions)\n",
    "plt.show()"
   ]
  },
  {
   "cell_type": "markdown",
   "id": "2a72c887",
   "metadata": {},
   "source": [
    "### ROC curve for rank-swapped dataset"
   ]
  },
  {
   "cell_type": "code",
   "execution_count": 29,
   "id": "a735b718",
   "metadata": {},
   "outputs": [
    {
     "data": {
      "image/png": "[encoded data removed]",
      "text/plain": [
       "<Figure size 432x288 with 1 Axes>"
      ]
     },
     "metadata": {
      "needs_background": "light"
     },
     "output_type": "display_data"
    }
   ],
   "source": [
    "plt.figure(0).clf()\n",
    "plt.plot(logreg_fpr, logreg_tpr, label=f\"Logistic regression (AUC = {logreg_roc_auc})\")\n",
    "plt.plot(dtree_fpr, dtree_tpr, label=f\"Decision tree (AUC = {dtree_roc_auc})\")\n",
    "plt.plot(forest_fpr, forest_tpr, label=f\"Random forest (AUC = {forest_roc_auc})\")\n",
    "plt.legend()\n",
    "plt.show()"
   ]
  },
  {
   "cell_type": "markdown",
   "id": "683cd20c",
   "metadata": {},
   "source": [
    "## Discussion\n",
    "\n",
    "After pre-processing the dataset and splitting it into train and test subsets, rank swapping has been applied on the training one. We applied rank swapping only on the columns we deemed the most important in terms of privacy, namely: 'issuercountrycode', 'shoppercountrycode', 'card_id', 'mail_id' and 'ip_id'. \n",
    "We then train the same three classifiers - Logistic Regression, Decision Trees and Random forest, and compare their performance to the one achieved by the original dataset. \n",
    "\n",
    "As can be seen from plot, the ROC curves remained approximately the same for all the classifiers, with only a minor decrease in AUC. If we look at the confusion matrices, we see that none of the positive entries (fraudulent ones) were classified correctly, similar to the original dataset.\n",
    "\n",
    "## Conclusion\n",
    "\n",
    "In conclusion rank swapping did not majorly impact the performance of the classifiers, thus this algorithm should be applied to protect people's privacy."
   ]
  },
  {
   "cell_type": "markdown",
   "id": "44252700-be1d-4520-9650-c16e2e497953",
   "metadata": {},
   "source": [
    "# Classification"
   ]
  },
  {
   "cell_type": "markdown",
   "id": "47f2ab0c-86bd-49c1-a3ba-d98bdeca4817",
   "metadata": {},
   "source": [
    "## Oversampling with SMOTE and Tomek links\n",
    "\n",
    "In this case we synthesize the new individuals using SMOTE implementation from the `imblearn` library, combined with the Tomek's links as a cleaning method.\n",
    "It allows to remove the syntheized fraudulent individuals, which lay too close to the real benign ones in the feature hyperspace."
   ]
  },
  {
   "cell_type": "code",
   "execution_count": 30,
   "id": "08eba2f5-fde0-4f00-9e69-ffe79967fee4",
   "metadata": {},
   "outputs": [
    {
     "name": "stdout",
     "output_type": "stream",
     "text": [
      "Benign cases in train set: 151485\n",
      "Benign cases in test set: 37867\n",
      "Fraudulent cases in train set: 217\n",
      "Fraudulent cases in test set: 59\n",
      "Benign cases in train set after SMOTE: 151485\n",
      "Fraudulent cases in train set after SMOTE: 151484\n"
     ]
    }
   ],
   "source": [
    "X_train, X_test, y_train, y_test = train_test_split(X, y, test_size=0.20, random_state=0)\n",
    "\n",
    "print(f\"Benign cases in train set: {len(y_train[y_train == 0])}\")\n",
    "print(f\"Benign cases in test set: {len(y_test[y_test == 0])}\")\n",
    "print(f\"Fraudulent cases in train set: {len(y_train[y_train == 1])}\")\n",
    "print(f\"Fraudulent cases in test set: {len(y_test[y_test == 1])}\")\n",
    "\n",
    "smote = SMOTE(sampling_strategy='minority', random_state=0)\n",
    "tomek = TomekLinks(n_jobs=-1)\n",
    "\n",
    "smote_tomek = SMOTETomek(smote=smote, tomek=tomek, random_state=0, n_jobs=-1)\n",
    "\n",
    "X_train, y_train = smote_tomek.fit_resample(X_train, y_train)\n",
    "\n",
    "print(f\"Benign cases in train set after SMOTE: {len(y_train[y_train == 0])}\")\n",
    "print(f\"Fraudulent cases in train set after SMOTE: {len(y_train[y_train == 1])}\")"
   ]
  },
  {
   "cell_type": "markdown",
   "id": "42b7ba13-6500-4fb8-8d0e-2cc85b900b07",
   "metadata": {},
   "source": [
    "## K-fold cross validation\n",
    "\n",
    "Additionally, a 10-fold cross validation will be used for the following two classifiers in order to determine the optimal parameters."
   ]
  },
  {
   "cell_type": "code",
   "execution_count": 31,
   "id": "4fcb98a7-8312-45a2-8883-267333577a4d",
   "metadata": {
    "tags": []
   },
   "outputs": [],
   "source": [
    "def k_fold_validation(X, y, model, scoring='precision', fold_count=10):\n",
    "    cv = KFold(n_splits=fold_count, random_state=0, shuffle=True)\n",
    "    scores = cross_validate(model, X, y, scoring=scoring, return_estimator=True, cv=cv, n_jobs=-1)\n",
    "    max_score_index = np.argmax(scores['test_score'])\n",
    "    \n",
    "    return scores['estimator'][max_score_index]"
   ]
  },
  {
   "cell_type": "markdown",
   "id": "e8af2e0a-64f8-4e33-8b2b-efc112f02d1b",
   "metadata": {
    "tags": []
   },
   "source": [
    "## Whitebox classifier - decision tree\n",
    "\n",
    "The decision tree classifier was chosen as a whitebox, since the final tree can be easily visualized.\n",
    "What's more, it is possible to follow the paths in a tree to determine the decisions, made by the classifier when classifying each individual.\n",
    "\n",
    "The maximum depth of a tree was set to 2 (`max_depth=2`).\n",
    "This will have a negative impact on the classifier's precision, but will also make the tree much more readable.\n",
    "\n",
    "As expected, although the sensitivity of the decision tree is high and reaches 80%, the precision is very low - almost 10% of the benign transactions were classified as fraudulent."
   ]
  },
  {
   "cell_type": "code",
   "execution_count": 32,
   "id": "5a1fe239-0023-48db-9925-798981fcdbae",
   "metadata": {
    "tags": []
   },
   "outputs": [
    {
     "name": "stdout",
     "output_type": "stream",
     "text": [
      "              precision    recall  f1-score   support\n",
      "\n",
      "           0       1.00      0.91      0.95     37867\n",
      "           1       0.01      0.80      0.03        59\n",
      "\n",
      "    accuracy                           0.91     37926\n",
      "   macro avg       0.51      0.85      0.49     37926\n",
      "weighted avg       1.00      0.91      0.95     37926\n",
      "\n",
      "Accuracy: 91.10372831303064\n"
     ]
    },
    {
     "data": {
      "image/png": "[encoded data removed]",
      "text/plain": [
       "<Figure size 432x288 with 2 Axes>"
      ]
     },
     "metadata": {
      "needs_background": "light"
     },
     "output_type": "display_data"
    }
   ],
   "source": [
    "dtree_classifier = DecisionTreeClassifier(max_depth=2, random_state=0)\n",
    "dtree_classifier = k_fold_validation(X_train, y_train, dtree_classifier)\n",
    "\n",
    "y_predictions = dtree_classifier.predict(X_test)\n",
    "y_predictions_proba = dtree_classifier.predict_proba(X_test)[:, 1]\n",
    "\n",
    "print(classification_report(y_test, y_predictions))\n",
    "print(f\"Accuracy: {accuracy_score(y_test, y_predictions) * 100}\")\n",
    "\n",
    "dtree_fpr, dtree_tpr, _ = roc_curve(y_test, y_predictions_proba)\n",
    "dtree_roc_auc = auc(dtree_fpr, dtree_tpr)\n",
    "\n",
    "ConfusionMatrixDisplay.from_predictions(y_test, y_predictions)\n",
    "plt.show()"
   ]
  },
  {
   "cell_type": "markdown",
   "id": "c90d0e1d-5224-4a69-93f1-1c203795b3f9",
   "metadata": {},
   "source": [
    "### Explaining the whitebox classifier\n",
    "\n",
    "From looking at the tree we can determine that it performs step by step filtering of the data based on different features.\n",
    "Looking at one of the transactions that was classified as fraud, we can determine the decision path in the tree and thus determine how it ended up being detected.\n",
    "\n",
    "First, the tree checks if the result validation of the CVC code was smaller than 0.5.\n",
    "Since this column has only the integer values between 0 and 6, we are looking at transactions with CVC code of 0 (unknown).\n",
    "Our transaction under analysis has the CVC code of 1, so we to the left node from the root.\n",
    "The next node checks if the transaction amount is smaller than approximately 128.50 EUR.\n",
    "Since the transaction we are checking has amount of 386.14 EUR, the statement is false and we follow to the right node.\n",
    "This node is a leaf with a fraud class label, so the classifier ends up marking the transaction as fraudulent."
   ]
  },
  {
   "cell_type": "code",
   "execution_count": 33,
   "id": "c045f8a4-47a8-4362-97cd-39a811605315",
   "metadata": {},
   "outputs": [
    {
     "data": {
      "image/png": "[encoded data removed]",
      "text/plain": [
       "<Figure size 1440x576 with 1 Axes>"
      ]
     },
     "metadata": {
      "needs_background": "light"
     },
     "output_type": "display_data"
    },
    {
     "name": "stdout",
     "output_type": "stream",
     "text": [
      "Example transaction, classified as fraud:\n",
      "issuercountrycode                       49\n",
      "txvariantcode                            3\n",
      "bin                               532916.0\n",
      "amount                             38614.0\n",
      "currencycode                             1\n",
      "shoppercountrycode                      49\n",
      "shopperinteraction                       1\n",
      "cardverificationcodesupplied             0\n",
      "cvcresponsecode                          1\n",
      "accountcode                              3\n",
      "mail_id                              36936\n",
      "ip_id                                14117\n",
      "card_id                             106840\n",
      "amount_eur                      447.708932\n",
      "countries_equal                          1\n",
      "predicted_label                          0\n",
      "Name: 71148, dtype: object\n"
     ]
    }
   ],
   "source": [
    "plt.figure(figsize=(20, 8))\n",
    "plot_tree(dtree_classifier, feature_names=X_train.columns, class_names=['Benign', 'Fraud'], impurity=False)\n",
    "plt.show()\n",
    "\n",
    "X_test_withpredictions = X_test.copy()\n",
    "X_test_withpredictions['predicted_label'] = y_predictions\n",
    "X_test_withpredictions.query('predicted_label==1')\n",
    "predicted_fraud = X_test_withpredictions.iloc[0]\n",
    "\n",
    "print(\"Example transaction, classified as fraud:\")\n",
    "print(predicted_fraud)"
   ]
  },
  {
   "cell_type": "markdown",
   "id": "3d3fb94b-fd5f-4e63-ad09-426c506b6a73",
   "metadata": {
    "tags": []
   },
   "source": [
    "## Blackbox classifier - AdaBoost\n",
    "\n",
    "The AdaBoost meta-estimator, wrapping the random forest classifier is used as a blackbox model.\n",
    "The boosting is terminated after training 20 random forests (`n_estimators=20` of the `AdaBoostClassifier`) and each of the forests trains 10 decision trees without depth limitation.\n",
    "\n",
    "The ensemble classifier managed to reach the highest precision out of all the tested classifiers, while still maintaining relatively high recall."
   ]
  },
  {
   "cell_type": "code",
   "execution_count": 34,
   "id": "cf6a7e27-b36a-405e-b0dc-6599e9bcb428",
   "metadata": {},
   "outputs": [
    {
     "name": "stdout",
     "output_type": "stream",
     "text": [
      "              precision    recall  f1-score   support\n",
      "\n",
      "           0       1.00      1.00      1.00     37867\n",
      "           1       0.21      0.17      0.19        59\n",
      "\n",
      "    accuracy                           1.00     37926\n",
      "   macro avg       0.61      0.58      0.59     37926\n",
      "weighted avg       1.00      1.00      1.00     37926\n",
      "\n",
      "Accuracy: 99.77324263038548\n"
     ]
    },
    {
     "data": {
      "image/png": "[encoded data removed]",
      "text/plain": [
       "<Figure size 432x288 with 2 Axes>"
      ]
     },
     "metadata": {
      "needs_background": "light"
     },
     "output_type": "display_data"
    }
   ],
   "source": [
    "forest_classifier = RandomForestClassifier(random_state=0, n_jobs=-1, n_estimators=10)\n",
    "\n",
    "adaboost_classifier = AdaBoostClassifier(base_estimator=forest_classifier, random_state=0, n_estimators=20)\n",
    "adaboost_classifier = k_fold_validation(X_train, y_train, adaboost_classifier)\n",
    "\n",
    "y_predictions = adaboost_classifier.predict(X_test)\n",
    "y_predictions_proba = adaboost_classifier.predict_proba(X_test)[:, 1]\n",
    "\n",
    "print(classification_report(y_test, y_predictions))\n",
    "print(f\"Accuracy: {accuracy_score(y_test, y_predictions) * 100}\")\n",
    "\n",
    "adaboost_fpr, adaboost_tpr, _ = roc_curve(y_test, y_predictions_proba)\n",
    "adaboost_roc_auc = auc(adaboost_fpr, adaboost_tpr)\n",
    "\n",
    "ConfusionMatrixDisplay.from_predictions(y_test, y_predictions)\n",
    "plt.show()"
   ]
  },
  {
   "cell_type": "markdown",
   "id": "eb4ea055-5247-416d-b051-217d20b5a37b",
   "metadata": {
    "tags": []
   },
   "source": [
    "## Comparison\n",
    "\n",
    "When comparing the two classifiers, we can see that although decision trees have a higher TPR, they also have more false positives.\n",
    "AdaBoost has less false positives, but also less true positives. \n",
    "This leads to similar AUC values, as can be seen in the figure below.\n",
    "Thus, we cannot affirm which classifier performs better based only on the ROC/AUC.\n",
    "\n",
    "However, looking at the classifier statistics, we can see that the boosted random forest classifier is much more feasible to be used in practice due to its relatively high precision.\n",
    "This means that the amount of false positives is low enough to be feasible for checking manually by the human experts."
   ]
  },
  {
   "cell_type": "code",
   "execution_count": 35,
   "id": "82a719b6-cee3-478a-90c4-f48fb5fd77b8",
   "metadata": {
    "tags": []
   },
   "outputs": [
    {
     "data": {
      "image/png": "[encoded data removed]",
      "text/plain": [
       "<Figure size 432x288 with 1 Axes>"
      ]
     },
     "metadata": {
      "needs_background": "light"
     },
     "output_type": "display_data"
    }
   ],
   "source": [
    "plt.figure(0).clf()\n",
    "plt.plot(dtree_fpr, dtree_tpr, label=f\"Decision tree (AUC = {dtree_roc_auc})\")\n",
    "plt.plot(adaboost_fpr, adaboost_tpr, label=f\"AdaBoost (AUC = {adaboost_roc_auc})\")\n",
    "plt.legend()\n",
    "plt.show()"
   ]
  },
  {
   "cell_type": "markdown",
   "id": "8441b9b5-4290-4242-a22b-4eb13536e62d",
   "metadata": {},
   "source": [
    "## Using best classifier for Kaggle competition"
   ]
  },
  {
   "cell_type": "code",
   "execution_count": 36,
   "id": "4cc5b89f-a85f-46c9-86d2-6cb5bc8b6cda",
   "metadata": {
    "tags": []
   },
   "outputs": [],
   "source": [
    "df_kaggle = pd.read_csv(\"data/test_data.csv\")\n",
    "df_kaggle_processed = process_data(df_kaggle)\n",
    "\n",
    "clf = adaboost_classifier\n",
    "\n",
    "y_predictions = clf.predict_proba(df_kaggle_processed)\n",
    "\n",
    "df_submission = pd.DataFrame({'Id': df_kaggle['Id'], 'Predicted': y_predictions[:, 1]})\n",
    "df_submission.to_csv(\"submission.csv\", index=False)"
   ]
  }
 ],
 "metadata": {
  "kernelspec": {
   "display_name": "Python 3 (ipykernel)",
   "language": "python",
   "name": "python3"
  },
  "language_info": {
   "codemirror_mode": {
    "name": "ipython",
    "version": 3
   },
   "file_extension": ".py",
   "mimetype": "text/x-python",
   "name": "python",
   "nbconvert_exporter": "python",
   "pygments_lexer": "ipython3",
   "version": "3.10.4"
  }
 },
 "nbformat": 4,
 "nbformat_minor": 5
}
