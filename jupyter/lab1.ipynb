{
 "cells": [
  {
   "cell_type": "markdown",
   "id": "927a2f79-93b8-4581-b816-11d9669cdd3f",
   "metadata": {},
   "source": [
    "# Cyber Data Analytics - Lab 1\n",
    "\n",
    "* Konrad Ponichtera (5580749)\n",
    "* Ion Babalau ()"
   ]
  },
  {
   "cell_type": "markdown",
   "id": "fbfd5518-8257-4e11-8bee-7f79cd6da088",
   "metadata": {},
   "source": [
    "# Introduction"
   ]
  },
  {
   "cell_type": "markdown",
   "id": "3e45bd39-4d8c-4707-b739-88ab0238dca2",
   "metadata": {},
   "source": [
    "# Exploratory data analysis"
   ]
  },
  {
   "cell_type": "markdown",
   "id": "17968298-3e23-4156-8de0-3e641be25bfc",
   "metadata": {},
   "source": [
    "# Applying machine learning"
   ]
  }
 ],
 "metadata": {
  "kernelspec": {
   "display_name": "Python 3 (ipykernel)",
   "language": "python",
   "name": "python3"
  },
  "language_info": {
   "codemirror_mode": {
    "name": "ipython",
    "version": 3
   },
   "file_extension": ".py",
   "mimetype": "text/x-python",
   "name": "python",
   "nbconvert_exporter": "python",
   "pygments_lexer": "ipython3",
   "version": "3.10.4"
  }
 },
 "nbformat": 4,
 "nbformat_minor": 5
}
