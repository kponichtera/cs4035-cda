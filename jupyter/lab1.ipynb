{
 "cells": [
  {
   "cell_type": "markdown",
   "id": "927a2f79-93b8-4581-b816-11d9669cdd3f",
   "metadata": {},
   "source": [
    "# Cyber Data Analytics - Lab 1\n",
    "\n",
    "* Konrad Ponichtera (5580749)\n",
    "* Ion Babalau ()"
   ]
  },
  {
   "cell_type": "markdown",
   "id": "fbfd5518-8257-4e11-8bee-7f79cd6da088",
   "metadata": {},
   "source": [
    "# Introduction"
   ]
  },
  {
   "cell_type": "markdown",
   "id": "7d47e80d-f3c6-4894-ae17-84d60b5c3574",
   "metadata": {
    "tags": []
   },
   "source": [
    "## Peek into the raw data"
   ]
  },
  {
   "cell_type": "code",
   "execution_count": 37,
   "id": "119e6413-8a8e-453a-8745-7e396794c146",
   "metadata": {},
   "outputs": [],
   "source": [
    "import re\n",
    "import time\n",
    "import random\n",
    "import warnings\n",
    "\n",
    "import numpy as np\n",
    "import pandas as pd\n",
    "import seaborn as sns\n",
    "import matplotlib.pyplot as plt\n",
    "\n",
    "from imblearn.over_sampling import SMOTE\n",
    "from sklearn.preprocessing import LabelEncoder\n",
    "from sklearn.metrics import accuracy_score, classification_report, roc_curve, auc\n",
    "from sklearn.model_selection import train_test_split, KFold, cross_validate\n",
    "from sklearn.neighbors import NearestNeighbors\n",
    "from sklearn.utils import shuffle"
   ]
  },
  {
   "cell_type": "code",
   "execution_count": 2,
   "id": "1a2f74c2-249d-4848-816e-a359a33bdcd2",
   "metadata": {},
   "outputs": [
    {
     "name": "stdout",
     "output_type": "stream",
     "text": [
      "Number of transactions: 189628\n",
      "Number of fradulent transactions: 276\n",
      "Number of valid transactions: 189352\n"
     ]
    },
    {
     "data": {
      "text/html": [
       "<div>\n",
       "<style scoped>\n",
       "    .dataframe tbody tr th:only-of-type {\n",
       "        vertical-align: middle;\n",
       "    }\n",
       "\n",
       "    .dataframe tbody tr th {\n",
       "        vertical-align: top;\n",
       "    }\n",
       "\n",
       "    .dataframe thead th {\n",
       "        text-align: right;\n",
       "    }\n",
       "</style>\n",
       "<table border=\"1\" class=\"dataframe\">\n",
       "  <thead>\n",
       "    <tr style=\"text-align: right;\">\n",
       "      <th></th>\n",
       "      <th>Id</th>\n",
       "      <th>issuercountrycode</th>\n",
       "      <th>txvariantcode</th>\n",
       "      <th>bin</th>\n",
       "      <th>amount</th>\n",
       "      <th>currencycode</th>\n",
       "      <th>shoppercountrycode</th>\n",
       "      <th>shopperinteraction</th>\n",
       "      <th>cardverificationcodesupplied</th>\n",
       "      <th>cvcresponsecode</th>\n",
       "      <th>accountcode</th>\n",
       "      <th>mail_id</th>\n",
       "      <th>ip_id</th>\n",
       "      <th>card_id</th>\n",
       "      <th>label</th>\n",
       "    </tr>\n",
       "  </thead>\n",
       "  <tbody>\n",
       "    <tr>\n",
       "      <th>0</th>\n",
       "      <td>1</td>\n",
       "      <td>GB</td>\n",
       "      <td>mccredit</td>\n",
       "      <td>546097.0</td>\n",
       "      <td>4500.0</td>\n",
       "      <td>GBP</td>\n",
       "      <td>GB</td>\n",
       "      <td>Ecommerce</td>\n",
       "      <td>True</td>\n",
       "      <td>1</td>\n",
       "      <td>UKAccount</td>\n",
       "      <td>email132571</td>\n",
       "      <td>ip123779</td>\n",
       "      <td>card250169</td>\n",
       "      <td>0</td>\n",
       "    </tr>\n",
       "    <tr>\n",
       "      <th>1</th>\n",
       "      <td>2</td>\n",
       "      <td>GB</td>\n",
       "      <td>mcdebit</td>\n",
       "      <td>557349.0</td>\n",
       "      <td>3395.0</td>\n",
       "      <td>GBP</td>\n",
       "      <td>GB</td>\n",
       "      <td>Ecommerce</td>\n",
       "      <td>True</td>\n",
       "      <td>1</td>\n",
       "      <td>UKAccount</td>\n",
       "      <td>email312302</td>\n",
       "      <td>ip298387</td>\n",
       "      <td>card14235</td>\n",
       "      <td>0</td>\n",
       "    </tr>\n",
       "    <tr>\n",
       "      <th>2</th>\n",
       "      <td>3</td>\n",
       "      <td>GB</td>\n",
       "      <td>mccredit</td>\n",
       "      <td>542011.0</td>\n",
       "      <td>3895.0</td>\n",
       "      <td>GBP</td>\n",
       "      <td>GB</td>\n",
       "      <td>Ecommerce</td>\n",
       "      <td>True</td>\n",
       "      <td>1</td>\n",
       "      <td>UKAccount</td>\n",
       "      <td>email255027</td>\n",
       "      <td>ip260053</td>\n",
       "      <td>card31944</td>\n",
       "      <td>0</td>\n",
       "    </tr>\n",
       "    <tr>\n",
       "      <th>3</th>\n",
       "      <td>4</td>\n",
       "      <td>GB</td>\n",
       "      <td>visadebit</td>\n",
       "      <td>465943.0</td>\n",
       "      <td>15345.0</td>\n",
       "      <td>GBP</td>\n",
       "      <td>GB</td>\n",
       "      <td>ContAuth</td>\n",
       "      <td>False</td>\n",
       "      <td>0</td>\n",
       "      <td>UKAccount</td>\n",
       "      <td>email283167</td>\n",
       "      <td>ip54851</td>\n",
       "      <td>card120871</td>\n",
       "      <td>0</td>\n",
       "    </tr>\n",
       "    <tr>\n",
       "      <th>4</th>\n",
       "      <td>6</td>\n",
       "      <td>GB</td>\n",
       "      <td>visadebit</td>\n",
       "      <td>475127.0</td>\n",
       "      <td>5095.0</td>\n",
       "      <td>GBP</td>\n",
       "      <td>GB</td>\n",
       "      <td>Ecommerce</td>\n",
       "      <td>True</td>\n",
       "      <td>1</td>\n",
       "      <td>UKAccount</td>\n",
       "      <td>email325263</td>\n",
       "      <td>ip203929</td>\n",
       "      <td>card208017</td>\n",
       "      <td>0</td>\n",
       "    </tr>\n",
       "  </tbody>\n",
       "</table>\n",
       "</div>"
      ],
      "text/plain": [
       "   Id issuercountrycode txvariantcode       bin   amount currencycode  \\\n",
       "0   1                GB      mccredit  546097.0   4500.0          GBP   \n",
       "1   2                GB       mcdebit  557349.0   3395.0          GBP   \n",
       "2   3                GB      mccredit  542011.0   3895.0          GBP   \n",
       "3   4                GB     visadebit  465943.0  15345.0          GBP   \n",
       "4   6                GB     visadebit  475127.0   5095.0          GBP   \n",
       "\n",
       "  shoppercountrycode shopperinteraction cardverificationcodesupplied  \\\n",
       "0                 GB          Ecommerce                         True   \n",
       "1                 GB          Ecommerce                         True   \n",
       "2                 GB          Ecommerce                         True   \n",
       "3                 GB           ContAuth                        False   \n",
       "4                 GB          Ecommerce                         True   \n",
       "\n",
       "   cvcresponsecode accountcode      mail_id     ip_id     card_id  label  \n",
       "0                1   UKAccount  email132571  ip123779  card250169      0  \n",
       "1                1   UKAccount  email312302  ip298387   card14235      0  \n",
       "2                1   UKAccount  email255027  ip260053   card31944      0  \n",
       "3                0   UKAccount  email283167   ip54851  card120871      0  \n",
       "4                1   UKAccount  email325263  ip203929  card208017      0  "
      ]
     },
     "execution_count": 2,
     "metadata": {},
     "output_type": "execute_result"
    }
   ],
   "source": [
    "df = pd.read_csv(\"data/train_data.csv\")\n",
    "\n",
    "print(f\"Number of transactions: {len(df)}\")\n",
    "print(f\"Number of fradulent transactions: {len(df.loc[df['label'] == 1])}\")\n",
    "print(f\"Number of valid transactions: {len(df.loc[df['label'] == 0])}\")\n",
    "\n",
    "df.head()"
   ]
  },
  {
   "cell_type": "markdown",
   "id": "3144a352-d868-4ffb-a702-3abc78ca2a72",
   "metadata": {},
   "source": [
    "## Data preprocessing"
   ]
  },
  {
   "cell_type": "code",
   "execution_count": 3,
   "id": "b0251383-e082-4046-af82-3799490c514d",
   "metadata": {},
   "outputs": [
    {
     "data": {
      "text/html": [
       "<div>\n",
       "<style scoped>\n",
       "    .dataframe tbody tr th:only-of-type {\n",
       "        vertical-align: middle;\n",
       "    }\n",
       "\n",
       "    .dataframe tbody tr th {\n",
       "        vertical-align: top;\n",
       "    }\n",
       "\n",
       "    .dataframe thead th {\n",
       "        text-align: right;\n",
       "    }\n",
       "</style>\n",
       "<table border=\"1\" class=\"dataframe\">\n",
       "  <thead>\n",
       "    <tr style=\"text-align: right;\">\n",
       "      <th></th>\n",
       "      <th>issuercountrycode</th>\n",
       "      <th>txvariantcode</th>\n",
       "      <th>bin</th>\n",
       "      <th>amount</th>\n",
       "      <th>currencycode</th>\n",
       "      <th>shoppercountrycode</th>\n",
       "      <th>shopperinteraction</th>\n",
       "      <th>cardverificationcodesupplied</th>\n",
       "      <th>cvcresponsecode</th>\n",
       "      <th>accountcode</th>\n",
       "      <th>mail_id</th>\n",
       "      <th>ip_id</th>\n",
       "      <th>card_id</th>\n",
       "      <th>amount_eur</th>\n",
       "      <th>countries_equal</th>\n",
       "    </tr>\n",
       "  </thead>\n",
       "  <tbody>\n",
       "    <tr>\n",
       "      <th>0</th>\n",
       "      <td>49</td>\n",
       "      <td>2</td>\n",
       "      <td>546097.0</td>\n",
       "      <td>4500.0</td>\n",
       "      <td>1</td>\n",
       "      <td>49</td>\n",
       "      <td>1</td>\n",
       "      <td>1</td>\n",
       "      <td>1</td>\n",
       "      <td>3</td>\n",
       "      <td>17805</td>\n",
       "      <td>12538</td>\n",
       "      <td>105460</td>\n",
       "      <td>52.175123</td>\n",
       "      <td>1</td>\n",
       "    </tr>\n",
       "    <tr>\n",
       "      <th>1</th>\n",
       "      <td>49</td>\n",
       "      <td>3</td>\n",
       "      <td>557349.0</td>\n",
       "      <td>3395.0</td>\n",
       "      <td>1</td>\n",
       "      <td>49</td>\n",
       "      <td>1</td>\n",
       "      <td>1</td>\n",
       "      <td>1</td>\n",
       "      <td>3</td>\n",
       "      <td>115620</td>\n",
       "      <td>107432</td>\n",
       "      <td>29882</td>\n",
       "      <td>39.363232</td>\n",
       "      <td>1</td>\n",
       "    </tr>\n",
       "    <tr>\n",
       "      <th>2</th>\n",
       "      <td>49</td>\n",
       "      <td>2</td>\n",
       "      <td>542011.0</td>\n",
       "      <td>3895.0</td>\n",
       "      <td>1</td>\n",
       "      <td>49</td>\n",
       "      <td>1</td>\n",
       "      <td>1</td>\n",
       "      <td>1</td>\n",
       "      <td>3</td>\n",
       "      <td>84651</td>\n",
       "      <td>87293</td>\n",
       "      <td>123743</td>\n",
       "      <td>45.160467</td>\n",
       "      <td>1</td>\n",
       "    </tr>\n",
       "    <tr>\n",
       "      <th>3</th>\n",
       "      <td>49</td>\n",
       "      <td>8</td>\n",
       "      <td>465943.0</td>\n",
       "      <td>15345.0</td>\n",
       "      <td>1</td>\n",
       "      <td>49</td>\n",
       "      <td>0</td>\n",
       "      <td>0</td>\n",
       "      <td>0</td>\n",
       "      <td>3</td>\n",
       "      <td>99845</td>\n",
       "      <td>147089</td>\n",
       "      <td>14712</td>\n",
       "      <td>177.917169</td>\n",
       "      <td>1</td>\n",
       "    </tr>\n",
       "    <tr>\n",
       "      <th>4</th>\n",
       "      <td>49</td>\n",
       "      <td>8</td>\n",
       "      <td>475127.0</td>\n",
       "      <td>5095.0</td>\n",
       "      <td>1</td>\n",
       "      <td>49</td>\n",
       "      <td>1</td>\n",
       "      <td>1</td>\n",
       "      <td>1</td>\n",
       "      <td>3</td>\n",
       "      <td>122624</td>\n",
       "      <td>56390</td>\n",
       "      <td>75841</td>\n",
       "      <td>59.073834</td>\n",
       "      <td>1</td>\n",
       "    </tr>\n",
       "  </tbody>\n",
       "</table>\n",
       "</div>"
      ],
      "text/plain": [
       "   issuercountrycode  txvariantcode       bin   amount  currencycode  \\\n",
       "0                 49              2  546097.0   4500.0             1   \n",
       "1                 49              3  557349.0   3395.0             1   \n",
       "2                 49              2  542011.0   3895.0             1   \n",
       "3                 49              8  465943.0  15345.0             1   \n",
       "4                 49              8  475127.0   5095.0             1   \n",
       "\n",
       "   shoppercountrycode  shopperinteraction  cardverificationcodesupplied  \\\n",
       "0                  49                   1                             1   \n",
       "1                  49                   1                             1   \n",
       "2                  49                   1                             1   \n",
       "3                  49                   0                             0   \n",
       "4                  49                   1                             1   \n",
       "\n",
       "   cvcresponsecode  accountcode  mail_id   ip_id  card_id  amount_eur  \\\n",
       "0                1            3    17805   12538   105460   52.175123   \n",
       "1                1            3   115620  107432    29882   39.363232   \n",
       "2                1            3    84651   87293   123743   45.160467   \n",
       "3                0            3    99845  147089    14712  177.917169   \n",
       "4                1            3   122624   56390    75841   59.073834   \n",
       "\n",
       "  countries_equal  \n",
       "0               1  \n",
       "1               1  \n",
       "2               1  \n",
       "3               1  \n",
       "4               1  "
      ]
     },
     "execution_count": 3,
     "metadata": {},
     "output_type": "execute_result"
    }
   ],
   "source": [
    "def currency_to_eur(row):\n",
    "    currency_dict = {\"BGN\": 1.9558, \"NZD\": 1.6805, \"ILS\": 4.0448, \"RUB\": 72.2099, \"CAD\": 1.5075, \"USD\": 1.1218,\n",
    "                     \"PHP\": 58.125, \"CHF\": 1.1437, \"ZAR\": 16.0224, \"AUD\": 1.5911, \"JPY\": 124.93, \"TRY\": 6.6913,\n",
    "                     \"HKD\": 8.8007, \"MYR\": 4.6314, \"THB\": 35.802, \"HRK\": 7.413, \"NOK\": 9.6678, \"IDR\": 15953.68,\n",
    "                     \"DKK\": 7.4646, \"CZK\": 25.659, \"HUF\": 322.97, \"GBP\": 0.86248, \"MXN\": 21.2829, \"KRW\": 1308.01,\n",
    "                     \"ISK\": 136.2, \"SGD\": 1.5263, \"BRL\": 4.405, \"PLN\": 4.2868, \"INR\": 78.0615, \"RON\": 4.7596,\n",
    "                     \"CNY\": 7.5541, \"SEK\": 10.635}\n",
    "    return row['amount'] / (currency_dict[row['currencycode']] * 100)\n",
    "\n",
    "def process_data(df):\n",
    "    # Work on copy of the original data\n",
    "    df = df.copy()\n",
    "    \n",
    "    # Prepare card id and ip id for plotting\n",
    "    \n",
    "    # 1.Card ID\n",
    "    card_enc = LabelEncoder()\n",
    "    card_enc.fit(df['card_id'])\n",
    "    df['card_id'] = card_enc.transform(df.card_id)\n",
    "\n",
    "    # 2.IP ID\n",
    "    ip_enc = LabelEncoder()\n",
    "    ip_enc.fit(df['ip_id'])\n",
    "    df['ip_id'] = ip_enc.transform(df.ip_id)\n",
    "\n",
    "    # Encoding, Cleaning the data\n",
    "    df.loc[df['cardverificationcodesupplied'].isna(), 'cardverificationcodesupplied'] = False\n",
    "    df.loc[df['issuercountrycode'].isna(), 'issuercountrycode'] = 'ZZ'\n",
    "    df.loc[df['shoppercountrycode'].isna(), 'shoppercountrycode'] = 'ZZ'\n",
    "\n",
    "    unique_issuer_cc = df['issuercountrycode'].unique()\n",
    "    unique_shopper_cc = df['shoppercountrycode'].unique()\n",
    "    both = np.append(unique_issuer_cc, unique_shopper_cc)\n",
    "    df_countrycodes = pd.DataFrame(both)\n",
    "    unique_codes = df_countrycodes[0].unique()\n",
    "    enc = LabelEncoder()\n",
    "    enc.fit(unique_codes)\n",
    "    df['issuercountrycode'] = enc.transform(df.issuercountrycode)\n",
    "    df['shoppercountrycode'] = enc.transform(df.shoppercountrycode)\n",
    "    df['amount_eur'] = df.apply(lambda x: currency_to_eur(x), axis=1)\n",
    "\n",
    "    enc1 = LabelEncoder()\n",
    "    enc1.fit(df['txvariantcode'])\n",
    "    df['txvariantcode'] = enc1.transform(df.txvariantcode)\n",
    "\n",
    "    enc2 = LabelEncoder()\n",
    "    enc2.fit(df['currencycode'])\n",
    "    df['currencycode'] = enc2.transform(df.currencycode)\n",
    "\n",
    "    enc3 = LabelEncoder()\n",
    "    enc3.fit(df['shopperinteraction'])\n",
    "    df['shopperinteraction'] = enc3.transform(df.shopperinteraction)\n",
    "\n",
    "    df['accountcode'] = df['accountcode'].apply(lambda x: re.sub('Account', '', x))\n",
    "    df['accountcode_cc'] = 0\n",
    "    df.loc[(df['accountcode'] == 'UK'), 'accountcode_cc'] = 'GB'\n",
    "    df.loc[(df['accountcode'] == 'Mexico'), 'accountcode_cc'] = 'MX'\n",
    "    df.loc[(df['accountcode'] == 'Sweden'), 'accountcode_cc'] = 'SE'\n",
    "    df.loc[(df['accountcode'] == 'APAC'), 'accountcode_cc'] = 'APAC'\n",
    "\n",
    "    enc4 = LabelEncoder()\n",
    "    enc4.fit(df['accountcode'])\n",
    "    df['accountcode'] = enc4.transform(df.accountcode)\n",
    "\n",
    "    enc5 = LabelEncoder()\n",
    "    enc5.fit(df['cardverificationcodesupplied'])\n",
    "    df['cardverificationcodesupplied'] = enc5.transform(df.cardverificationcodesupplied)\n",
    "\n",
    "    df.loc[df['mail_id'].str.contains('na', case=False), 'mail_id'] = 'email99999'\n",
    "\n",
    "    enc6 = LabelEncoder()\n",
    "    enc6.fit(df['mail_id'])\n",
    "    df['mail_id'] = enc6.transform(df.mail_id)\n",
    "\n",
    "    df.loc[df['cvcresponsecode'] > 2, 'cvcresponsecode'] = 3\n",
    "\n",
    "    #Feature Engineering\n",
    "    df['countries_equal'] = (df['shoppercountrycode'] == df['issuercountrycode'])\n",
    "    df.loc[df['countries_equal'] == False, 'countries_equal'] = 0\n",
    "    df.loc[df['countries_equal'] == True, 'countries_equal'] = 1\n",
    "\n",
    "    return df[['issuercountrycode',\n",
    "             'txvariantcode',\n",
    "             'bin',\n",
    "             'amount',\n",
    "             'currencycode',\n",
    "             'shoppercountrycode',\n",
    "             'shopperinteraction',\n",
    "             'cardverificationcodesupplied',\n",
    "             'cvcresponsecode',\n",
    "             'accountcode',\n",
    "             'mail_id',\n",
    "             'ip_id',\n",
    "             'card_id',\n",
    "             'amount_eur',\n",
    "             'countries_equal']\n",
    "    ]\n",
    "\n",
    "\n",
    "X = process_data(df)\n",
    "X.head()"
   ]
  },
  {
   "cell_type": "markdown",
   "id": "3e45bd39-4d8c-4707-b739-88ab0238dca2",
   "metadata": {},
   "source": [
    "# Exploratory data analysis\n",
    "\n",
    "TODO"
   ]
  },
  {
   "cell_type": "markdown",
   "id": "17968298-3e23-4156-8de0-3e641be25bfc",
   "metadata": {},
   "source": [
    "# Applying machine learning to imbalanced data"
   ]
  },
  {
   "cell_type": "code",
   "execution_count": 22,
   "id": "797ba509-4780-436b-abeb-c38259528f50",
   "metadata": {
    "pycharm": {
     "name": "#%%\n"
    },
    "tags": []
   },
   "outputs": [
    {
     "name": "stdout",
     "output_type": "stream",
     "text": [
      "Benign cases in train set: 151485\n",
      "Benign cases in test set: 37867\n",
      "Fraudulent cases in train set: 217\n",
      "Fraudulent cases in test set: 59\n"
     ]
    }
   ],
   "source": [
    "y = df['label']\n",
    "\n",
    "X_train, X_test, y_train, y_test = train_test_split(X, y, test_size=0.20, random_state=0)\n",
    "\n",
    "print(f\"Benign cases in train set: {len(y_train[y_train == 0])}\")\n",
    "print(f\"Benign cases in test set: {len(y_test[y_test == 0])}\")\n",
    "print(f\"Fraudulent cases in train set: {len(y_train[y_train == 1])}\")\n",
    "print(f\"Fraudulent cases in test set: {len(y_test[y_test == 1])}\")"
   ]
  },
  {
   "cell_type": "markdown",
   "id": "bf901999-0d93-4b91-b4df-17a0ee671428",
   "metadata": {
    "pycharm": {
     "name": "#%% md\n"
    }
   },
   "source": [
    "## Logistic regression"
   ]
  },
  {
   "cell_type": "code",
   "execution_count": 23,
   "id": "610ae514-38d7-4c65-ad66-3ab2550570e1",
   "metadata": {
    "collapsed": false,
    "jupyter": {
     "outputs_hidden": false
    },
    "pycharm": {
     "name": "#%%\n"
    }
   },
   "outputs": [
    {
     "name": "stdout",
     "output_type": "stream",
     "text": [
      "              precision    recall  f1-score   support\n",
      "\n",
      "           0       1.00      1.00      1.00     37867\n",
      "           1       0.00      0.00      0.00        59\n",
      "\n",
      "    accuracy                           1.00     37926\n",
      "   macro avg       0.50      0.50      0.50     37926\n",
      "weighted avg       1.00      1.00      1.00     37926\n",
      "\n",
      "Accuracy: 99.84443389759005\n"
     ]
    },
    {
     "name": "stderr",
     "output_type": "stream",
     "text": [
      "/usr/local/lib/python3.10/site-packages/sklearn/metrics/_classification.py:1318: UndefinedMetricWarning: Precision and F-score are ill-defined and being set to 0.0 in labels with no predicted samples. Use `zero_division` parameter to control this behavior.\n",
      "  _warn_prf(average, modifier, msg_start, len(result))\n",
      "/usr/local/lib/python3.10/site-packages/sklearn/metrics/_classification.py:1318: UndefinedMetricWarning: Precision and F-score are ill-defined and being set to 0.0 in labels with no predicted samples. Use `zero_division` parameter to control this behavior.\n",
      "  _warn_prf(average, modifier, msg_start, len(result))\n",
      "/usr/local/lib/python3.10/site-packages/sklearn/metrics/_classification.py:1318: UndefinedMetricWarning: Precision and F-score are ill-defined and being set to 0.0 in labels with no predicted samples. Use `zero_division` parameter to control this behavior.\n",
      "  _warn_prf(average, modifier, msg_start, len(result))\n"
     ]
    },
    {
     "data": {
      "image/png": "[encoded data removed]",
      "text/plain": [
       "<Figure size 432x288 with 2 Axes>"
      ]
     },
     "metadata": {
      "needs_background": "light"
     },
     "output_type": "display_data"
    }
   ],
   "source": [
    "from sklearn.linear_model import LogisticRegression\n",
    "from sklearn.metrics import plot_confusion_matrix\n",
    "\n",
    "logreg_classifier = LogisticRegression(random_state=0, n_jobs=-1)\n",
    "logreg_classifier.fit(X_train, y_train)\n",
    "\n",
    "y_predictions = logreg_classifier.predict(X_test)\n",
    "\n",
    "print(classification_report(y_test, y_predictions))\n",
    "print(f\"Accuracy: {accuracy_score(y_test, y_predictions) * 100}\")\n",
    "\n",
    "plot_confusion_matrix(logreg_classifier, X_test, y_test)\n",
    "plt.show()"
   ]
  },
  {
   "cell_type": "markdown",
   "id": "28f3d66c-cf89-493f-a9f7-5733f7f05eb0",
   "metadata": {
    "pycharm": {
     "name": "#%% md\n"
    },
    "tags": []
   },
   "source": [
    "## Random forest"
   ]
  },
  {
   "cell_type": "code",
   "execution_count": 24,
   "id": "1781323f-0506-4888-992c-440f2a657f2a",
   "metadata": {
    "pycharm": {
     "name": "#%%\n"
    },
    "tags": []
   },
   "outputs": [
    {
     "name": "stdout",
     "output_type": "stream",
     "text": [
      "              precision    recall  f1-score   support\n",
      "\n",
      "           0       1.00      1.00      1.00     37867\n",
      "           1       0.00      0.00      0.00        59\n",
      "\n",
      "    accuracy                           1.00     37926\n",
      "   macro avg       0.50      0.50      0.50     37926\n",
      "weighted avg       1.00      1.00      1.00     37926\n",
      "\n",
      "Accuracy: 99.84443389759005\n"
     ]
    },
    {
     "name": "stderr",
     "output_type": "stream",
     "text": [
      "/usr/local/lib/python3.10/site-packages/sklearn/metrics/_classification.py:1318: UndefinedMetricWarning: Precision and F-score are ill-defined and being set to 0.0 in labels with no predicted samples. Use `zero_division` parameter to control this behavior.\n",
      "  _warn_prf(average, modifier, msg_start, len(result))\n",
      "/usr/local/lib/python3.10/site-packages/sklearn/metrics/_classification.py:1318: UndefinedMetricWarning: Precision and F-score are ill-defined and being set to 0.0 in labels with no predicted samples. Use `zero_division` parameter to control this behavior.\n",
      "  _warn_prf(average, modifier, msg_start, len(result))\n",
      "/usr/local/lib/python3.10/site-packages/sklearn/metrics/_classification.py:1318: UndefinedMetricWarning: Precision and F-score are ill-defined and being set to 0.0 in labels with no predicted samples. Use `zero_division` parameter to control this behavior.\n",
      "  _warn_prf(average, modifier, msg_start, len(result))\n"
     ]
    },
    {
     "data": {
      "image/png": "[encoded data removed]",
      "text/plain": [
       "<Figure size 432x288 with 2 Axes>"
      ]
     },
     "metadata": {
      "needs_background": "light"
     },
     "output_type": "display_data"
    }
   ],
   "source": [
    "from sklearn.ensemble import RandomForestClassifier\n",
    "\n",
    "forest_classifier = RandomForestClassifier(max_depth=2, random_state=0, n_jobs=-1)\n",
    "forest_classifier.fit(X_train, y_train)\n",
    "\n",
    "y_predictions = forest_classifier.predict(X_test)\n",
    "\n",
    "print(classification_report(y_test, y_predictions))\n",
    "print(f\"Accuracy: {accuracy_score(y_test, y_predictions) * 100}\")\n",
    "\n",
    "plot_confusion_matrix(forest_classifier, X_test, y_test)\n",
    "plt.show()"
   ]
  },
  {
   "cell_type": "markdown",
   "id": "b2eb3247-8564-41bf-a3c2-5195cdde70c5",
   "metadata": {
    "pycharm": {
     "name": "#%% md\n"
    }
   },
   "source": [
    "## Decision tree"
   ]
  },
  {
   "cell_type": "code",
   "execution_count": 29,
   "id": "8f58bf76-95fc-4265-8a03-0b07099be1b0",
   "metadata": {
    "pycharm": {
     "name": "#%%\n"
    },
    "tags": []
   },
   "outputs": [
    {
     "name": "stdout",
     "output_type": "stream",
     "text": [
      "              precision    recall  f1-score   support\n",
      "\n",
      "           0       1.00      1.00      1.00     37867\n",
      "           1       0.00      0.00      0.00        59\n",
      "\n",
      "    accuracy                           1.00     37926\n",
      "   macro avg       0.50      0.50      0.50     37926\n",
      "weighted avg       1.00      1.00      1.00     37926\n",
      "\n",
      "Accuracy: 99.84179718398988\n"
     ]
    },
    {
     "data": {
      "image/png": "[encoded data removed]",
      "text/plain": [
       "<Figure size 432x288 with 2 Axes>"
      ]
     },
     "metadata": {
      "needs_background": "light"
     },
     "output_type": "display_data"
    }
   ],
   "source": [
    "from sklearn.tree import DecisionTreeClassifier\n",
    "\n",
    "dtree_classifier = DecisionTreeClassifier(max_depth=5, random_state=0)\n",
    "dtree_classifier.fit(X_train, y_train)\n",
    "\n",
    "y_predictions = dtree_classifier.predict(X_test)\n",
    "\n",
    "print(classification_report(y_test, y_predictions))\n",
    "print(f\"Accuracy: {accuracy_score(y_test, y_predictions) * 100}\")\n",
    "\n",
    "plot_confusion_matrix(dtree_classifier, X_test, y_test)\n",
    "plt.show()"
   ]
  },
  {
   "cell_type": "markdown",
   "id": "5373ee9b-01de-424f-ad1d-27c0208cea1a",
   "metadata": {
    "pycharm": {
     "name": "#%% md\n"
    }
   },
   "source": [
    "## Conclusions\n",
    "\n",
    "Although the accuracy approaching 100% would be a good sign if classes were evenly distributed, in our case it's misleading since over 99% of the data set consists of entities of benign, while less than 1% is the remaining class of fraud transactions.\n",
    "This leads to the classifiers becoming biased towards classifying all the transactions as benign ones.\n",
    "\n",
    "Looking at precision and recall reveals that in case of logistic regression and random forest classifiers not a single fraud transaction was determined correctly in the test set.\n",
    "In case of decision tree classifier the probability of successfully detecting a fraudulent case (recall) is low and revolves around 22%.\n",
    "Also, among all the cases marked as fraudulent, only 18% were indeed fraudulent (precision of 18%).\n",
    "\n",
    "This means that without additional tweaking and data set modifications, the aforementioned machine learning methods are not applicable for determining fraud. \n"
   ]
  },
  {
   "cell_type": "markdown",
   "id": "034f4e87-9bae-4831-b38f-e24e367d7c5d",
   "metadata": {
    "pycharm": {
     "name": "#%% md\n"
    }
   },
   "source": [
    "# Handling imbalanced data with SMOTE\n",
    "\n",
    "Author: Konrad Ponichtera"
   ]
  },
  {
   "cell_type": "markdown",
   "id": "2553a11d-c19d-451c-a529-e3d4995205f1",
   "metadata": {},
   "source": [
    "## Generating synthetic samples"
   ]
  },
  {
   "cell_type": "code",
   "execution_count": 30,
   "id": "66f5244d-1af7-47f2-8887-34a0d95b500e",
   "metadata": {
    "pycharm": {
     "is_executing": true,
     "name": "#%%\n"
    },
    "tags": []
   },
   "outputs": [
    {
     "name": "stdout",
     "output_type": "stream",
     "text": [
      "Benign cases in train set: 151485\n",
      "Benign cases in test set: 37867\n",
      "Fraudulent cases in train set: 217\n",
      "Fraudulent cases in test set: 59\n",
      "Starting SMOTE run for 217 samples\n",
      "SMOTE ran for 210.7744174003601 seconds and generated 43400 synthetic samples\n",
      "Benign cases in train set after SMOTE: 151485\n",
      "Fraudulent cases in train set after SMOTE: 43617\n"
     ]
    },
    {
     "data": {
      "text/html": [
       "<div>\n",
       "<style scoped>\n",
       "    .dataframe tbody tr th:only-of-type {\n",
       "        vertical-align: middle;\n",
       "    }\n",
       "\n",
       "    .dataframe tbody tr th {\n",
       "        vertical-align: top;\n",
       "    }\n",
       "\n",
       "    .dataframe thead th {\n",
       "        text-align: right;\n",
       "    }\n",
       "</style>\n",
       "<table border=\"1\" class=\"dataframe\">\n",
       "  <thead>\n",
       "    <tr style=\"text-align: right;\">\n",
       "      <th></th>\n",
       "      <th>issuercountrycode</th>\n",
       "      <th>txvariantcode</th>\n",
       "      <th>bin</th>\n",
       "      <th>amount</th>\n",
       "      <th>currencycode</th>\n",
       "      <th>shoppercountrycode</th>\n",
       "      <th>shopperinteraction</th>\n",
       "      <th>cardverificationcodesupplied</th>\n",
       "      <th>cvcresponsecode</th>\n",
       "      <th>accountcode</th>\n",
       "      <th>mail_id</th>\n",
       "      <th>ip_id</th>\n",
       "      <th>card_id</th>\n",
       "      <th>amount_eur</th>\n",
       "      <th>countries_equal</th>\n",
       "    </tr>\n",
       "  </thead>\n",
       "  <tbody>\n",
       "    <tr>\n",
       "      <th>0</th>\n",
       "      <td>100.0</td>\n",
       "      <td>6.0</td>\n",
       "      <td>434017.867227</td>\n",
       "      <td>188454.888516</td>\n",
       "      <td>2.0</td>\n",
       "      <td>100.0</td>\n",
       "      <td>1.0</td>\n",
       "      <td>1.0</td>\n",
       "      <td>0.0</td>\n",
       "      <td>1.0</td>\n",
       "      <td>163420.747119</td>\n",
       "      <td>157298.368689</td>\n",
       "      <td>48254.56435</td>\n",
       "      <td>88.547561</td>\n",
       "      <td>1.0</td>\n",
       "    </tr>\n",
       "    <tr>\n",
       "      <th>0</th>\n",
       "      <td>100.0</td>\n",
       "      <td>6.0</td>\n",
       "      <td>474979.665881</td>\n",
       "      <td>199288.685889</td>\n",
       "      <td>2.0</td>\n",
       "      <td>100.0</td>\n",
       "      <td>1.0</td>\n",
       "      <td>1.0</td>\n",
       "      <td>0.0</td>\n",
       "      <td>1.0</td>\n",
       "      <td>166081.843441</td>\n",
       "      <td>154130.73853</td>\n",
       "      <td>23241.406877</td>\n",
       "      <td>93.637937</td>\n",
       "      <td>1.0</td>\n",
       "    </tr>\n",
       "    <tr>\n",
       "      <th>0</th>\n",
       "      <td>100.0</td>\n",
       "      <td>7.943711</td>\n",
       "      <td>477253.583567</td>\n",
       "      <td>187606.029277</td>\n",
       "      <td>2.0</td>\n",
       "      <td>100.0</td>\n",
       "      <td>1.0</td>\n",
       "      <td>1.0</td>\n",
       "      <td>0.0</td>\n",
       "      <td>1.0</td>\n",
       "      <td>153818.491064</td>\n",
       "      <td>156092.997431</td>\n",
       "      <td>55448.421759</td>\n",
       "      <td>88.148715</td>\n",
       "      <td>1.0</td>\n",
       "    </tr>\n",
       "    <tr>\n",
       "      <th>0</th>\n",
       "      <td>100.0</td>\n",
       "      <td>6.0</td>\n",
       "      <td>456245.22131</td>\n",
       "      <td>170769.220153</td>\n",
       "      <td>2.0</td>\n",
       "      <td>100.0</td>\n",
       "      <td>1.0</td>\n",
       "      <td>1.0</td>\n",
       "      <td>0.0</td>\n",
       "      <td>1.0</td>\n",
       "      <td>133478.744772</td>\n",
       "      <td>153219.375404</td>\n",
       "      <td>41093.091099</td>\n",
       "      <td>80.237759</td>\n",
       "      <td>1.0</td>\n",
       "    </tr>\n",
       "    <tr>\n",
       "      <th>0</th>\n",
       "      <td>100.0</td>\n",
       "      <td>6.0</td>\n",
       "      <td>464604.77417</td>\n",
       "      <td>182340.200612</td>\n",
       "      <td>2.0</td>\n",
       "      <td>100.0</td>\n",
       "      <td>1.0</td>\n",
       "      <td>1.0</td>\n",
       "      <td>0.0</td>\n",
       "      <td>1.0</td>\n",
       "      <td>146488.601639</td>\n",
       "      <td>153510.379796</td>\n",
       "      <td>33441.636113</td>\n",
       "      <td>85.674509</td>\n",
       "      <td>1.0</td>\n",
       "    </tr>\n",
       "  </tbody>\n",
       "</table>\n",
       "</div>"
      ],
      "text/plain": [
       "  issuercountrycode txvariantcode            bin         amount currencycode  \\\n",
       "0             100.0           6.0  434017.867227  188454.888516          2.0   \n",
       "0             100.0           6.0  474979.665881  199288.685889          2.0   \n",
       "0             100.0      7.943711  477253.583567  187606.029277          2.0   \n",
       "0             100.0           6.0   456245.22131  170769.220153          2.0   \n",
       "0             100.0           6.0   464604.77417  182340.200612          2.0   \n",
       "\n",
       "  shoppercountrycode shopperinteraction cardverificationcodesupplied  \\\n",
       "0              100.0                1.0                          1.0   \n",
       "0              100.0                1.0                          1.0   \n",
       "0              100.0                1.0                          1.0   \n",
       "0              100.0                1.0                          1.0   \n",
       "0              100.0                1.0                          1.0   \n",
       "\n",
       "  cvcresponsecode accountcode        mail_id          ip_id       card_id  \\\n",
       "0             0.0         1.0  163420.747119  157298.368689   48254.56435   \n",
       "0             0.0         1.0  166081.843441   154130.73853  23241.406877   \n",
       "0             0.0         1.0  153818.491064  156092.997431  55448.421759   \n",
       "0             0.0         1.0  133478.744772  153219.375404  41093.091099   \n",
       "0             0.0         1.0  146488.601639  153510.379796  33441.636113   \n",
       "\n",
       "  amount_eur countries_equal  \n",
       "0  88.547561             1.0  \n",
       "0  93.637937             1.0  \n",
       "0  88.148715             1.0  \n",
       "0  80.237759             1.0  \n",
       "0  85.674509             1.0  "
      ]
     },
     "execution_count": 30,
     "metadata": {},
     "output_type": "execute_result"
    }
   ],
   "source": [
    "# Ignoring the FutureWarning which is internally thrown by NearestNeighbors\n",
    "warnings.simplefilter(action='ignore', category=FutureWarning)\n",
    "\n",
    "\n",
    "def smote(X, N=100, k=5, random_state=None):\n",
    "    if random_state is not None:\n",
    "        rng = random.Random(random_state)\n",
    "    else:\n",
    "        rng = random.Random()\n",
    "\n",
    "    assert N >= 100\n",
    "    N = N // 100\n",
    "    \n",
    "    column_names = X.columns\n",
    "    new_samples = pd.DataFrame(columns=column_names)\n",
    "    X = X.to_numpy()\n",
    "\n",
    "    knn = NearestNeighbors(n_neighbors=k)\n",
    "    knn.fit(X)\n",
    "\n",
    "    for x in X:\n",
    "        nnarray = knn.kneighbors([x], k, return_distance=False)[0]\n",
    "        \n",
    "        # Populate\n",
    "        for _ in range(N):\n",
    "            nn = rng.randrange(0, k)\n",
    "            \n",
    "            neighbor_item = X[nnarray[nn]]\n",
    "            \n",
    "            diff = neighbor_item - x\n",
    "            gap = rng.uniform(0, 1)\n",
    "            new_item = x + gap * diff\n",
    "            \n",
    "            new_samples = pd.concat([new_samples, pd.DataFrame(new_item.reshape(1, -1), columns=column_names)])\n",
    "        \n",
    "    return new_samples\n",
    "\n",
    "\n",
    "y = df['label']\n",
    "\n",
    "X_train, X_test, y_train, y_test = train_test_split(X, y, test_size=0.2, random_state=0)\n",
    "\n",
    "print(f\"Benign cases in train set: {len(y_train[y_train == 0])}\")\n",
    "print(f\"Benign cases in test set: {len(y_test[y_test == 0])}\")\n",
    "print(f\"Fraudulent cases in train set: {len(y_train[y_train == 1])}\")\n",
    "print(f\"Fraudulent cases in test set: {len(y_test[y_test == 1])}\")\n",
    "\n",
    "X_train_fraud = X_train.loc[y_train == 1]\n",
    "\n",
    "print(f\"Starting SMOTE run for {len(X_train_fraud)} samples\")\n",
    "start = time.time()\n",
    "X_fraud_smote = smote(X_train_fraud.copy(), N=20000, random_state=0)\n",
    "smote_time = time.time() - start\n",
    "\n",
    "print(f\"SMOTE ran for {smote_time} seconds and generated {len(X_fraud_smote)} synthetic samples\")\n",
    "\n",
    "X_train = pd.concat([X_train, X_fraud_smote])\n",
    "y_train = pd.concat([\n",
    "    y_train,\n",
    "    pd.Series(1, index=range(len(X_fraud_smote)))\n",
    "])\n",
    "\n",
    "X_train, y_train = shuffle(X_train, y_train, random_state=0)\n",
    "\n",
    "print(f\"Benign cases in train set after SMOTE: {len(y_train[y_train == 0])}\")\n",
    "print(f\"Fraudulent cases in train set after SMOTE: {len(y_train[y_train == 1])}\")\n",
    "\n",
    "X_fraud_smote.head()"
   ]
  },
  {
   "cell_type": "markdown",
   "id": "168ddd37-46c3-4578-ab91-f24144c9b1b1",
   "metadata": {},
   "source": [
    "# Applying machine learning to synthetic data"
   ]
  },
  {
   "cell_type": "markdown",
   "id": "05c0039f-9bd9-423e-862e-717114187325",
   "metadata": {
    "tags": []
   },
   "source": [
    "## Logistic regression"
   ]
  },
  {
   "cell_type": "code",
   "execution_count": 31,
   "id": "4183f356-c95e-4509-816a-90ad5caf41bc",
   "metadata": {},
   "outputs": [
    {
     "name": "stdout",
     "output_type": "stream",
     "text": [
      "              precision    recall  f1-score   support\n",
      "\n",
      "           0       1.00      0.96      0.98     37867\n",
      "           1       0.02      0.53      0.04        59\n",
      "\n",
      "    accuracy                           0.96     37926\n",
      "   macro avg       0.51      0.74      0.51     37926\n",
      "weighted avg       1.00      0.96      0.98     37926\n",
      "\n",
      "Accuracy: 96.31651110056426\n"
     ]
    },
    {
     "data": {
      "image/png": "[encoded data removed]",
      "text/plain": [
       "<Figure size 432x288 with 2 Axes>"
      ]
     },
     "metadata": {
      "needs_background": "light"
     },
     "output_type": "display_data"
    }
   ],
   "source": [
    "logreg_classifier = LogisticRegression(random_state=0, n_jobs=-1)\n",
    "logreg_classifier.fit(X_train, y_train)\n",
    "\n",
    "y_predictions = logreg_classifier.predict(X_test)\n",
    "y_predictions_proba = logreg_classifier.predict_proba(X_test)[:, 1]\n",
    "\n",
    "print(classification_report(y_test, y_predictions))\n",
    "print(f\"Accuracy: {accuracy_score(y_test, y_predictions) * 100}\")\n",
    "\n",
    "y_score = logreg_classifier.decision_function(X_test)\n",
    "\n",
    "logreg_fpr, logreg_tpr, _ = roc_curve(y_test, y_predictions_proba)\n",
    "logreg_roc_auc = auc(logreg_fpr, logreg_tpr)\n",
    "\n",
    "plot_confusion_matrix(logreg_classifier, X_test, y_test)\n",
    "plt.show()"
   ]
  },
  {
   "cell_type": "markdown",
   "id": "ba40c903-5de6-4ce5-914d-4eef759af796",
   "metadata": {},
   "source": [
    "## Random forest"
   ]
  },
  {
   "cell_type": "code",
   "execution_count": 32,
   "id": "08e5cfa3-361e-4f8e-bad0-fe9139ede69b",
   "metadata": {
    "tags": []
   },
   "outputs": [
    {
     "name": "stdout",
     "output_type": "stream",
     "text": [
      "              precision    recall  f1-score   support\n",
      "\n",
      "           0       1.00      1.00      1.00     37867\n",
      "           1       0.20      0.17      0.18        59\n",
      "\n",
      "    accuracy                           1.00     37926\n",
      "   macro avg       0.60      0.58      0.59     37926\n",
      "weighted avg       1.00      1.00      1.00     37926\n",
      "\n",
      "Accuracy: 99.76269577598481\n"
     ]
    },
    {
     "data": {
      "image/png": "[encoded data removed]",
      "text/plain": [
       "<Figure size 432x288 with 2 Axes>"
      ]
     },
     "metadata": {
      "needs_background": "light"
     },
     "output_type": "display_data"
    }
   ],
   "source": [
    "forest_classifier = RandomForestClassifier(random_state=0, n_jobs=-1)\n",
    "forest_classifier.fit(X_train, y_train)\n",
    "\n",
    "y_predictions = forest_classifier.predict(X_test)\n",
    "y_predictions_proba = forest_classifier.predict_proba(X_test)[:, 1]\n",
    "\n",
    "print(classification_report(y_test, y_predictions))\n",
    "print(f\"Accuracy: {accuracy_score(y_test, y_predictions) * 100}\")\n",
    "\n",
    "forest_fpr, forest_tpr, _ = roc_curve(y_test, y_predictions_proba)\n",
    "forest_roc_auc = auc(forest_fpr, forest_tpr)\n",
    "\n",
    "plot_confusion_matrix(forest_classifier, X_test, y_test)\n",
    "plt.show()"
   ]
  },
  {
   "cell_type": "markdown",
   "id": "8b2199b7-088a-45c5-a3b1-e7cfdb86086f",
   "metadata": {},
   "source": [
    "## Decision tree"
   ]
  },
  {
   "cell_type": "code",
   "execution_count": 34,
   "id": "04e9106b-5fd9-41f5-9322-1a774ba8918e",
   "metadata": {},
   "outputs": [
    {
     "name": "stdout",
     "output_type": "stream",
     "text": [
      "              precision    recall  f1-score   support\n",
      "\n",
      "           0       1.00      0.94      0.97     37867\n",
      "           1       0.02      0.69      0.04        59\n",
      "\n",
      "    accuracy                           0.94     37926\n",
      "   macro avg       0.51      0.82      0.50     37926\n",
      "weighted avg       1.00      0.94      0.97     37926\n",
      "\n",
      "Accuracy: 94.09903496282233\n"
     ]
    },
    {
     "data": {
      "image/png": "[encoded data removed]",
      "text/plain": [
       "<Figure size 432x288 with 2 Axes>"
      ]
     },
     "metadata": {
      "needs_background": "light"
     },
     "output_type": "display_data"
    }
   ],
   "source": [
    "dtree_classifier = DecisionTreeClassifier(max_depth=5, random_state=0)\n",
    "dtree_classifier.fit(X_train, y_train)\n",
    "\n",
    "y_predictions = dtree_classifier.predict(X_test)\n",
    "y_predictions_prob = dtree_classifier.predict_proba(X_test)[:, 1]\n",
    "\n",
    "print(classification_report(y_test, y_predictions))\n",
    "print(f\"Accuracy: {accuracy_score(y_test, y_predictions) * 100}\")\n",
    "\n",
    "dtree_fpr, dtree_tpr, _ = roc_curve(y_test, y_predictions_prob)\n",
    "dtree_roc_auc = auc(dtree_fpr, dtree_tpr)\n",
    "\n",
    "plot_confusion_matrix(dtree_classifier, X_test, y_test)\n",
    "plt.show()"
   ]
  },
  {
   "cell_type": "markdown",
   "id": "827adbc4-e973-4d41-92e1-7a81efc11963",
   "metadata": {
    "tags": []
   },
   "source": [
    "## Comparison"
   ]
  },
  {
   "cell_type": "code",
   "execution_count": 35,
   "id": "68a37938-c388-4253-9116-2dc53e4fc12f",
   "metadata": {},
   "outputs": [
    {
     "data": {
      "image/png": "[encoded data removed]",
      "text/plain": [
       "<Figure size 432x288 with 1 Axes>"
      ]
     },
     "metadata": {
      "needs_background": "light"
     },
     "output_type": "display_data"
    }
   ],
   "source": [
    "plt.figure(0).clf()\n",
    "plt.plot(logreg_fpr, logreg_tpr, label=f\"Logistic regression (AUC = {logreg_roc_auc})\")\n",
    "plt.plot(dtree_fpr, dtree_tpr, label=f\"Decision tree (AUC = {dtree_roc_auc})\")\n",
    "plt.plot(forest_fpr, forest_tpr, label=f\"Random forest (AUC = {forest_roc_auc})\")\n",
    "plt.legend()\n",
    "plt.show()"
   ]
  },
  {
   "cell_type": "markdown",
   "id": "48df5b94-8713-4d9f-9aa5-7d33c985e939",
   "metadata": {},
   "source": [
    "## Conclusions"
   ]
  },
  {
   "cell_type": "markdown",
   "id": "c11d20da-50c3-41e7-be5a-cfb2f3b7cffd",
   "metadata": {
    "tags": []
   },
   "source": [
    "Although all of the used machine learning methods performed poorly when used with the original data set, using SMOTE to generate synthetic instances of the minority class drastically increased the precision and recall of the classifiers when used to detect frauds.\n",
    "\n",
    "All classifiers managed to correctly classify all the benign transactions.\n",
    "Logistic regression managed to misclassify little amount of benign transaction as fraudulent ones (99% precision), but it also managed to detect all the actual fraudulent transactions (100% recall).\n",
    "On the other hand, random forest didn't mark any benign transaction as fradulent (100% precision), but managed to miss some fraudulent transactions and classify them as benign (99% recall).\n",
    "Although decision tree seemed to perform better than the other classifiers when used with the unbalanced data set, its performance is now slightly worse than the one of logistic regression and random forest classifiers.\n",
    "It both misclassified some benign transactions as fraudulent (98% precision) and missed several fraudulent ones (95% recall).\n",
    "\n",
    "In conclusion, SMOTE is extremely effective in dealing with imbalanced data."
   ]
  },
  {
   "cell_type": "markdown",
   "id": "44252700-be1d-4520-9650-c16e2e497953",
   "metadata": {},
   "source": [
    "# Classification"
   ]
  },
  {
   "cell_type": "code",
   "execution_count": 38,
   "id": "08eba2f5-fde0-4f00-9e69-ffe79967fee4",
   "metadata": {},
   "outputs": [
    {
     "name": "stdout",
     "output_type": "stream",
     "text": [
      "Benign cases in train set: 151485\n",
      "Benign cases in test set: 37867\n",
      "Fraudulent cases in train set: 217\n",
      "Fraudulent cases in test set: 59\n",
      "Benign cases in train set after SMOTE: 151485\n",
      "Fraudulent cases in train set after SMOTE: 151485\n"
     ]
    }
   ],
   "source": [
    "X_train, X_test, y_train, y_test = train_test_split(X, y, test_size=0.20, random_state=0)\n",
    "\n",
    "print(f\"Benign cases in train set: {len(y_train[y_train == 0])}\")\n",
    "print(f\"Benign cases in test set: {len(y_test[y_test == 0])}\")\n",
    "print(f\"Fraudulent cases in train set: {len(y_train[y_train == 1])}\")\n",
    "print(f\"Fraudulent cases in test set: {len(y_test[y_test == 1])}\")\n",
    "\n",
    "smote = SMOTE(random_state=0, sampling_strategy='minority')\n",
    "X_train, y_train = smote.fit_resample(X_train, y_train)\n",
    "\n",
    "print(f\"Benign cases in train set after SMOTE: {len(y_train[y_train == 0])}\")\n",
    "print(f\"Fraudulent cases in train set after SMOTE: {len(y_train[y_train == 1])}\")"
   ]
  },
  {
   "cell_type": "code",
   "execution_count": 39,
   "id": "4fcb98a7-8312-45a2-8883-267333577a4d",
   "metadata": {
    "tags": []
   },
   "outputs": [],
   "source": [
    "def k_fold_validation(X, y, model, scoring='precision', fold_count=10):\n",
    "    cv = KFold(n_splits=fold_count, random_state=0, shuffle=True)\n",
    "    scores = cross_validate(model, X, y, scoring=scoring, return_estimator=True, cv=cv, n_jobs=-1)\n",
    "    max_score_index = np.argmax(scores['test_score'])\n",
    "    \n",
    "    return scores['estimator'][max_score_index]"
   ]
  },
  {
   "cell_type": "markdown",
   "id": "e8af2e0a-64f8-4e33-8b2b-efc112f02d1b",
   "metadata": {
    "tags": []
   },
   "source": [
    "## Whitebox classifier - decision tree"
   ]
  },
  {
   "cell_type": "code",
   "execution_count": 40,
   "id": "5a1fe239-0023-48db-9925-798981fcdbae",
   "metadata": {
    "tags": []
   },
   "outputs": [
    {
     "name": "stdout",
     "output_type": "stream",
     "text": [
      "              precision    recall  f1-score   support\n",
      "\n",
      "           0       1.00      0.91      0.95     37867\n",
      "           1       0.01      0.80      0.03        59\n",
      "\n",
      "    accuracy                           0.91     37926\n",
      "   macro avg       0.51      0.85      0.49     37926\n",
      "weighted avg       1.00      0.91      0.95     37926\n",
      "\n",
      "Accuracy: 91.10372831303064\n"
     ]
    },
    {
     "data": {
      "image/png": "[encoded data removed]",
      "text/plain": [
       "<Figure size 432x288 with 2 Axes>"
      ]
     },
     "metadata": {
      "needs_background": "light"
     },
     "output_type": "display_data"
    }
   ],
   "source": [
    "from sklearn.model_selection import cross_val_score, cross_val_predict\n",
    "\n",
    "dtree_classifier = DecisionTreeClassifier(max_depth=2, random_state=0)\n",
    "dtree_classifier = k_fold_validation(X_train, y_train, dtree_classifier)\n",
    "\n",
    "y_predictions = dtree_classifier.predict(X_test)\n",
    "y_predictions_proba = dtree_classifier.predict_proba(X_test)[:, 1]\n",
    "\n",
    "print(classification_report(y_test, y_predictions))\n",
    "print(f\"Accuracy: {accuracy_score(y_test, y_predictions) * 100}\")\n",
    "\n",
    "dtree_fpr, dtree_tpr, _ = roc_curve(y_test, y_predictions_proba)\n",
    "dtree_roc_auc = auc(dtree_fpr, dtree_tpr)\n",
    "\n",
    "plot_confusion_matrix(dtree_classifier, X_test, y_test)\n",
    "plt.show()"
   ]
  },
  {
   "cell_type": "markdown",
   "id": "c90d0e1d-5224-4a69-93f1-1c203795b3f9",
   "metadata": {},
   "source": [
    "### Explaining the whitebox classifier"
   ]
  },
  {
   "cell_type": "code",
   "execution_count": 42,
   "id": "c045f8a4-47a8-4362-97cd-39a811605315",
   "metadata": {},
   "outputs": [
    {
     "data": {
      "image/png": "[encoded data removed]",
      "text/plain": [
       "<Figure size 1440x576 with 1 Axes>"
      ]
     },
     "metadata": {
      "needs_background": "light"
     },
     "output_type": "display_data"
    },
    {
     "name": "stdout",
     "output_type": "stream",
     "text": [
      "Example transaction, classified as fraud:\n",
      "issuercountrycode                       49\n",
      "txvariantcode                            3\n",
      "bin                               532916.0\n",
      "amount                             38614.0\n",
      "currencycode                             1\n",
      "shoppercountrycode                      49\n",
      "shopperinteraction                       1\n",
      "cardverificationcodesupplied             0\n",
      "cvcresponsecode                          1\n",
      "accountcode                              3\n",
      "mail_id                              36936\n",
      "ip_id                                14117\n",
      "card_id                             106840\n",
      "amount_eur                      447.708932\n",
      "countries_equal                          1\n",
      "predicted_label                          0\n",
      "Name: 71148, dtype: object\n"
     ]
    }
   ],
   "source": [
    "from sklearn.tree import plot_tree\n",
    "\n",
    "plt.figure(figsize=(20, 8))\n",
    "plot_tree(dtree_classifier, feature_names=X_train.columns, class_names=['Benign', 'Fraud'], impurity=False)\n",
    "plt.show()\n",
    "\n",
    "X_test_withpredictions = X_test.copy()\n",
    "X_test_withpredictions['predicted_label'] = y_predictions\n",
    "X_test_withpredictions.query('predicted_label==1')\n",
    "predicted_fraud = X_test_withpredictions.iloc[0]\n",
    "\n",
    "print(\"Example transaction, classified as fraud:\")\n",
    "print(predicted_fraud)"
   ]
  },
  {
   "cell_type": "markdown",
   "id": "3d3fb94b-fd5f-4e63-ad09-426c506b6a73",
   "metadata": {
    "tags": []
   },
   "source": [
    "## Blackbox classifier - AdaBoost"
   ]
  },
  {
   "cell_type": "code",
   "execution_count": 43,
   "id": "cf6a7e27-b36a-405e-b0dc-6599e9bcb428",
   "metadata": {},
   "outputs": [
    {
     "name": "stdout",
     "output_type": "stream",
     "text": [
      "              precision    recall  f1-score   support\n",
      "\n",
      "           0       1.00      1.00      1.00     37867\n",
      "           1       0.27      0.19      0.22        59\n",
      "\n",
      "    accuracy                           1.00     37926\n",
      "   macro avg       0.63      0.59      0.61     37926\n",
      "weighted avg       1.00      1.00      1.00     37926\n",
      "\n",
      "Accuracy: 99.79433633918684\n"
     ]
    },
    {
     "data": {
      "image/png": "[encoded data removed]",
      "text/plain": [
       "<Figure size 432x288 with 2 Axes>"
      ]
     },
     "metadata": {
      "needs_background": "light"
     },
     "output_type": "display_data"
    }
   ],
   "source": [
    "from sklearn.ensemble import AdaBoostClassifier\n",
    "\n",
    "forest_classifier = RandomForestClassifier(random_state=0, n_jobs=-1, n_estimators=10)\n",
    "\n",
    "adaboost_classifier = AdaBoostClassifier(base_estimator=forest_classifier, random_state=0, n_estimators=20)\n",
    "adaboost_classifier = k_fold_validation(X_train, y_train, adaboost_classifier)\n",
    "\n",
    "y_predictions = adaboost_classifier.predict(X_test)\n",
    "y_predictions_proba = adaboost_classifier.predict_proba(X_test)[:, 1]\n",
    "\n",
    "print(classification_report(y_test, y_predictions))\n",
    "print(f\"Accuracy: {accuracy_score(y_test, y_predictions) * 100}\")\n",
    "\n",
    "adaboost_fpr, adaboost_tpr, _ = roc_curve(y_test, y_predictions_proba)\n",
    "adaboost_roc_auc = auc(adaboost_fpr, adaboost_tpr)\n",
    "\n",
    "plot_confusion_matrix(adaboost_classifier, X_test, y_test)\n",
    "plt.show()"
   ]
  },
  {
   "cell_type": "markdown",
   "id": "eb4ea055-5247-416d-b051-217d20b5a37b",
   "metadata": {
    "tags": []
   },
   "source": [
    "## Comparison"
   ]
  },
  {
   "cell_type": "code",
   "execution_count": 44,
   "id": "82a719b6-cee3-478a-90c4-f48fb5fd77b8",
   "metadata": {
    "tags": []
   },
   "outputs": [
    {
     "data": {
      "image/png": "[encoded data removed]",
      "text/plain": [
       "<Figure size 432x288 with 1 Axes>"
      ]
     },
     "metadata": {
      "needs_background": "light"
     },
     "output_type": "display_data"
    }
   ],
   "source": [
    "plt.figure(0).clf()\n",
    "plt.plot(dtree_fpr, dtree_tpr, label=f\"Decision tree (AUC = {dtree_roc_auc})\")\n",
    "plt.plot(adaboost_fpr, adaboost_tpr, label=f\"AdaBoost (AUC = {adaboost_roc_auc})\")\n",
    "plt.legend()\n",
    "plt.show()"
   ]
  },
  {
   "cell_type": "markdown",
   "id": "8441b9b5-4290-4242-a22b-4eb13536e62d",
   "metadata": {},
   "source": [
    "## Using best classifier for Kaggle competition"
   ]
  },
  {
   "cell_type": "code",
   "execution_count": 45,
   "id": "4cc5b89f-a85f-46c9-86d2-6cb5bc8b6cda",
   "metadata": {
    "tags": []
   },
   "outputs": [],
   "source": [
    "df_kaggle = pd.read_csv(\"data/test_data.csv\")\n",
    "df_kaggle_processed = process_data(df_kaggle)\n",
    "\n",
    "clf = adaboost_classifier\n",
    "\n",
    "y_predictions = clf.predict_proba(df_kaggle_processed)\n",
    "\n",
    "df_submission = pd.DataFrame({'Id': df_kaggle['Id'], 'Predicted': y_predictions[:, 1]})\n",
    "df_submission.to_csv(\"submission.csv\", index=False)"
   ]
  },
  {
   "cell_type": "code",
   "execution_count": null,
   "id": "5d44fe17-f5ad-4e36-9ab0-030c9ba6547b",
   "metadata": {},
   "outputs": [],
   "source": []
  }
 ],
 "metadata": {
  "kernelspec": {
   "display_name": "Python 3 (ipykernel)",
   "language": "python",
   "name": "python3"
  },
  "language_info": {
   "codemirror_mode": {
    "name": "ipython",
    "version": 3
   },
   "file_extension": ".py",
   "mimetype": "text/x-python",
   "name": "python",
   "nbconvert_exporter": "python",
   "pygments_lexer": "ipython3",
   "version": "3.10.4"
  }
 },
 "nbformat": 4,
 "nbformat_minor": 5
}
